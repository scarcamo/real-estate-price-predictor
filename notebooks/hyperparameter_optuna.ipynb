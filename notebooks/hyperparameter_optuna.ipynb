{
 "cells": [
  {
   "cell_type": "code",
   "execution_count": 4,
   "metadata": {},
   "outputs": [],
   "source": [
    "import warnings\n",
    "import logging\n",
    "import optuna\n",
    "\n",
    "optuna.logging.set_verbosity(optuna.logging.WARNING)\n",
    "logging.getLogger(\"optuna\").setLevel(logging.ERROR)\n",
    "\n",
    "\n",
    "warnings.filterwarnings('ignore', category=UserWarning, module='optuna')\n",
    "warnings.filterwarnings('ignore', message='.*Trial .* is omitted in visualization.*')\n",
    "\n",
    "STUDY_DB_PATH = \"sqlite:///../optuna_studies/tuning.db\"\n",
    "\n"
   ]
  },
  {
   "cell_type": "code",
   "execution_count": 5,
   "metadata": {},
   "outputs": [
    {
     "name": "stdout",
     "output_type": "stream",
     "text": [
      "Found 66 studies in the database:\n",
      " 1. LightGBM_rfecv_all_nfeat_60_pca_count_mape_v1_study\n",
      " 2. LightGBM_rfecv_all_nfeat_80_nonpca_count_mape_v1_study\n",
      " 3. LightGBM_rfecv_base_poi_pano_nfeat_160_nonpca_count_loc_mape_v1_study\n",
      " 4. LightGBM_rfecv_base_nfeat_118_nonpca_count_loc_mape_v1_study\n",
      " 5. LightGBM_rfecv_base_nfeat_117_nonpca_count_loc_mape_v1_study\n",
      " 6. LightGBM_rfecv_all_nfeat_152_nonpca_count_loc_mape_v1_study\n",
      " 7. LightGBM_comb_all_nfeat_201_pca_count_loc_mape_v1_study\n",
      " 8. LightGBM_elasticnet_all_nfeat_296_pca_scaled_count_loc_mape_v1_study\n",
      " 9. LightGBM_rfecv_base_nfeat_112_nonpca_count_loc_mape_v2_study\n",
      "10. XGBoost_rfecv_base_nfeat_112_nonpca_count_loc_mape_v2_study\n",
      "11. LightGBM_rfecv_base_nfeat_112_nonpca_count_loc_mape_v3_study\n",
      "12. LightGBM_comb_all_nfeat_201_pca_count_loc_mape_v3_study\n",
      "13. LightGBM_rfecv_all_nfeat_152_nonpca_count_loc_mape_v3_study\n",
      "14. LightGBM_rfecv_all_nfeat_160_umap_count_loc_mape_v1_study\n",
      "15. LightGBM_rfecv_all_nfeat_160_pca_count_loc_mape_v1_study\n",
      "16. LightGBM_rfecv_all_nfeat_158_umap_count_loc_mape_v2_study\n",
      "17. LightGBM_rfecv_all_nfeat_158_umap_count_loc_mape_v4_study\n",
      "18. LightGBM_rfecv_all_nfeat_158_umap_count_loc_mape_v3_study\n",
      "19. LightGBM_rfecv_all_nfeat_158_pca_count_loc_mape_v3_study\n",
      "20. LightGBM_rfecv_base_nfeat_110_nonpca_count_loc_mape_v5_study\n",
      "21. LightGBM_rfecv_base_poi_pano_nfeat_158_nonpca_count_loc_mape_v5_study\n",
      "22. LightGBM_rfecv_all_nfeat_158_umap_count_loc_mape_v5_study\n",
      "23. LightGBM_rfecv_all_nfeat_158_pca_count_loc_mape_v5_study\n",
      "24. LightGBM_rfecv_base_nfeat_56_nonpca_count_loc_mape_v5_study\n",
      "25. LightGBM_rfecv_all_nfeat_158_pca_count_loc_mape_v6_study\n",
      "26. LightGBM_rfecv_base_nfeat_56_nonpca_count_loc_mape_v6_study\n",
      "27. LightGBM_rfecv_all_nfeat_158_umap_count_loc_mape_v6_study\n",
      "28. LightGBM_rfecv_all_nfeat_158_pca_count_loc_mape_v7_study\n",
      "29. LightGBM_rfecv_base_nfeat_56_nonpca_count_loc_mape_v7_study\n",
      "30. LightGBM_rfecv_base_poi_pano_nfeat_158_nonpca_count_loc_mape_v7_study\n",
      "31. LightGBM_rfecv_all_nfeat_158_umap_count_loc_mape_v7_study\n",
      "32. LightGBM_rfecv_base_img_nfeat_56_pca_count_loc_mape_v7_study\n",
      "33. LightGBM_rfecv_base_img_nfeat_56_pca_count_mape_v7_study\n",
      "34. LightGBM_rfecv_all_nfeat_158_pca_count_loc_mape_v8_study\n",
      "35. LightGBM_rfecv_base_nfeat_56_nonpca_count_mape_v8_study\n",
      "36. LightGBM_rfecv_base_poi_pano_nfeat_158_nonpca_count_loc_mape_v8_study\n",
      "37. LightGBM_rfecv_all_nfeat_158_pca_count_loc_mape_v9_study\n",
      "38. LightGBM_rfecv_base_nfeat_56_nonpca_count_mape_v9_study\n",
      "39. LightGBM_rfecv_base_poi_pano_nfeat_158_nonpca_count_loc_mape_v9_study\n",
      "40. LightGBM_rfecv_base_img_nfeat_56_pca_count_mape_v9_study\n",
      "41. XGBoost_rfecv_all_nfeat_158_pca_count_loc_mape_v7_study\n",
      "42. RandomForest_rfecv_all_nfeat_158_pca_count_loc_mape_v7_study\n",
      "43. XGBoostQuantile_rfecv_all_nfeat_158_pca_count_loc_mape_v7_study\n",
      "44. XGBoost_rfecv_base_nfeat_56_nonpca_count_mape_v7_study\n",
      "45. XGBoostQuantile_rfecv_base_nfeat_56_nonpca_count_mape_v7_study\n",
      "46. XGBoost_rfecv_base_poi_pano_nfeat_158_nonpca_count_loc_mape_v7_study\n",
      "47. XGBoostQuantile_rfecv_base_poi_pano_nfeat_158_nonpca_count_loc_mape_v7_study\n",
      "48. XGBoost_rfecv_base_img_nfeat_56_pca_count_mape_v7_study\n",
      "49. XGBoostQuantile_rfecv_base_img_nfeat_56_pca_count_mape_v7_study\n",
      "50. LightGBM_rfecv_base_img_nfeat_56_pca_count_50_mape_v8_study\n",
      "51. XGBoost_rfecv_all_nfeat_158_pca_count_loc_mape_v1_study\n",
      "52. XGBoostQuantile_rfecv_all_nfeat_158_pca_count_loc_mape_v1_study\n",
      "53. RandomForest_rfecv_all_nfeat_158_pca_count_loc_mape_v1_study\n",
      "54. XGBoost_rfecv_all_nfeat_158_pca_count_loc_mape_v8_study\n",
      "55. XGBoostQuantile_rfecv_all_nfeat_158_pca_count_loc_mape_v8_study\n",
      "56. XGBoost_rfecv_base_nfeat_56_nonpca_count_mape_v8_study\n",
      "57. XGBoostQuantile_rfecv_base_nfeat_56_nonpca_count_mape_v8_study\n",
      "58. XGBoost_rfecv_base_poi_pano_nfeat_158_nonpca_count_loc_mape_v8_study\n",
      "59. XGBoostQuantile_rfecv_base_poi_pano_nfeat_158_nonpca_count_loc_mape_v8_study\n",
      "60. XGBoost_rfecv_base_img_nfeat_56_pca_count_mape_v8_study\n",
      "61. RandomForest_rfecv_all_nfeat_158_pca_count_loc_mape_v8_study\n",
      "62. RandomForest_rfecv_base_nfeat_56_nonpca_count_mape_v8_study\n",
      "63. RandomForest_rfecv_base_poi_pano_nfeat_158_nonpca_count_loc_mape_v8_study\n",
      "64. RandomForest_rfecv_base_img_nfeat_56_pca_count_mape_v8_study\n",
      "65. LightGBM_rfecv_base_img_nfeat_56_pca_count_mape_v8_study\n",
      "66. XGBoostQuantile_rfecv_base_img_nfeat_56_pca_count_mape_v8_study\n",
      "\n",
      "Database path: sqlite:///../optuna_studies/tuning.db\n"
     ]
    }
   ],
   "source": [
    "def get_all_study_names(storage_url):\n",
    "    \"\"\"\n",
    "    Get all study names from the Optuna database.\n",
    "    \n",
    "    Args:\n",
    "        storage_url (str): The storage URL for the Optuna database\n",
    "        \n",
    "    Returns:\n",
    "        list: List of all study names in the database\n",
    "    \"\"\"\n",
    "    import sqlite3\n",
    "    import urllib.parse\n",
    "    \n",
    "    # Parse the storage URL to get the database path\n",
    "    if storage_url.startswith(\"sqlite:///\"):\n",
    "        db_path = storage_url[10:]  # Remove \"sqlite:///\" prefix\n",
    "    else:\n",
    "        raise ValueError(f\"Unsupported storage URL format: {storage_url}\")\n",
    "    \n",
    "    try:\n",
    "        # Connect to the SQLite database\n",
    "        conn = sqlite3.connect(db_path)\n",
    "        cursor = conn.cursor()\n",
    "        \n",
    "        # Query the studies table to get all study names\n",
    "        cursor.execute(\"SELECT study_name FROM studies\")\n",
    "        study_names = [row[0] for row in cursor.fetchall()]\n",
    "        \n",
    "        conn.close()\n",
    "        return study_names\n",
    "        \n",
    "    except sqlite3.Error as e:\n",
    "        print(f\"Database error: {e}\")\n",
    "        return []\n",
    "    except Exception as e:\n",
    "        print(f\"Error: {e}\")\n",
    "        return []\n",
    "\n",
    "# Get all available study names from the database\n",
    "all_study_names = get_all_study_names(STUDY_DB_PATH)\n",
    "print(f\"Found {len(all_study_names)} studies in the database:\")\n",
    "for i, name in enumerate(all_study_names, 1):\n",
    "    print(f\"{i:2d}. {name}\")\n",
    "    \n",
    "print(f\"\\nDatabase path: {STUDY_DB_PATH}\")\n"
   ]
  },
  {
   "cell_type": "code",
   "execution_count": null,
   "metadata": {},
   "outputs": [],
   "source": []
  },
  {
   "cell_type": "code",
   "execution_count": 6,
   "metadata": {},
   "outputs": [
    {
     "data": {
      "application/vnd.plotly.v1+json": {
       "config": {
        "plotlyServerURL": "https://plot.ly"
       },
       "data": [
        {
         "marker": {
          "size": 4
         },
         "mode": "markers",
         "name": "LightGBM_rfecv_all_nfeat_158_pca_count_loc_mape_v8_study (trials)",
         "showlegend": false,
         "type": "scatter",
         "xaxis": "x",
         "y": [
          0.06457851281490593,
          0.06407736856518226,
          null,
          null,
          null,
          null,
          null,
          null,
          0.06215956655320058,
          0.06371294418238299,
          null,
          null,
          null,
          null,
          0.060565904625392165,
          null,
          null,
          null,
          null,
          null,
          null,
          null,
          null,
          0.060186083449198305,
          null,
          0.060057183430695424,
          0.06020600084808618,
          null,
          0.060086943882373664,
          0.06011340360323465,
          null,
          null,
          null,
          null,
          null,
          null,
          null,
          null,
          null,
          null,
          null,
          0.06017658231152149,
          null,
          null,
          null,
          null,
          null,
          null,
          0.060148933723793964,
          null,
          0.060057343057652465,
          null,
          null,
          null,
          null,
          null,
          null,
          null,
          null,
          null,
          null,
          null,
          null,
          null,
          null,
          null,
          null,
          null,
          null,
          null,
          null,
          0.06030385388742136,
          0.06005597653517738,
          null,
          0.06014167870562106,
          null,
          null,
          null,
          null,
          null,
          0.05995912168475799,
          null,
          null,
          null,
          null,
          null,
          null,
          null,
          null,
          null,
          null,
          null,
          null,
          0.06006543650025884,
          null,
          0.060016158321039216,
          null,
          null,
          0.06003760405668601,
          0.0599074328502152
         ],
         "yaxis": "y"
        },
        {
         "line": {
          "color": "red"
         },
         "name": "LightGBM_rfecv_all_nfeat_158_pca_count_loc_mape_v8_study (best)",
         "showlegend": false,
         "type": "scatter",
         "xaxis": "x",
         "y": [
          0.06457851281490593,
          0.06407736856518226,
          0.06407736856518226,
          0.06407736856518226,
          0.06407736856518226,
          0.06407736856518226,
          0.06407736856518226,
          0.06407736856518226,
          0.06215956655320058,
          0.06215956655320058,
          0.06215956655320058,
          0.06215956655320058,
          0.06215956655320058,
          0.06215956655320058,
          0.060565904625392165,
          0.060565904625392165,
          0.060565904625392165,
          0.060565904625392165,
          0.060565904625392165,
          0.060565904625392165,
          0.060565904625392165,
          0.060565904625392165,
          0.060565904625392165,
          0.060186083449198305,
          0.060186083449198305,
          0.060057183430695424,
          0.060057183430695424,
          0.060057183430695424,
          0.060057183430695424,
          0.060057183430695424,
          0.060057183430695424,
          0.060057183430695424,
          0.060057183430695424,
          0.060057183430695424,
          0.060057183430695424,
          0.060057183430695424,
          0.060057183430695424,
          0.060057183430695424,
          0.060057183430695424,
          0.060057183430695424,
          0.060057183430695424,
          0.060057183430695424,
          0.060057183430695424,
          0.060057183430695424,
          0.060057183430695424,
          0.060057183430695424,
          0.060057183430695424,
          0.060057183430695424,
          0.060057183430695424,
          0.060057183430695424,
          0.060057183430695424,
          0.060057183430695424,
          0.060057183430695424,
          0.060057183430695424,
          0.060057183430695424,
          0.060057183430695424,
          0.060057183430695424,
          0.060057183430695424,
          0.060057183430695424,
          0.060057183430695424,
          0.060057183430695424,
          0.060057183430695424,
          0.060057183430695424,
          0.060057183430695424,
          0.060057183430695424,
          0.060057183430695424,
          0.060057183430695424,
          0.060057183430695424,
          0.060057183430695424,
          0.060057183430695424,
          0.060057183430695424,
          0.060057183430695424,
          0.06005597653517738,
          0.06005597653517738,
          0.06005597653517738,
          0.06005597653517738,
          0.06005597653517738,
          0.06005597653517738,
          0.06005597653517738,
          0.06005597653517738,
          0.05995912168475799,
          0.05995912168475799,
          0.05995912168475799,
          0.05995912168475799,
          0.05995912168475799,
          0.05995912168475799,
          0.05995912168475799,
          0.05995912168475799,
          0.05995912168475799,
          0.05995912168475799,
          0.05995912168475799,
          0.05995912168475799,
          0.05995912168475799,
          0.05995912168475799,
          0.05995912168475799,
          0.05995912168475799,
          0.05995912168475799,
          0.05995912168475799,
          0.05995912168475799,
          0.0599074328502152
         ],
         "yaxis": "y"
        },
        {
         "marker": {
          "size": 4
         },
         "mode": "markers",
         "name": "LightGBM_rfecv_base_nfeat_56_nonpca_count_mape_v8_study (trials)",
         "showlegend": false,
         "type": "scatter",
         "xaxis": "x2",
         "y": [
          null,
          0.08831346572435009,
          null,
          0.0742448100279354,
          null,
          null,
          0.08890626582812752,
          null,
          null,
          null,
          null,
          null,
          null,
          null,
          0.07220408484421123,
          null,
          null,
          null,
          null,
          null,
          null,
          null,
          null,
          0.07358082125427866,
          null,
          0.0734035291703646,
          null,
          null,
          null,
          null,
          null,
          null,
          null,
          null,
          null,
          0.07265527632758001,
          null,
          0.07224387662339331,
          0.07222059932820267,
          0.07245954777426541,
          0.0723388897678766,
          0.07220214990691579,
          0.07210029397809985,
          0.07201933326231626,
          null,
          null,
          0.07191881630861391,
          null,
          0.07179048585316747,
          0.07199917224809388,
          null,
          0.07215909123016183,
          null,
          0.07181781086561564,
          null,
          0.07180831800113037,
          0.07194559569668454,
          0.07191510401671071,
          0.07138690188163738,
          0.07174330148281317,
          null,
          null,
          null,
          null,
          null,
          0.0716371813062375,
          0.071386823170133,
          0.07147056513457244,
          null,
          0.07132676325625602,
          0.07120326643457925,
          0.07119569900740881,
          null,
          null,
          null,
          null,
          0.07136167238540034,
          0.07105380378215656,
          0.07117609814761654,
          0.07116066744248367,
          0.07127468009517454,
          0.07116406930168598,
          null,
          null,
          null,
          0.07153533315533629,
          null,
          null,
          0.07111307421261216,
          0.0714544795686535,
          0.07129612553900448,
          0.07107515229087631,
          0.07137025151897118,
          0.07107725909950229,
          0.07106868546225362,
          0.07115355921651131,
          0.07132505743330633,
          null,
          0.07104934136206102,
          0.07100747512300365
         ],
         "yaxis": "y2"
        },
        {
         "line": {
          "color": "red"
         },
         "name": "LightGBM_rfecv_base_nfeat_56_nonpca_count_mape_v8_study (best)",
         "showlegend": false,
         "type": "scatter",
         "xaxis": "x2",
         "y": [
          null,
          0.08831346572435009,
          0.08831346572435009,
          0.0742448100279354,
          0.0742448100279354,
          0.0742448100279354,
          0.0742448100279354,
          0.0742448100279354,
          0.0742448100279354,
          0.0742448100279354,
          0.0742448100279354,
          0.0742448100279354,
          0.0742448100279354,
          0.0742448100279354,
          0.07220408484421123,
          0.07220408484421123,
          0.07220408484421123,
          0.07220408484421123,
          0.07220408484421123,
          0.07220408484421123,
          0.07220408484421123,
          0.07220408484421123,
          0.07220408484421123,
          0.07220408484421123,
          0.07220408484421123,
          0.07220408484421123,
          0.07220408484421123,
          0.07220408484421123,
          0.07220408484421123,
          0.07220408484421123,
          0.07220408484421123,
          0.07220408484421123,
          0.07220408484421123,
          0.07220408484421123,
          0.07220408484421123,
          0.07220408484421123,
          0.07220408484421123,
          0.07220408484421123,
          0.07220408484421123,
          0.07220408484421123,
          0.07220408484421123,
          0.07220214990691579,
          0.07210029397809985,
          0.07201933326231626,
          0.07201933326231626,
          0.07201933326231626,
          0.07191881630861391,
          0.07191881630861391,
          0.07179048585316747,
          0.07179048585316747,
          0.07179048585316747,
          0.07179048585316747,
          0.07179048585316747,
          0.07179048585316747,
          0.07179048585316747,
          0.07179048585316747,
          0.07179048585316747,
          0.07179048585316747,
          0.07138690188163738,
          0.07138690188163738,
          0.07138690188163738,
          0.07138690188163738,
          0.07138690188163738,
          0.07138690188163738,
          0.07138690188163738,
          0.07138690188163738,
          0.071386823170133,
          0.071386823170133,
          0.071386823170133,
          0.07132676325625602,
          0.07120326643457925,
          0.07119569900740881,
          0.07119569900740881,
          0.07119569900740881,
          0.07119569900740881,
          0.07119569900740881,
          0.07119569900740881,
          0.07105380378215656,
          0.07105380378215656,
          0.07105380378215656,
          0.07105380378215656,
          0.07105380378215656,
          0.07105380378215656,
          0.07105380378215656,
          0.07105380378215656,
          0.07105380378215656,
          0.07105380378215656,
          0.07105380378215656,
          0.07105380378215656,
          0.07105380378215656,
          0.07105380378215656,
          0.07105380378215656,
          0.07105380378215656,
          0.07105380378215656,
          0.07105380378215656,
          0.07105380378215656,
          0.07105380378215656,
          0.07105380378215656,
          0.07104934136206102,
          0.07100747512300365
         ],
         "yaxis": "y2"
        },
        {
         "marker": {
          "size": 4
         },
         "mode": "markers",
         "name": "LightGBM_rfecv_base_poi_pano_nfeat_158_nonpca_count_loc_mape_v8_study (trials)",
         "showlegend": false,
         "type": "scatter",
         "xaxis": "x3",
         "y": [
          0.06375501890267625,
          null,
          null,
          null,
          null,
          0.07373358069932681,
          0.06258944587315352,
          null,
          null,
          0.062185261354809986,
          null,
          null,
          null,
          null,
          null,
          null,
          0.06198318718060564,
          null,
          null,
          0.06265137116508654,
          null,
          null,
          null,
          null,
          null,
          null,
          0.06217313400554728,
          0.06261171621617788,
          null,
          null,
          null,
          null,
          null,
          null,
          null,
          0.061812096569869156,
          null,
          null,
          null,
          null,
          null,
          null,
          0.061473255388985834,
          null,
          null,
          0.061671541011278384,
          null,
          null,
          0.061491340355253624,
          null,
          0.06128374749069145,
          0.06189783755196589,
          null,
          null,
          null,
          null,
          null,
          0.06154252327907219,
          null,
          null,
          null,
          0.061446563005982,
          null,
          null,
          null,
          null,
          null,
          null,
          null,
          0.06140111380985351,
          null,
          0.06147999607750147,
          0.06130768644571501,
          0.061279899529796324,
          null,
          0.06144219309475768,
          0.06131316931494237,
          0.06142750699378937,
          null,
          0.06134717109347594,
          null,
          0.06139895926886527,
          null,
          0.061402284398021714,
          0.061513650857095405,
          null,
          null,
          null,
          0.06137351631583062,
          null,
          0.06143949779661948,
          null,
          null,
          null,
          null,
          null,
          null,
          null,
          null,
          0.06144058217646163
         ],
         "yaxis": "y3"
        },
        {
         "line": {
          "color": "red"
         },
         "name": "LightGBM_rfecv_base_poi_pano_nfeat_158_nonpca_count_loc_mape_v8_study (best)",
         "showlegend": false,
         "type": "scatter",
         "xaxis": "x3",
         "y": [
          0.06375501890267625,
          0.06375501890267625,
          0.06375501890267625,
          0.06375501890267625,
          0.06375501890267625,
          0.06375501890267625,
          0.06258944587315352,
          0.06258944587315352,
          0.06258944587315352,
          0.062185261354809986,
          0.062185261354809986,
          0.062185261354809986,
          0.062185261354809986,
          0.062185261354809986,
          0.062185261354809986,
          0.062185261354809986,
          0.06198318718060564,
          0.06198318718060564,
          0.06198318718060564,
          0.06198318718060564,
          0.06198318718060564,
          0.06198318718060564,
          0.06198318718060564,
          0.06198318718060564,
          0.06198318718060564,
          0.06198318718060564,
          0.06198318718060564,
          0.06198318718060564,
          0.06198318718060564,
          0.06198318718060564,
          0.06198318718060564,
          0.06198318718060564,
          0.06198318718060564,
          0.06198318718060564,
          0.06198318718060564,
          0.061812096569869156,
          0.061812096569869156,
          0.061812096569869156,
          0.061812096569869156,
          0.061812096569869156,
          0.061812096569869156,
          0.061812096569869156,
          0.061473255388985834,
          0.061473255388985834,
          0.061473255388985834,
          0.061473255388985834,
          0.061473255388985834,
          0.061473255388985834,
          0.061473255388985834,
          0.061473255388985834,
          0.06128374749069145,
          0.06128374749069145,
          0.06128374749069145,
          0.06128374749069145,
          0.06128374749069145,
          0.06128374749069145,
          0.06128374749069145,
          0.06128374749069145,
          0.06128374749069145,
          0.06128374749069145,
          0.06128374749069145,
          0.06128374749069145,
          0.06128374749069145,
          0.06128374749069145,
          0.06128374749069145,
          0.06128374749069145,
          0.06128374749069145,
          0.06128374749069145,
          0.06128374749069145,
          0.06128374749069145,
          0.06128374749069145,
          0.06128374749069145,
          0.06128374749069145,
          0.061279899529796324,
          0.061279899529796324,
          0.061279899529796324,
          0.061279899529796324,
          0.061279899529796324,
          0.061279899529796324,
          0.061279899529796324,
          0.061279899529796324,
          0.061279899529796324,
          0.061279899529796324,
          0.061279899529796324,
          0.061279899529796324,
          0.061279899529796324,
          0.061279899529796324,
          0.061279899529796324,
          0.061279899529796324,
          0.061279899529796324,
          0.061279899529796324,
          0.061279899529796324,
          0.061279899529796324,
          0.061279899529796324,
          0.061279899529796324,
          0.061279899529796324,
          0.061279899529796324,
          0.061279899529796324,
          0.061279899529796324,
          0.061279899529796324
         ],
         "yaxis": "y3"
        },
        {
         "marker": {
          "size": 4
         },
         "mode": "markers",
         "name": "LightGBM_rfecv_base_img_nfeat_56_pca_count_50_mape_v8_study (trials)",
         "showlegend": false,
         "type": "scatter",
         "xaxis": "x4",
         "y": [
          null,
          0.0798181048348423,
          0.07388921724949553,
          0.09996894240864602,
          0.07487697242825168,
          0.09144832622793071,
          0.09660310530817215,
          0.08693573501512854,
          null,
          0.07435696048414187,
          null,
          null,
          null,
          null,
          0.07343796780801976,
          null,
          null,
          null,
          null,
          null,
          null,
          null,
          0.07396153618245671,
          null,
          null,
          0.0740801681143642,
          null,
          null,
          null,
          null,
          null,
          0.0738528540129294,
          null,
          null,
          null,
          null,
          null,
          null,
          null,
          null,
          0.07351479889083216,
          null,
          null,
          null,
          null,
          0.07365721413342098,
          null,
          null,
          null,
          null,
          null,
          0.07325741515654505,
          null,
          0.07313490368806581,
          null,
          null,
          0.07357911975132078,
          null,
          0.07370002421720594,
          null,
          null,
          null,
          null,
          null,
          null,
          null,
          null,
          null,
          null,
          null,
          null,
          null,
          0.07343015722211894,
          0.07337174469095137,
          0.0733149114567592,
          null,
          0.07300855874508058,
          0.07342112124718461,
          0.07319049464960725,
          0.07313645662490356,
          null,
          0.0733805000020192,
          0.07323974791366909,
          null,
          null,
          null,
          null,
          0.0731877673060857,
          0.07329732435867006,
          0.07311310300922272,
          0.0731206717046106,
          null
         ],
         "yaxis": "y4"
        },
        {
         "line": {
          "color": "red"
         },
         "name": "LightGBM_rfecv_base_img_nfeat_56_pca_count_50_mape_v8_study (best)",
         "showlegend": false,
         "type": "scatter",
         "xaxis": "x4",
         "y": [
          null,
          0.0798181048348423,
          0.07388921724949553,
          0.07388921724949553,
          0.07388921724949553,
          0.07388921724949553,
          0.07388921724949553,
          0.07388921724949553,
          0.07388921724949553,
          0.07388921724949553,
          0.07388921724949553,
          0.07388921724949553,
          0.07388921724949553,
          0.07388921724949553,
          0.07343796780801976,
          0.07343796780801976,
          0.07343796780801976,
          0.07343796780801976,
          0.07343796780801976,
          0.07343796780801976,
          0.07343796780801976,
          0.07343796780801976,
          0.07343796780801976,
          0.07343796780801976,
          0.07343796780801976,
          0.07343796780801976,
          0.07343796780801976,
          0.07343796780801976,
          0.07343796780801976,
          0.07343796780801976,
          0.07343796780801976,
          0.07343796780801976,
          0.07343796780801976,
          0.07343796780801976,
          0.07343796780801976,
          0.07343796780801976,
          0.07343796780801976,
          0.07343796780801976,
          0.07343796780801976,
          0.07343796780801976,
          0.07343796780801976,
          0.07343796780801976,
          0.07343796780801976,
          0.07343796780801976,
          0.07343796780801976,
          0.07343796780801976,
          0.07343796780801976,
          0.07343796780801976,
          0.07343796780801976,
          0.07343796780801976,
          0.07343796780801976,
          0.07325741515654505,
          0.07325741515654505,
          0.07313490368806581,
          0.07313490368806581,
          0.07313490368806581,
          0.07313490368806581,
          0.07313490368806581,
          0.07313490368806581,
          0.07313490368806581,
          0.07313490368806581,
          0.07313490368806581,
          0.07313490368806581,
          0.07313490368806581,
          0.07313490368806581,
          0.07313490368806581,
          0.07313490368806581,
          0.07313490368806581,
          0.07313490368806581,
          0.07313490368806581,
          0.07313490368806581,
          0.07313490368806581,
          0.07313490368806581,
          0.07313490368806581,
          0.07313490368806581,
          0.07313490368806581,
          0.07300855874508058,
          0.07300855874508058,
          0.07300855874508058,
          0.07300855874508058,
          0.07300855874508058,
          0.07300855874508058,
          0.07300855874508058,
          0.07300855874508058,
          0.07300855874508058,
          0.07300855874508058,
          0.07300855874508058,
          0.07300855874508058,
          0.07300855874508058,
          0.07300855874508058,
          0.07300855874508058,
          0.07300855874508058
         ],
         "yaxis": "y4"
        },
        {
         "marker": {
          "size": 4
         },
         "mode": "markers",
         "name": "LightGBM_rfecv_base_img_nfeat_56_pca_count_mape_v8_study (trials)",
         "showlegend": false,
         "type": "scatter",
         "xaxis": "x5",
         "y": [
          0.07246103122189183,
          null,
          0.08140474155729216,
          0.08436971892568036,
          0.07292475136840186,
          null,
          null,
          0.07915821227905286,
          null,
          null,
          null,
          null,
          null,
          null,
          null,
          null,
          null,
          null,
          null,
          null,
          null,
          null,
          null,
          null,
          null,
          null,
          null,
          null,
          null,
          null,
          null,
          null,
          0.07275350035974062,
          null,
          null,
          0.07332445086206185,
          null,
          null,
          null,
          null,
          null,
          null,
          null,
          null,
          null,
          null,
          null,
          null,
          null,
          null,
          0.07281904831845,
          null,
          null,
          null,
          0.07281657624083272,
          0.07259492407403305,
          0.07276587056863447,
          null,
          0.07272972447002848,
          0.07276524995232224,
          null,
          0.07255496415669371,
          null,
          0.07258362372889068,
          null,
          null,
          null,
          null,
          null,
          null,
          null,
          0.07260424952977843,
          null,
          0.072570220568422,
          null,
          null,
          null,
          null,
          null,
          null,
          0.07260850822442386,
          null,
          0.07251536320457432,
          null,
          null,
          0.0725408773677653,
          null,
          null,
          0.0724578664313359,
          null,
          null,
          null,
          null,
          null,
          null,
          null,
          0.07246876533642932,
          null,
          0.07252197045649747,
          0.07257217384700365
         ],
         "yaxis": "y5"
        },
        {
         "line": {
          "color": "red"
         },
         "name": "LightGBM_rfecv_base_img_nfeat_56_pca_count_mape_v8_study (best)",
         "showlegend": false,
         "type": "scatter",
         "xaxis": "x5",
         "y": [
          0.07246103122189183,
          0.07246103122189183,
          0.07246103122189183,
          0.07246103122189183,
          0.07246103122189183,
          0.07246103122189183,
          0.07246103122189183,
          0.07246103122189183,
          0.07246103122189183,
          0.07246103122189183,
          0.07246103122189183,
          0.07246103122189183,
          0.07246103122189183,
          0.07246103122189183,
          0.07246103122189183,
          0.07246103122189183,
          0.07246103122189183,
          0.07246103122189183,
          0.07246103122189183,
          0.07246103122189183,
          0.07246103122189183,
          0.07246103122189183,
          0.07246103122189183,
          0.07246103122189183,
          0.07246103122189183,
          0.07246103122189183,
          0.07246103122189183,
          0.07246103122189183,
          0.07246103122189183,
          0.07246103122189183,
          0.07246103122189183,
          0.07246103122189183,
          0.07246103122189183,
          0.07246103122189183,
          0.07246103122189183,
          0.07246103122189183,
          0.07246103122189183,
          0.07246103122189183,
          0.07246103122189183,
          0.07246103122189183,
          0.07246103122189183,
          0.07246103122189183,
          0.07246103122189183,
          0.07246103122189183,
          0.07246103122189183,
          0.07246103122189183,
          0.07246103122189183,
          0.07246103122189183,
          0.07246103122189183,
          0.07246103122189183,
          0.07246103122189183,
          0.07246103122189183,
          0.07246103122189183,
          0.07246103122189183,
          0.07246103122189183,
          0.07246103122189183,
          0.07246103122189183,
          0.07246103122189183,
          0.07246103122189183,
          0.07246103122189183,
          0.07246103122189183,
          0.07246103122189183,
          0.07246103122189183,
          0.07246103122189183,
          0.07246103122189183,
          0.07246103122189183,
          0.07246103122189183,
          0.07246103122189183,
          0.07246103122189183,
          0.07246103122189183,
          0.07246103122189183,
          0.07246103122189183,
          0.07246103122189183,
          0.07246103122189183,
          0.07246103122189183,
          0.07246103122189183,
          0.07246103122189183,
          0.07246103122189183,
          0.07246103122189183,
          0.07246103122189183,
          0.07246103122189183,
          0.07246103122189183,
          0.07246103122189183,
          0.07246103122189183,
          0.07246103122189183,
          0.07246103122189183,
          0.07246103122189183,
          0.07246103122189183,
          0.0724578664313359,
          0.0724578664313359,
          0.0724578664313359,
          0.0724578664313359,
          0.0724578664313359,
          0.0724578664313359,
          0.0724578664313359,
          0.0724578664313359,
          0.0724578664313359,
          0.0724578664313359,
          0.0724578664313359,
          0.0724578664313359
         ],
         "yaxis": "y5"
        }
       ],
       "layout": {
        "annotations": [
         {
          "font": {
           "size": 16
          },
          "showarrow": false,
          "text": "LightGBM all 158 pca v8",
          "x": 0.225,
          "xanchor": "center",
          "xref": "paper",
          "y": 0.9999999999999999,
          "yanchor": "bottom",
          "yref": "paper"
         },
         {
          "font": {
           "size": 16
          },
          "showarrow": false,
          "text": "LightGBM base 56 nonpca v8",
          "x": 0.775,
          "xanchor": "center",
          "xref": "paper",
          "y": 0.9999999999999999,
          "yanchor": "bottom",
          "yref": "paper"
         },
         {
          "font": {
           "size": 16
          },
          "showarrow": false,
          "text": "LightGBM base_poi_pano 158 nonpca v8",
          "x": 0.225,
          "xanchor": "center",
          "xref": "paper",
          "y": 0.6166666666666666,
          "yanchor": "bottom",
          "yref": "paper"
         },
         {
          "font": {
           "size": 16
          },
          "showarrow": false,
          "text": "LightGBM base_img 56 pca v8",
          "x": 0.775,
          "xanchor": "center",
          "xref": "paper",
          "y": 0.6166666666666666,
          "yanchor": "bottom",
          "yref": "paper"
         },
         {
          "font": {
           "size": 16
          },
          "showarrow": false,
          "text": "LightGBM base_img 56 pca v8",
          "x": 0.225,
          "xanchor": "center",
          "xref": "paper",
          "y": 0.2333333333333333,
          "yanchor": "bottom",
          "yref": "paper"
         }
        ],
        "height": 800,
        "template": {
         "data": {
          "bar": [
           {
            "error_x": {
             "color": "#2a3f5f"
            },
            "error_y": {
             "color": "#2a3f5f"
            },
            "marker": {
             "line": {
              "color": "#E5ECF6",
              "width": 0.5
             },
             "pattern": {
              "fillmode": "overlay",
              "size": 10,
              "solidity": 0.2
             }
            },
            "type": "bar"
           }
          ],
          "barpolar": [
           {
            "marker": {
             "line": {
              "color": "#E5ECF6",
              "width": 0.5
             },
             "pattern": {
              "fillmode": "overlay",
              "size": 10,
              "solidity": 0.2
             }
            },
            "type": "barpolar"
           }
          ],
          "carpet": [
           {
            "aaxis": {
             "endlinecolor": "#2a3f5f",
             "gridcolor": "white",
             "linecolor": "white",
             "minorgridcolor": "white",
             "startlinecolor": "#2a3f5f"
            },
            "baxis": {
             "endlinecolor": "#2a3f5f",
             "gridcolor": "white",
             "linecolor": "white",
             "minorgridcolor": "white",
             "startlinecolor": "#2a3f5f"
            },
            "type": "carpet"
           }
          ],
          "choropleth": [
           {
            "colorbar": {
             "outlinewidth": 0,
             "ticks": ""
            },
            "type": "choropleth"
           }
          ],
          "contour": [
           {
            "colorbar": {
             "outlinewidth": 0,
             "ticks": ""
            },
            "colorscale": [
             [
              0,
              "#0d0887"
             ],
             [
              0.1111111111111111,
              "#46039f"
             ],
             [
              0.2222222222222222,
              "#7201a8"
             ],
             [
              0.3333333333333333,
              "#9c179e"
             ],
             [
              0.4444444444444444,
              "#bd3786"
             ],
             [
              0.5555555555555556,
              "#d8576b"
             ],
             [
              0.6666666666666666,
              "#ed7953"
             ],
             [
              0.7777777777777778,
              "#fb9f3a"
             ],
             [
              0.8888888888888888,
              "#fdca26"
             ],
             [
              1,
              "#f0f921"
             ]
            ],
            "type": "contour"
           }
          ],
          "contourcarpet": [
           {
            "colorbar": {
             "outlinewidth": 0,
             "ticks": ""
            },
            "type": "contourcarpet"
           }
          ],
          "heatmap": [
           {
            "colorbar": {
             "outlinewidth": 0,
             "ticks": ""
            },
            "colorscale": [
             [
              0,
              "#0d0887"
             ],
             [
              0.1111111111111111,
              "#46039f"
             ],
             [
              0.2222222222222222,
              "#7201a8"
             ],
             [
              0.3333333333333333,
              "#9c179e"
             ],
             [
              0.4444444444444444,
              "#bd3786"
             ],
             [
              0.5555555555555556,
              "#d8576b"
             ],
             [
              0.6666666666666666,
              "#ed7953"
             ],
             [
              0.7777777777777778,
              "#fb9f3a"
             ],
             [
              0.8888888888888888,
              "#fdca26"
             ],
             [
              1,
              "#f0f921"
             ]
            ],
            "type": "heatmap"
           }
          ],
          "histogram": [
           {
            "marker": {
             "pattern": {
              "fillmode": "overlay",
              "size": 10,
              "solidity": 0.2
             }
            },
            "type": "histogram"
           }
          ],
          "histogram2d": [
           {
            "colorbar": {
             "outlinewidth": 0,
             "ticks": ""
            },
            "colorscale": [
             [
              0,
              "#0d0887"
             ],
             [
              0.1111111111111111,
              "#46039f"
             ],
             [
              0.2222222222222222,
              "#7201a8"
             ],
             [
              0.3333333333333333,
              "#9c179e"
             ],
             [
              0.4444444444444444,
              "#bd3786"
             ],
             [
              0.5555555555555556,
              "#d8576b"
             ],
             [
              0.6666666666666666,
              "#ed7953"
             ],
             [
              0.7777777777777778,
              "#fb9f3a"
             ],
             [
              0.8888888888888888,
              "#fdca26"
             ],
             [
              1,
              "#f0f921"
             ]
            ],
            "type": "histogram2d"
           }
          ],
          "histogram2dcontour": [
           {
            "colorbar": {
             "outlinewidth": 0,
             "ticks": ""
            },
            "colorscale": [
             [
              0,
              "#0d0887"
             ],
             [
              0.1111111111111111,
              "#46039f"
             ],
             [
              0.2222222222222222,
              "#7201a8"
             ],
             [
              0.3333333333333333,
              "#9c179e"
             ],
             [
              0.4444444444444444,
              "#bd3786"
             ],
             [
              0.5555555555555556,
              "#d8576b"
             ],
             [
              0.6666666666666666,
              "#ed7953"
             ],
             [
              0.7777777777777778,
              "#fb9f3a"
             ],
             [
              0.8888888888888888,
              "#fdca26"
             ],
             [
              1,
              "#f0f921"
             ]
            ],
            "type": "histogram2dcontour"
           }
          ],
          "mesh3d": [
           {
            "colorbar": {
             "outlinewidth": 0,
             "ticks": ""
            },
            "type": "mesh3d"
           }
          ],
          "parcoords": [
           {
            "line": {
             "colorbar": {
              "outlinewidth": 0,
              "ticks": ""
             }
            },
            "type": "parcoords"
           }
          ],
          "pie": [
           {
            "automargin": true,
            "type": "pie"
           }
          ],
          "scatter": [
           {
            "fillpattern": {
             "fillmode": "overlay",
             "size": 10,
             "solidity": 0.2
            },
            "type": "scatter"
           }
          ],
          "scatter3d": [
           {
            "line": {
             "colorbar": {
              "outlinewidth": 0,
              "ticks": ""
             }
            },
            "marker": {
             "colorbar": {
              "outlinewidth": 0,
              "ticks": ""
             }
            },
            "type": "scatter3d"
           }
          ],
          "scattercarpet": [
           {
            "marker": {
             "colorbar": {
              "outlinewidth": 0,
              "ticks": ""
             }
            },
            "type": "scattercarpet"
           }
          ],
          "scattergeo": [
           {
            "marker": {
             "colorbar": {
              "outlinewidth": 0,
              "ticks": ""
             }
            },
            "type": "scattergeo"
           }
          ],
          "scattergl": [
           {
            "marker": {
             "colorbar": {
              "outlinewidth": 0,
              "ticks": ""
             }
            },
            "type": "scattergl"
           }
          ],
          "scattermap": [
           {
            "marker": {
             "colorbar": {
              "outlinewidth": 0,
              "ticks": ""
             }
            },
            "type": "scattermap"
           }
          ],
          "scattermapbox": [
           {
            "marker": {
             "colorbar": {
              "outlinewidth": 0,
              "ticks": ""
             }
            },
            "type": "scattermapbox"
           }
          ],
          "scatterpolar": [
           {
            "marker": {
             "colorbar": {
              "outlinewidth": 0,
              "ticks": ""
             }
            },
            "type": "scatterpolar"
           }
          ],
          "scatterpolargl": [
           {
            "marker": {
             "colorbar": {
              "outlinewidth": 0,
              "ticks": ""
             }
            },
            "type": "scatterpolargl"
           }
          ],
          "scatterternary": [
           {
            "marker": {
             "colorbar": {
              "outlinewidth": 0,
              "ticks": ""
             }
            },
            "type": "scatterternary"
           }
          ],
          "surface": [
           {
            "colorbar": {
             "outlinewidth": 0,
             "ticks": ""
            },
            "colorscale": [
             [
              0,
              "#0d0887"
             ],
             [
              0.1111111111111111,
              "#46039f"
             ],
             [
              0.2222222222222222,
              "#7201a8"
             ],
             [
              0.3333333333333333,
              "#9c179e"
             ],
             [
              0.4444444444444444,
              "#bd3786"
             ],
             [
              0.5555555555555556,
              "#d8576b"
             ],
             [
              0.6666666666666666,
              "#ed7953"
             ],
             [
              0.7777777777777778,
              "#fb9f3a"
             ],
             [
              0.8888888888888888,
              "#fdca26"
             ],
             [
              1,
              "#f0f921"
             ]
            ],
            "type": "surface"
           }
          ],
          "table": [
           {
            "cells": {
             "fill": {
              "color": "#EBF0F8"
             },
             "line": {
              "color": "white"
             }
            },
            "header": {
             "fill": {
              "color": "#C8D4E3"
             },
             "line": {
              "color": "white"
             }
            },
            "type": "table"
           }
          ]
         },
         "layout": {
          "annotationdefaults": {
           "arrowcolor": "#2a3f5f",
           "arrowhead": 0,
           "arrowwidth": 1
          },
          "autotypenumbers": "strict",
          "coloraxis": {
           "colorbar": {
            "outlinewidth": 0,
            "ticks": ""
           }
          },
          "colorscale": {
           "diverging": [
            [
             0,
             "#8e0152"
            ],
            [
             0.1,
             "#c51b7d"
            ],
            [
             0.2,
             "#de77ae"
            ],
            [
             0.3,
             "#f1b6da"
            ],
            [
             0.4,
             "#fde0ef"
            ],
            [
             0.5,
             "#f7f7f7"
            ],
            [
             0.6,
             "#e6f5d0"
            ],
            [
             0.7,
             "#b8e186"
            ],
            [
             0.8,
             "#7fbc41"
            ],
            [
             0.9,
             "#4d9221"
            ],
            [
             1,
             "#276419"
            ]
           ],
           "sequential": [
            [
             0,
             "#0d0887"
            ],
            [
             0.1111111111111111,
             "#46039f"
            ],
            [
             0.2222222222222222,
             "#7201a8"
            ],
            [
             0.3333333333333333,
             "#9c179e"
            ],
            [
             0.4444444444444444,
             "#bd3786"
            ],
            [
             0.5555555555555556,
             "#d8576b"
            ],
            [
             0.6666666666666666,
             "#ed7953"
            ],
            [
             0.7777777777777778,
             "#fb9f3a"
            ],
            [
             0.8888888888888888,
             "#fdca26"
            ],
            [
             1,
             "#f0f921"
            ]
           ],
           "sequentialminus": [
            [
             0,
             "#0d0887"
            ],
            [
             0.1111111111111111,
             "#46039f"
            ],
            [
             0.2222222222222222,
             "#7201a8"
            ],
            [
             0.3333333333333333,
             "#9c179e"
            ],
            [
             0.4444444444444444,
             "#bd3786"
            ],
            [
             0.5555555555555556,
             "#d8576b"
            ],
            [
             0.6666666666666666,
             "#ed7953"
            ],
            [
             0.7777777777777778,
             "#fb9f3a"
            ],
            [
             0.8888888888888888,
             "#fdca26"
            ],
            [
             1,
             "#f0f921"
            ]
           ]
          },
          "colorway": [
           "#636efa",
           "#EF553B",
           "#00cc96",
           "#ab63fa",
           "#FFA15A",
           "#19d3f3",
           "#FF6692",
           "#B6E880",
           "#FF97FF",
           "#FECB52"
          ],
          "font": {
           "color": "#2a3f5f"
          },
          "geo": {
           "bgcolor": "white",
           "lakecolor": "white",
           "landcolor": "#E5ECF6",
           "showlakes": true,
           "showland": true,
           "subunitcolor": "white"
          },
          "hoverlabel": {
           "align": "left"
          },
          "hovermode": "closest",
          "mapbox": {
           "style": "light"
          },
          "paper_bgcolor": "white",
          "plot_bgcolor": "#E5ECF6",
          "polar": {
           "angularaxis": {
            "gridcolor": "white",
            "linecolor": "white",
            "ticks": ""
           },
           "bgcolor": "#E5ECF6",
           "radialaxis": {
            "gridcolor": "white",
            "linecolor": "white",
            "ticks": ""
           }
          },
          "scene": {
           "xaxis": {
            "backgroundcolor": "#E5ECF6",
            "gridcolor": "white",
            "gridwidth": 2,
            "linecolor": "white",
            "showbackground": true,
            "ticks": "",
            "zerolinecolor": "white"
           },
           "yaxis": {
            "backgroundcolor": "#E5ECF6",
            "gridcolor": "white",
            "gridwidth": 2,
            "linecolor": "white",
            "showbackground": true,
            "ticks": "",
            "zerolinecolor": "white"
           },
           "zaxis": {
            "backgroundcolor": "#E5ECF6",
            "gridcolor": "white",
            "gridwidth": 2,
            "linecolor": "white",
            "showbackground": true,
            "ticks": "",
            "zerolinecolor": "white"
           }
          },
          "shapedefaults": {
           "line": {
            "color": "#2a3f5f"
           }
          },
          "ternary": {
           "aaxis": {
            "gridcolor": "white",
            "linecolor": "white",
            "ticks": ""
           },
           "baxis": {
            "gridcolor": "white",
            "linecolor": "white",
            "ticks": ""
           },
           "bgcolor": "#E5ECF6",
           "caxis": {
            "gridcolor": "white",
            "linecolor": "white",
            "ticks": ""
           }
          },
          "title": {
           "x": 0.05
          },
          "xaxis": {
           "automargin": true,
           "gridcolor": "white",
           "linecolor": "white",
           "ticks": "",
           "title": {
            "standoff": 15
           },
           "zerolinecolor": "white",
           "zerolinewidth": 2
          },
          "yaxis": {
           "automargin": true,
           "gridcolor": "white",
           "linecolor": "white",
           "ticks": "",
           "title": {
            "standoff": 15
           },
           "zerolinecolor": "white",
           "zerolinewidth": 2
          }
         }
        },
        "title": {
         "text": "Optimization History Comparison",
         "x": 0.5
        },
        "width": 1200,
        "xaxis": {
         "anchor": "y",
         "domain": [
          0,
          0.45
         ],
         "title": {
          "text": "Trial"
         }
        },
        "xaxis2": {
         "anchor": "y2",
         "domain": [
          0.55,
          1
         ],
         "title": {
          "text": "Trial"
         }
        },
        "xaxis3": {
         "anchor": "y3",
         "domain": [
          0,
          0.45
         ],
         "title": {
          "text": "Trial"
         }
        },
        "xaxis4": {
         "anchor": "y4",
         "domain": [
          0.55,
          1
         ],
         "title": {
          "text": "Trial"
         }
        },
        "xaxis5": {
         "anchor": "y5",
         "domain": [
          0,
          0.45
         ],
         "title": {
          "text": "Trial"
         }
        },
        "xaxis6": {
         "anchor": "y6",
         "domain": [
          0.55,
          1
         ]
        },
        "yaxis": {
         "anchor": "x",
         "domain": [
          0.7666666666666666,
          0.9999999999999999
         ],
         "title": {
          "text": "MAPE"
         }
        },
        "yaxis2": {
         "anchor": "x2",
         "domain": [
          0.7666666666666666,
          0.9999999999999999
         ],
         "title": {
          "text": "MAPE"
         }
        },
        "yaxis3": {
         "anchor": "x3",
         "domain": [
          0.3833333333333333,
          0.6166666666666666
         ],
         "title": {
          "text": "MAPE"
         }
        },
        "yaxis4": {
         "anchor": "x4",
         "domain": [
          0.3833333333333333,
          0.6166666666666666
         ],
         "title": {
          "text": "MAPE"
         }
        },
        "yaxis5": {
         "anchor": "x5",
         "domain": [
          0,
          0.2333333333333333
         ],
         "title": {
          "text": "MAPE"
         }
        },
        "yaxis6": {
         "anchor": "x6",
         "domain": [
          0,
          0.2333333333333333
         ]
        }
       }
      }
     },
     "metadata": {},
     "output_type": "display_data"
    },
    {
     "name": "stdout",
     "output_type": "stream",
     "text": [
      "\n",
      "Convergence Statistics:\n",
      "================================================================================\n",
      "\n",
      "Study: LightGBM_rfecv_all_nfeat_158_pca_count_loc_mape_v8_study\n",
      "Best MAPE: 0.0599 2.5% of best: 0.0614\n",
      "Trials to reach within 2.5% of best: 14\n",
      "Total trials: 100\n",
      "\n",
      "Study: LightGBM_rfecv_base_nfeat_56_nonpca_count_mape_v8_study\n",
      "Best MAPE: 0.0710 2.5% of best: 0.0728\n",
      "Trials to reach within 2.5% of best: 14\n",
      "Total trials: 100\n",
      "\n",
      "Study: LightGBM_rfecv_base_poi_pano_nfeat_158_nonpca_count_loc_mape_v8_study\n",
      "Best MAPE: 0.0613 2.5% of best: 0.0628\n",
      "Trials to reach within 2.5% of best: 6\n",
      "Total trials: 100\n",
      "\n",
      "Study: LightGBM_rfecv_base_img_nfeat_56_pca_count_50_mape_v8_study\n",
      "Best MAPE: 0.0730 2.5% of best: 0.0748\n",
      "Trials to reach within 2.5% of best: 2\n",
      "Total trials: 92\n",
      "\n",
      "Study: LightGBM_rfecv_base_img_nfeat_56_pca_count_mape_v8_study\n",
      "Best MAPE: 0.0725 2.5% of best: 0.0743\n",
      "Trials to reach within 2.5% of best: 0\n",
      "Total trials: 100\n"
     ]
    }
   ],
   "source": [
    "# Compare multiple studies\n",
    "import plotly.subplots as sp\n",
    "import plotly.graph_objects as go\n",
    "import re\n",
    "\n",
    "\n",
    "def extract_short_study_name(study_name_tuple):\n",
    "    \"\"\"\n",
    "    turns study name into a shorter readable name.\n",
    "\n",
    "    The expected format for the study name is:\n",
    "    {model}_{method}_{dataset}_nfeat_{n_features}_{pca|nonpca}_{count}_{metric}_{version}_study\n",
    "\n",
    "    Args:\n",
    "        study_name_tuple (tuple): A tuple containing the study name string, e.g.,\n",
    "                                  ('LightGBM_rfecv_all_nfeat_60_pca_count_mape_v1_study',)\n",
    "\n",
    "    Returns:\n",
    "        str: A formatted string like \"model dataset nfeatures pca|nonpca\",\n",
    "             or None if the 'nfeat' marker is not found in the study name.\n",
    "    \"\"\"\n",
    "    # Extract the actual study name string from the input tuple\n",
    "    study_name = study_name_tuple\n",
    "\n",
    "    # Split the study name by underscores to get its individual components\n",
    "    parts = study_name.split('_')\n",
    "\n",
    "    # Extract the model, which is always the first part\n",
    "    model = parts[0]\n",
    "\n",
    "    try:\n",
    "        # Find the index of the 'nfeat' marker to locate subsequent elements\n",
    "        nfeat_idx = parts.index('nfeat')\n",
    "\n",
    "        # Extract the number of features, which is immediately after 'nfeat'\n",
    "        n_features = parts[nfeat_idx + 1]\n",
    "\n",
    "        # Extract the PCA/non-PCA status, which is after n_features\n",
    "        pca_nonpca = parts[nfeat_idx + 2]\n",
    "\n",
    "\n",
    "    except ValueError:\n",
    "        print(f\"Warning: 'nfeat' marker not found in study name: {study_name}. \"\n",
    "              \"Cannot extract all required information.\")\n",
    "        return None\n",
    "    except IndexError:\n",
    "\n",
    "        print(f\"Warning: Insufficient parts after 'nfeat' in study name: {study_name}. \"\n",
    "              \"Cannot extract all required information.\")\n",
    "        return None\n",
    "    \n",
    "    # extract version with the format vX\n",
    "    version = re.search(r'v(\\d+)', study_name).group(1)\n",
    "\n",
    "\n",
    "    dataset_parts = parts[2:nfeat_idx]\n",
    "    dataset = \"_\".join(dataset_parts) \n",
    "\n",
    "    shorter_name = f\"{model} {dataset} {n_features} {pca_nonpca} v{version}\"\n",
    "    return shorter_name\n",
    "\n",
    "\n",
    "\n",
    "\n",
    "studies_to_compare = [name for name in all_study_names if \"LightGBM\" in name and \"v8\" in name][-8:]\n",
    "\n",
    "# Load all studies\n",
    "loaded_studies = {\n",
    "    name: optuna.load_study(study_name=name, storage=STUDY_DB_PATH)\n",
    "    for name in studies_to_compare\n",
    "}\n",
    "\n",
    "rows = len(studies_to_compare) // 2 + 1\n",
    "# Create subplots for optimization history\n",
    "fig = sp.make_subplots(\n",
    "    rows=rows, cols=2,\n",
    "    subplot_titles=[extract_short_study_name(name) for name in studies_to_compare],\n",
    "    vertical_spacing=0.15,\n",
    "    horizontal_spacing=0.1\n",
    ")\n",
    "\n",
    "# Plot optimization history for each study\n",
    "for idx, (name, study) in enumerate(loaded_studies.items()):\n",
    "    row = idx // 2 + 1\n",
    "    col = idx % 2 + 1\n",
    "    \n",
    "    # Get optimization history data\n",
    "    trials = study.trials\n",
    "    values = [t.value for t in trials if t.value is not None]\n",
    "    best_values = [min(values[:i+1]) for i in range(len(values))]\n",
    "    \n",
    "    # Add traces\n",
    "    fig.add_trace(\n",
    "        go.Scatter(y=values, name=f\"{name} (trials)\", showlegend=False, \n",
    "                  mode='markers', marker=dict(size=4)),\n",
    "        row=row, col=col\n",
    "    )\n",
    "    fig.add_trace(\n",
    "        go.Scatter(y=best_values, name=f\"{name} (best)\", showlegend=False,\n",
    "                  line=dict(color='red')),\n",
    "        row=row, col=col\n",
    "    )\n",
    "    \n",
    "    # Update axes labels\n",
    "    fig.update_xaxes(title_text=\"Trial\", row=row, col=col)\n",
    "    fig.update_yaxes(title_text=\"MAPE\", row=row, col=col)\n",
    "\n",
    "fig.update_layout(\n",
    "    height=800, \n",
    "    width=1200,\n",
    "    title_text=\"Optimization History Comparison\",\n",
    "    title_x=0.5\n",
    ")\n",
    "fig.show()\n",
    "\n",
    "# Print convergence statistics\n",
    "print(\"\\nConvergence Statistics:\")\n",
    "print(\"=\" * 80)\n",
    "for name, study in loaded_studies.items():\n",
    "    trials = study.trials\n",
    "    n_trials_skip = 10\n",
    "    if len(trials)<n_trials_skip:\n",
    "        # delete from studies_to_compare\n",
    "        studies_to_compare.remove(name)\n",
    "        print(f\"Study {name} has less than {n_trials_skip} trials, skipping.\")\n",
    "        continue\n",
    "\n",
    "    values = [t.value for t in trials if t.value is not None]\n",
    "    best_value = min(values)\n",
    "\n",
    "    if best_value < 0 or best_value > 100 or len(values) < n_trials_skip:\n",
    "        studies_to_compare.remove(name)\n",
    "        print(f\"Study {name} has a negative best value, skipping.\")\n",
    "        continue\n",
    "    \n",
    "    # Calculate when we reached within 2.5% of best value\n",
    "    threshold = best_value * 1.025\n",
    "    convergence_trial = next(\n",
    "        (i for i, v in enumerate(values) if v <= threshold), \n",
    "        len(values)\n",
    "    )\n",
    "    \n",
    "    print(f\"\\nStudy: {name}\")\n",
    "    print(f\"Best MAPE: {best_value:.4f} 2.5% of best: {threshold:.4f}\")\n",
    "    print(f\"Trials to reach within 2.5% of best: {convergence_trial}\")\n",
    "    print(f\"Total trials: {len(values)}\")\n",
    "\n",
    "\n",
    "copy_loaded_studies = loaded_studies.copy()\n",
    "\n",
    "for name, study in copy_loaded_studies.items():\n",
    "    if name not in studies_to_compare:\n",
    "        loaded_studies.pop(name)\n"
   ]
  },
  {
   "cell_type": "code",
   "execution_count": 7,
   "metadata": {},
   "outputs": [
    {
     "data": {
      "text/plain": [
       "['LightGBM_rfecv_all_nfeat_158_pca_count_loc_mape_v8_study',\n",
       " 'LightGBM_rfecv_base_nfeat_56_nonpca_count_mape_v8_study',\n",
       " 'LightGBM_rfecv_base_poi_pano_nfeat_158_nonpca_count_loc_mape_v8_study',\n",
       " 'LightGBM_rfecv_base_img_nfeat_56_pca_count_50_mape_v8_study',\n",
       " 'LightGBM_rfecv_base_img_nfeat_56_pca_count_mape_v8_study']"
      ]
     },
     "execution_count": 7,
     "metadata": {},
     "output_type": "execute_result"
    }
   ],
   "source": [
    "studies_to_compare"
   ]
  },
  {
   "cell_type": "code",
   "execution_count": null,
   "metadata": {},
   "outputs": [
    {
     "name": "stdout",
     "output_type": "stream",
     "text": [
      "Study: LightGBM_rfecv_all_nfeat_158_pca_count_loc_mape_v8_study\n",
      "Study: LightGBM_rfecv_base_nfeat_56_nonpca_count_mape_v8_study\n",
      "Study: LightGBM_rfecv_base_poi_pano_nfeat_158_nonpca_count_loc_mape_v8_study\n",
      "Study: LightGBM_rfecv_base_img_nfeat_56_pca_count_50_mape_v8_study\n",
      "Study: LightGBM_rfecv_base_img_nfeat_56_pca_count_mape_v8_study\n"
     ]
    },
    {
     "data": {
      "application/vnd.plotly.v1+json": {
       "config": {
        "plotlyServerURL": "https://plot.ly"
       },
       "data": [
        {
         "type": "bar",
         "x": [
          "model__n_estimators",
          "model__learning_rate",
          "model__max_depth",
          "model__reg_alpha",
          "model__colsample_bytree",
          "model__num_leaves",
          "model__subsample",
          "model__min_child_samples",
          "model__objective",
          "model__reg_lambda"
         ],
         "xaxis": "x",
         "y": [
          0.39919904263978273,
          0.2385924210772621,
          0.16591459593238556,
          0.05796438360518839,
          0.04859271122348892,
          0.04156017573296776,
          0.022378322523677694,
          0.017776140343836327,
          0.004581724464761538,
          0.0034404824566488645
         ],
         "yaxis": "y"
        },
        {
         "type": "bar",
         "x": [
          "model__subsample",
          "model__min_child_samples",
          "model__num_leaves",
          "model__reg_alpha",
          "model__learning_rate",
          "model__colsample_bytree",
          "model__reg_lambda",
          "model__max_depth",
          "model__n_estimators",
          "model__objective"
         ],
         "xaxis": "x2",
         "y": [
          0.47439058147666513,
          0.16196552878906054,
          0.10295064762199385,
          0.09279321134995532,
          0.05481156271795671,
          0.03416550451935879,
          0.03166498939684882,
          0.030659953186455407,
          0.014981215678123896,
          0.001616805263581622
         ],
         "yaxis": "y2"
        },
        {
         "type": "bar",
         "x": [
          "model__objective",
          "model__learning_rate",
          "model__min_child_samples",
          "model__colsample_bytree",
          "model__num_leaves",
          "model__reg_lambda",
          "model__n_estimators",
          "model__max_depth",
          "model__subsample",
          "model__reg_alpha"
         ],
         "xaxis": "x3",
         "y": [
          0.3366937671275241,
          0.24374132911602453,
          0.17323644129026874,
          0.09000847336841068,
          0.05198153061501241,
          0.048259163407078254,
          0.04177264073159455,
          0.012236184386624062,
          0.0020702300421800257,
          2.3991528246870365e-7
         ],
         "yaxis": "y3"
        },
        {
         "type": "bar",
         "x": [
          "model__reg_alpha",
          "model__num_leaves",
          "model__max_depth",
          "model__objective",
          "model__n_estimators",
          "model__colsample_bytree",
          "model__min_child_samples",
          "model__subsample",
          "model__learning_rate",
          "model__reg_lambda"
         ],
         "xaxis": "x4",
         "y": [
          0.390602497819269,
          0.15205165323117828,
          0.14283686479979646,
          0.08455860099935292,
          0.0790529454787237,
          0.06823441888161948,
          0.03699636360026944,
          0.02910396281885351,
          0.015687324960258202,
          0.0008753674106788704
         ],
         "yaxis": "y4"
        },
        {
         "type": "bar",
         "x": [
          "model__colsample_bytree",
          "model__learning_rate",
          "model__min_child_samples",
          "model__max_depth",
          "model__objective",
          "model__reg_alpha",
          "model__subsample",
          "model__n_estimators",
          "model__num_leaves",
          "model__reg_lambda"
         ],
         "xaxis": "x5",
         "y": [
          0.39598626289305094,
          0.19579942194376376,
          0.1557021673303359,
          0.13723579224792964,
          0.033743422602145884,
          0.0321433111446202,
          0.031226107429545027,
          0.01387069917798216,
          0.004275999500551393,
          0.000016815730074911544
         ],
         "yaxis": "y5"
        }
       ],
       "layout": {
        "annotations": [
         {
          "font": {
           "size": 16
          },
          "showarrow": false,
          "text": "LightGBM_rfecv_all_nfeat_158_pca_count_loc_mape_v8_study",
          "x": 0.225,
          "xanchor": "center",
          "xref": "paper",
          "y": 1,
          "yanchor": "bottom",
          "yref": "paper"
         },
         {
          "font": {
           "size": 16
          },
          "showarrow": false,
          "text": "LightGBM_rfecv_base_nfeat_56_nonpca_count_mape_v8_study",
          "x": 0.775,
          "xanchor": "center",
          "xref": "paper",
          "y": 1,
          "yanchor": "bottom",
          "yref": "paper"
         },
         {
          "font": {
           "size": 16
          },
          "showarrow": false,
          "text": "LightGBM_rfecv_base_poi_pano_nfeat_158_nonpca_count_loc_mape_v8_study",
          "x": 0.225,
          "xanchor": "center",
          "xref": "paper",
          "y": 0.6111111111111112,
          "yanchor": "bottom",
          "yref": "paper"
         },
         {
          "font": {
           "size": 16
          },
          "showarrow": false,
          "text": "LightGBM_rfecv_base_img_nfeat_56_pca_count_50_mape_v8_study",
          "x": 0.775,
          "xanchor": "center",
          "xref": "paper",
          "y": 0.6111111111111112,
          "yanchor": "bottom",
          "yref": "paper"
         },
         {
          "font": {
           "size": 16
          },
          "showarrow": false,
          "text": "LightGBM_rfecv_base_img_nfeat_56_pca_count_mape_v8_study",
          "x": 0.225,
          "xanchor": "center",
          "xref": "paper",
          "y": 0.22222222222222224,
          "yanchor": "bottom",
          "yref": "paper"
         }
        ],
        "height": 800,
        "showlegend": false,
        "template": {
         "data": {
          "bar": [
           {
            "error_x": {
             "color": "#2a3f5f"
            },
            "error_y": {
             "color": "#2a3f5f"
            },
            "marker": {
             "line": {
              "color": "#E5ECF6",
              "width": 0.5
             },
             "pattern": {
              "fillmode": "overlay",
              "size": 10,
              "solidity": 0.2
             }
            },
            "type": "bar"
           }
          ],
          "barpolar": [
           {
            "marker": {
             "line": {
              "color": "#E5ECF6",
              "width": 0.5
             },
             "pattern": {
              "fillmode": "overlay",
              "size": 10,
              "solidity": 0.2
             }
            },
            "type": "barpolar"
           }
          ],
          "carpet": [
           {
            "aaxis": {
             "endlinecolor": "#2a3f5f",
             "gridcolor": "white",
             "linecolor": "white",
             "minorgridcolor": "white",
             "startlinecolor": "#2a3f5f"
            },
            "baxis": {
             "endlinecolor": "#2a3f5f",
             "gridcolor": "white",
             "linecolor": "white",
             "minorgridcolor": "white",
             "startlinecolor": "#2a3f5f"
            },
            "type": "carpet"
           }
          ],
          "choropleth": [
           {
            "colorbar": {
             "outlinewidth": 0,
             "ticks": ""
            },
            "type": "choropleth"
           }
          ],
          "contour": [
           {
            "colorbar": {
             "outlinewidth": 0,
             "ticks": ""
            },
            "colorscale": [
             [
              0,
              "#0d0887"
             ],
             [
              0.1111111111111111,
              "#46039f"
             ],
             [
              0.2222222222222222,
              "#7201a8"
             ],
             [
              0.3333333333333333,
              "#9c179e"
             ],
             [
              0.4444444444444444,
              "#bd3786"
             ],
             [
              0.5555555555555556,
              "#d8576b"
             ],
             [
              0.6666666666666666,
              "#ed7953"
             ],
             [
              0.7777777777777778,
              "#fb9f3a"
             ],
             [
              0.8888888888888888,
              "#fdca26"
             ],
             [
              1,
              "#f0f921"
             ]
            ],
            "type": "contour"
           }
          ],
          "contourcarpet": [
           {
            "colorbar": {
             "outlinewidth": 0,
             "ticks": ""
            },
            "type": "contourcarpet"
           }
          ],
          "heatmap": [
           {
            "colorbar": {
             "outlinewidth": 0,
             "ticks": ""
            },
            "colorscale": [
             [
              0,
              "#0d0887"
             ],
             [
              0.1111111111111111,
              "#46039f"
             ],
             [
              0.2222222222222222,
              "#7201a8"
             ],
             [
              0.3333333333333333,
              "#9c179e"
             ],
             [
              0.4444444444444444,
              "#bd3786"
             ],
             [
              0.5555555555555556,
              "#d8576b"
             ],
             [
              0.6666666666666666,
              "#ed7953"
             ],
             [
              0.7777777777777778,
              "#fb9f3a"
             ],
             [
              0.8888888888888888,
              "#fdca26"
             ],
             [
              1,
              "#f0f921"
             ]
            ],
            "type": "heatmap"
           }
          ],
          "histogram": [
           {
            "marker": {
             "pattern": {
              "fillmode": "overlay",
              "size": 10,
              "solidity": 0.2
             }
            },
            "type": "histogram"
           }
          ],
          "histogram2d": [
           {
            "colorbar": {
             "outlinewidth": 0,
             "ticks": ""
            },
            "colorscale": [
             [
              0,
              "#0d0887"
             ],
             [
              0.1111111111111111,
              "#46039f"
             ],
             [
              0.2222222222222222,
              "#7201a8"
             ],
             [
              0.3333333333333333,
              "#9c179e"
             ],
             [
              0.4444444444444444,
              "#bd3786"
             ],
             [
              0.5555555555555556,
              "#d8576b"
             ],
             [
              0.6666666666666666,
              "#ed7953"
             ],
             [
              0.7777777777777778,
              "#fb9f3a"
             ],
             [
              0.8888888888888888,
              "#fdca26"
             ],
             [
              1,
              "#f0f921"
             ]
            ],
            "type": "histogram2d"
           }
          ],
          "histogram2dcontour": [
           {
            "colorbar": {
             "outlinewidth": 0,
             "ticks": ""
            },
            "colorscale": [
             [
              0,
              "#0d0887"
             ],
             [
              0.1111111111111111,
              "#46039f"
             ],
             [
              0.2222222222222222,
              "#7201a8"
             ],
             [
              0.3333333333333333,
              "#9c179e"
             ],
             [
              0.4444444444444444,
              "#bd3786"
             ],
             [
              0.5555555555555556,
              "#d8576b"
             ],
             [
              0.6666666666666666,
              "#ed7953"
             ],
             [
              0.7777777777777778,
              "#fb9f3a"
             ],
             [
              0.8888888888888888,
              "#fdca26"
             ],
             [
              1,
              "#f0f921"
             ]
            ],
            "type": "histogram2dcontour"
           }
          ],
          "mesh3d": [
           {
            "colorbar": {
             "outlinewidth": 0,
             "ticks": ""
            },
            "type": "mesh3d"
           }
          ],
          "parcoords": [
           {
            "line": {
             "colorbar": {
              "outlinewidth": 0,
              "ticks": ""
             }
            },
            "type": "parcoords"
           }
          ],
          "pie": [
           {
            "automargin": true,
            "type": "pie"
           }
          ],
          "scatter": [
           {
            "fillpattern": {
             "fillmode": "overlay",
             "size": 10,
             "solidity": 0.2
            },
            "type": "scatter"
           }
          ],
          "scatter3d": [
           {
            "line": {
             "colorbar": {
              "outlinewidth": 0,
              "ticks": ""
             }
            },
            "marker": {
             "colorbar": {
              "outlinewidth": 0,
              "ticks": ""
             }
            },
            "type": "scatter3d"
           }
          ],
          "scattercarpet": [
           {
            "marker": {
             "colorbar": {
              "outlinewidth": 0,
              "ticks": ""
             }
            },
            "type": "scattercarpet"
           }
          ],
          "scattergeo": [
           {
            "marker": {
             "colorbar": {
              "outlinewidth": 0,
              "ticks": ""
             }
            },
            "type": "scattergeo"
           }
          ],
          "scattergl": [
           {
            "marker": {
             "colorbar": {
              "outlinewidth": 0,
              "ticks": ""
             }
            },
            "type": "scattergl"
           }
          ],
          "scattermap": [
           {
            "marker": {
             "colorbar": {
              "outlinewidth": 0,
              "ticks": ""
             }
            },
            "type": "scattermap"
           }
          ],
          "scattermapbox": [
           {
            "marker": {
             "colorbar": {
              "outlinewidth": 0,
              "ticks": ""
             }
            },
            "type": "scattermapbox"
           }
          ],
          "scatterpolar": [
           {
            "marker": {
             "colorbar": {
              "outlinewidth": 0,
              "ticks": ""
             }
            },
            "type": "scatterpolar"
           }
          ],
          "scatterpolargl": [
           {
            "marker": {
             "colorbar": {
              "outlinewidth": 0,
              "ticks": ""
             }
            },
            "type": "scatterpolargl"
           }
          ],
          "scatterternary": [
           {
            "marker": {
             "colorbar": {
              "outlinewidth": 0,
              "ticks": ""
             }
            },
            "type": "scatterternary"
           }
          ],
          "surface": [
           {
            "colorbar": {
             "outlinewidth": 0,
             "ticks": ""
            },
            "colorscale": [
             [
              0,
              "#0d0887"
             ],
             [
              0.1111111111111111,
              "#46039f"
             ],
             [
              0.2222222222222222,
              "#7201a8"
             ],
             [
              0.3333333333333333,
              "#9c179e"
             ],
             [
              0.4444444444444444,
              "#bd3786"
             ],
             [
              0.5555555555555556,
              "#d8576b"
             ],
             [
              0.6666666666666666,
              "#ed7953"
             ],
             [
              0.7777777777777778,
              "#fb9f3a"
             ],
             [
              0.8888888888888888,
              "#fdca26"
             ],
             [
              1,
              "#f0f921"
             ]
            ],
            "type": "surface"
           }
          ],
          "table": [
           {
            "cells": {
             "fill": {
              "color": "#EBF0F8"
             },
             "line": {
              "color": "white"
             }
            },
            "header": {
             "fill": {
              "color": "#C8D4E3"
             },
             "line": {
              "color": "white"
             }
            },
            "type": "table"
           }
          ]
         },
         "layout": {
          "annotationdefaults": {
           "arrowcolor": "#2a3f5f",
           "arrowhead": 0,
           "arrowwidth": 1
          },
          "autotypenumbers": "strict",
          "coloraxis": {
           "colorbar": {
            "outlinewidth": 0,
            "ticks": ""
           }
          },
          "colorscale": {
           "diverging": [
            [
             0,
             "#8e0152"
            ],
            [
             0.1,
             "#c51b7d"
            ],
            [
             0.2,
             "#de77ae"
            ],
            [
             0.3,
             "#f1b6da"
            ],
            [
             0.4,
             "#fde0ef"
            ],
            [
             0.5,
             "#f7f7f7"
            ],
            [
             0.6,
             "#e6f5d0"
            ],
            [
             0.7,
             "#b8e186"
            ],
            [
             0.8,
             "#7fbc41"
            ],
            [
             0.9,
             "#4d9221"
            ],
            [
             1,
             "#276419"
            ]
           ],
           "sequential": [
            [
             0,
             "#0d0887"
            ],
            [
             0.1111111111111111,
             "#46039f"
            ],
            [
             0.2222222222222222,
             "#7201a8"
            ],
            [
             0.3333333333333333,
             "#9c179e"
            ],
            [
             0.4444444444444444,
             "#bd3786"
            ],
            [
             0.5555555555555556,
             "#d8576b"
            ],
            [
             0.6666666666666666,
             "#ed7953"
            ],
            [
             0.7777777777777778,
             "#fb9f3a"
            ],
            [
             0.8888888888888888,
             "#fdca26"
            ],
            [
             1,
             "#f0f921"
            ]
           ],
           "sequentialminus": [
            [
             0,
             "#0d0887"
            ],
            [
             0.1111111111111111,
             "#46039f"
            ],
            [
             0.2222222222222222,
             "#7201a8"
            ],
            [
             0.3333333333333333,
             "#9c179e"
            ],
            [
             0.4444444444444444,
             "#bd3786"
            ],
            [
             0.5555555555555556,
             "#d8576b"
            ],
            [
             0.6666666666666666,
             "#ed7953"
            ],
            [
             0.7777777777777778,
             "#fb9f3a"
            ],
            [
             0.8888888888888888,
             "#fdca26"
            ],
            [
             1,
             "#f0f921"
            ]
           ]
          },
          "colorway": [
           "#636efa",
           "#EF553B",
           "#00cc96",
           "#ab63fa",
           "#FFA15A",
           "#19d3f3",
           "#FF6692",
           "#B6E880",
           "#FF97FF",
           "#FECB52"
          ],
          "font": {
           "color": "#2a3f5f"
          },
          "geo": {
           "bgcolor": "white",
           "lakecolor": "white",
           "landcolor": "#E5ECF6",
           "showlakes": true,
           "showland": true,
           "subunitcolor": "white"
          },
          "hoverlabel": {
           "align": "left"
          },
          "hovermode": "closest",
          "mapbox": {
           "style": "light"
          },
          "paper_bgcolor": "white",
          "plot_bgcolor": "#E5ECF6",
          "polar": {
           "angularaxis": {
            "gridcolor": "white",
            "linecolor": "white",
            "ticks": ""
           },
           "bgcolor": "#E5ECF6",
           "radialaxis": {
            "gridcolor": "white",
            "linecolor": "white",
            "ticks": ""
           }
          },
          "scene": {
           "xaxis": {
            "backgroundcolor": "#E5ECF6",
            "gridcolor": "white",
            "gridwidth": 2,
            "linecolor": "white",
            "showbackground": true,
            "ticks": "",
            "zerolinecolor": "white"
           },
           "yaxis": {
            "backgroundcolor": "#E5ECF6",
            "gridcolor": "white",
            "gridwidth": 2,
            "linecolor": "white",
            "showbackground": true,
            "ticks": "",
            "zerolinecolor": "white"
           },
           "zaxis": {
            "backgroundcolor": "#E5ECF6",
            "gridcolor": "white",
            "gridwidth": 2,
            "linecolor": "white",
            "showbackground": true,
            "ticks": "",
            "zerolinecolor": "white"
           }
          },
          "shapedefaults": {
           "line": {
            "color": "#2a3f5f"
           }
          },
          "ternary": {
           "aaxis": {
            "gridcolor": "white",
            "linecolor": "white",
            "ticks": ""
           },
           "baxis": {
            "gridcolor": "white",
            "linecolor": "white",
            "ticks": ""
           },
           "bgcolor": "#E5ECF6",
           "caxis": {
            "gridcolor": "white",
            "linecolor": "white",
            "ticks": ""
           }
          },
          "title": {
           "x": 0.05
          },
          "xaxis": {
           "automargin": true,
           "gridcolor": "white",
           "linecolor": "white",
           "ticks": "",
           "title": {
            "standoff": 15
           },
           "zerolinecolor": "white",
           "zerolinewidth": 2
          },
          "yaxis": {
           "automargin": true,
           "gridcolor": "white",
           "linecolor": "white",
           "ticks": "",
           "title": {
            "standoff": 15
           },
           "zerolinecolor": "white",
           "zerolinewidth": 2
          }
         }
        },
        "title": {
         "text": "Hyperparameter Importance Comparison",
         "x": 0.5
        },
        "width": 1200,
        "xaxis": {
         "anchor": "y",
         "domain": [
          0,
          0.45
         ],
         "tickangle": 45
        },
        "xaxis2": {
         "anchor": "y2",
         "domain": [
          0.55,
          1
         ],
         "tickangle": 45
        },
        "xaxis3": {
         "anchor": "y3",
         "domain": [
          0,
          0.45
         ],
         "tickangle": 45
        },
        "xaxis4": {
         "anchor": "y4",
         "domain": [
          0.55,
          1
         ],
         "tickangle": 45
        },
        "xaxis5": {
         "anchor": "y5",
         "domain": [
          0,
          0.45
         ],
         "tickangle": 45
        },
        "xaxis6": {
         "anchor": "y6",
         "domain": [
          0.55,
          1
         ]
        },
        "yaxis": {
         "anchor": "x",
         "domain": [
          0.7777777777777778,
          1
         ],
         "title": {
          "text": "Importance"
         }
        },
        "yaxis2": {
         "anchor": "x2",
         "domain": [
          0.7777777777777778,
          1
         ],
         "title": {
          "text": "Importance"
         }
        },
        "yaxis3": {
         "anchor": "x3",
         "domain": [
          0.3888888888888889,
          0.6111111111111112
         ],
         "title": {
          "text": "Importance"
         }
        },
        "yaxis4": {
         "anchor": "x4",
         "domain": [
          0.3888888888888889,
          0.6111111111111112
         ],
         "title": {
          "text": "Importance"
         }
        },
        "yaxis5": {
         "anchor": "x5",
         "domain": [
          0,
          0.22222222222222224
         ],
         "title": {
          "text": "Importance"
         }
        },
        "yaxis6": {
         "anchor": "x6",
         "domain": [
          0,
          0.22222222222222224
         ]
        }
       }
      }
     },
     "metadata": {},
     "output_type": "display_data"
    },
    {
     "name": "stdout",
     "output_type": "stream",
     "text": [
      "\n",
      "Search Space Analysis:\n",
      "================================================================================\n",
      "\n",
      "Study: LightGBM_rfecv_all_nfeat_158_pca_count_loc_mape_v8_study\n",
      "----------------------------------------\n",
      "\n",
      "Parameter: model__learning_rate\n",
      "Range: [0.0100, 0.0951]\n",
      "Best value: 0.0109\n",
      "⚠️ Best value is near lower bound - consider extending range lower\n",
      "\n",
      "Parameter: model__reg_alpha\n",
      "Range: [0.0000, 6.0187]\n",
      "Best value: 0.0001\n",
      "⚠️ Best value is near lower bound - consider extending range lower\n",
      "\n",
      "Parameter: model__reg_lambda\n",
      "Range: [0.0000, 188.3720]\n",
      "Best value: 1.5874\n",
      "⚠️ Best value is near lower bound - consider extending range lower\n",
      "\n",
      "Study: LightGBM_rfecv_base_nfeat_56_nonpca_count_mape_v8_study\n",
      "----------------------------------------\n",
      "\n",
      "Parameter: model__learning_rate\n",
      "Range: [0.0104, 0.0999]\n",
      "Best value: 0.0127\n",
      "⚠️ Best value is near lower bound - consider extending range lower\n",
      "\n",
      "Parameter: model__min_child_samples\n",
      "Range: [5.0000, 100.0000]\n",
      "Best value: 5.0000\n",
      "⚠️ Best value is near lower bound - consider extending range lower\n",
      "\n",
      "Parameter: model__reg_alpha\n",
      "Range: [0.0000, 5.6962]\n",
      "Best value: 0.0124\n",
      "⚠️ Best value is near lower bound - consider extending range lower\n",
      "\n",
      "Parameter: model__reg_lambda\n",
      "Range: [0.0000, 55.1256]\n",
      "Best value: 0.0000\n",
      "⚠️ Best value is near lower bound - consider extending range lower\n",
      "\n",
      "Parameter: model__subsample\n",
      "Range: [0.1004, 0.9709]\n",
      "Best value: 0.1175\n",
      "⚠️ Best value is near lower bound - consider extending range lower\n",
      "\n",
      "Study: LightGBM_rfecv_base_poi_pano_nfeat_158_nonpca_count_loc_mape_v8_study\n",
      "----------------------------------------\n",
      "\n",
      "Parameter: model__learning_rate\n",
      "Range: [0.0101, 0.0914]\n",
      "Best value: 0.0134\n",
      "⚠️ Best value is near lower bound - consider extending range lower\n",
      "\n",
      "Parameter: model__reg_alpha\n",
      "Range: [0.0000, 7.6006]\n",
      "Best value: 0.0000\n",
      "⚠️ Best value is near lower bound - consider extending range lower\n",
      "\n",
      "Parameter: model__reg_lambda\n",
      "Range: [0.0000, 198.5115]\n",
      "Best value: 0.0000\n",
      "⚠️ Best value is near lower bound - consider extending range lower\n",
      "\n",
      "Study: LightGBM_rfecv_base_img_nfeat_56_pca_count_50_mape_v8_study\n",
      "----------------------------------------\n",
      "\n",
      "Parameter: model__reg_alpha\n",
      "Range: [0.0000, 7.6671]\n",
      "Best value: 0.0000\n",
      "⚠️ Best value is near lower bound - consider extending range lower\n",
      "\n",
      "Parameter: model__reg_lambda\n",
      "Range: [0.0000, 179.5372]\n",
      "Best value: 0.0112\n",
      "⚠️ Best value is near lower bound - consider extending range lower\n",
      "\n",
      "Study: LightGBM_rfecv_base_img_nfeat_56_pca_count_mape_v8_study\n",
      "----------------------------------------\n",
      "\n",
      "Parameter: model__learning_rate\n",
      "Range: [0.0100, 0.0993]\n",
      "Best value: 0.0106\n",
      "⚠️ Best value is near lower bound - consider extending range lower\n",
      "\n",
      "Parameter: model__reg_alpha\n",
      "Range: [0.0000, 7.6509]\n",
      "Best value: 0.0000\n",
      "⚠️ Best value is near lower bound - consider extending range lower\n",
      "\n",
      "Parameter: model__reg_lambda\n",
      "Range: [0.0000, 196.5653]\n",
      "Best value: 0.0000\n",
      "⚠️ Best value is near lower bound - consider extending range lower\n"
     ]
    }
   ],
   "source": [
    "# Compare hyperparameter importance and search spaces\n",
    "nrows = len(studies_to_compare) // 2 + 1\n",
    "\n",
    "fig = sp.make_subplots(\n",
    "    rows=nrows, cols=2,\n",
    "    subplot_titles=[name for name in studies_to_compare],\n",
    "    #vertical_spacing=0.4,\n",
    "    horizontal_spacing=0.1\n",
    ")\n",
    "\n",
    "for idx, (name, study) in enumerate(loaded_studies.items()):\n",
    "    print(f\"Study: {name}\")\n",
    "    row = idx // 2 + 1\n",
    "    col = idx % 2 + 1\n",
    "    \n",
    "    # Get hyperparameter importance\n",
    "    importance = optuna.importance.get_param_importances(study)\n",
    "    params = list(importance.keys())\n",
    "    scores = list(importance.values())\n",
    "    \n",
    "    # Add bar plot\n",
    "    fig.add_trace(\n",
    "        go.Bar(x=params, y=scores),\n",
    "        row=row, col=col\n",
    "    )\n",
    "    \n",
    "    # Update axes\n",
    "    fig.update_xaxes(tickangle=45, row=row, col=col)\n",
    "    fig.update_yaxes(title_text=\"Importance\", row=row, col=col)\n",
    "\n",
    "fig.update_layout(\n",
    "    height=800,\n",
    "    width=1200,\n",
    "    title_text=\"Hyperparameter Importance Comparison\",\n",
    "    title_x=0.5,\n",
    "    showlegend=False,\n",
    "\n",
    ")\n",
    "fig.show()\n",
    "\n",
    "# Analyze search spaces and best parameters\n",
    "print(\"\\nSearch Space Analysis:\")\n",
    "print(\"=\" * 80)\n",
    "for name, study in loaded_studies.items():\n",
    "    print(f\"\\nStudy: {name}\")\n",
    "    print(\"-\" * 40)\n",
    "    \n",
    "    best_trial = study.best_trial\n",
    "    \n",
    "    # Get all parameter names from all trials\n",
    "    all_params = set()\n",
    "    for trial in study.trials:\n",
    "        all_params.update(trial.params.keys())\n",
    "    \n",
    "    # Analyze parameter ranges and best values\n",
    "    for param in sorted(all_params):\n",
    "        values = [t.params.get(param) for t in study.trials if param in t.params]\n",
    "        values = [v for v in values if type(v) in (float, int)]  # Filter out None values\n",
    "        if values:            \n",
    "            # Check if values are numeric or categorical\n",
    "            if all(isinstance(v, (int, float)) for v in values):\n",
    "\n",
    "                \n",
    "                # Check if best value is near bounds\n",
    "                min_val, max_val = min(values), max(values)\n",
    "                best_val = best_trial.params.get(param)\n",
    "                if best_val is not None:\n",
    "                    range_size = max_val - min_val\n",
    "                    if range_size > 0 and (abs(best_val - min_val) < 0.05 * range_size or abs(best_val - max_val) < 0.05 * range_size):\n",
    "                        print(f\"\\nParameter: {param}\")\n",
    "                        print(f\"Range: [{min(values):.4f}, {max(values):.4f}]\")\n",
    "                        best_val = best_trial.params.get(param)\n",
    "                        print(f\"Best value: {best_val:.4f}\")\n",
    "                        if abs(best_val - min_val) < 0.05 * range_size:\n",
    "                            print(\"⚠️ Best value is near lower bound - consider extending range lower\")\n",
    "                        elif abs(best_val - max_val) < 0.05 * range_size:\n",
    "                            print(\"⚠️ Best value is near upper bound - consider extending range higher\")\n",
    "            else:\n",
    "                unique_values = sorted(set(values))\n",
    "                print(f\"Categorical values: {unique_values}\")\n",
    "                print(f\"Best value: {best_trial.params.get(param, 'N/A')}\")\n"
   ]
  },
  {
   "cell_type": "code",
   "execution_count": 9,
   "metadata": {},
   "outputs": [
    {
     "name": "stdout",
     "output_type": "stream",
     "text": [
      "\n",
      "Slice plot for: LightGBM_rfecv_all_nfeat_158_pca_count_loc_mape_v8_study\n"
     ]
    },
    {
     "data": {
      "application/vnd.plotly.v1+json": {
       "config": {
        "plotlyServerURL": "https://plot.ly"
       },
       "data": [
        {
         "marker": {
          "color": [
           0,
           1,
           8,
           9,
           14,
           23,
           25,
           26,
           28,
           29,
           41,
           48,
           50,
           71,
           72,
           74,
           80,
           93,
           95,
           98,
           99
          ],
          "colorbar": {
           "title": {
            "text": "Trial"
           },
           "x": 1,
           "xpad": 40
          },
          "colorscale": [
           [
            0,
            "rgb(247,251,255)"
           ],
           [
            0.125,
            "rgb(222,235,247)"
           ],
           [
            0.25,
            "rgb(198,219,239)"
           ],
           [
            0.375,
            "rgb(158,202,225)"
           ],
           [
            0.5,
            "rgb(107,174,214)"
           ],
           [
            0.625,
            "rgb(66,146,198)"
           ],
           [
            0.75,
            "rgb(33,113,181)"
           ],
           [
            0.875,
            "rgb(8,81,156)"
           ],
           [
            1,
            "rgb(8,48,107)"
           ]
          ],
          "line": {
           "color": "Grey",
           "width": 0.5
          },
          "showscale": true
         },
         "mode": "markers",
         "name": "Feasible Trial",
         "showlegend": false,
         "type": "scatter",
         "x": [
          0.23970080653197826,
          0.6344153402596615,
          0.3470948964941188,
          0.5643052673535229,
          0.6108753436841269,
          0.5611110271011567,
          0.6022092334642234,
          0.5687194148683483,
          0.6270033187642622,
          0.6145263033251394,
          0.6592317213336326,
          0.7015316187885483,
          0.6739459584858003,
          0.5048106700764391,
          0.56921672034282,
          0.564147288934147,
          0.5690610636961592,
          0.6363896800708844,
          0.673683716381774,
          0.6681373974298064,
          0.5940890314463495
         ],
         "xaxis": "x",
         "y": [
          0.06457851281490593,
          0.06407736856518226,
          0.06215956655320058,
          0.06371294418238299,
          0.060565904625392165,
          0.060186083449198305,
          0.060057183430695424,
          0.06020600084808618,
          0.060086943882373664,
          0.06011340360323465,
          0.06017658231152149,
          0.060148933723793964,
          0.060057343057652465,
          0.06030385388742136,
          0.06005597653517738,
          0.06014167870562106,
          0.05995912168475799,
          0.06006543650025884,
          0.060016158321039216,
          0.06003760405668601,
          0.0599074328502152
         ],
         "yaxis": "y"
        },
        {
         "marker": {
          "color": [
           0,
           1,
           8,
           9,
           14,
           23,
           25,
           26,
           28,
           29,
           41,
           48,
           50,
           71,
           72,
           74,
           80,
           93,
           95,
           98,
           99
          ],
          "colorbar": {
           "title": {
            "text": "Trial"
           },
           "x": 1,
           "xpad": 40
          },
          "colorscale": [
           [
            0,
            "rgb(247,251,255)"
           ],
           [
            0.125,
            "rgb(222,235,247)"
           ],
           [
            0.25,
            "rgb(198,219,239)"
           ],
           [
            0.375,
            "rgb(158,202,225)"
           ],
           [
            0.5,
            "rgb(107,174,214)"
           ],
           [
            0.625,
            "rgb(66,146,198)"
           ],
           [
            0.75,
            "rgb(33,113,181)"
           ],
           [
            0.875,
            "rgb(8,81,156)"
           ],
           [
            1,
            "rgb(8,48,107)"
           ]
          ],
          "line": {
           "color": "Grey",
           "width": 0.5
          },
          "showscale": false
         },
         "mode": "markers",
         "name": "Feasible Trial",
         "showlegend": false,
         "type": "scatter",
         "x": [
          0.049069921879239434,
          0.021441851011317823,
          0.010368543659044016,
          0.03918027395268676,
          0.020501835659502525,
          0.010308429843030487,
          0.014500894937630765,
          0.015260014267358388,
          0.014933388927967032,
          0.01349841021079731,
          0.01214584655746375,
          0.01773331119466955,
          0.014606598469419625,
          0.013970368974911836,
          0.014076225001261933,
          0.010609827967794248,
          0.012242543234057183,
          0.01991564149919772,
          0.017136290228849844,
          0.010975283673580694,
          0.010875424415794078
         ],
         "xaxis": "x2",
         "y": [
          0.06457851281490593,
          0.06407736856518226,
          0.06215956655320058,
          0.06371294418238299,
          0.060565904625392165,
          0.060186083449198305,
          0.060057183430695424,
          0.06020600084808618,
          0.060086943882373664,
          0.06011340360323465,
          0.06017658231152149,
          0.060148933723793964,
          0.060057343057652465,
          0.06030385388742136,
          0.06005597653517738,
          0.06014167870562106,
          0.05995912168475799,
          0.06006543650025884,
          0.060016158321039216,
          0.06003760405668601,
          0.0599074328502152
         ],
         "yaxis": "y2"
        },
        {
         "marker": {
          "color": [
           0,
           1,
           8,
           9,
           14,
           23,
           25,
           26,
           28,
           29,
           41,
           48,
           50,
           71,
           72,
           74,
           80,
           93,
           95,
           98,
           99
          ],
          "colorbar": {
           "title": {
            "text": "Trial"
           },
           "x": 1,
           "xpad": 40
          },
          "colorscale": [
           [
            0,
            "rgb(247,251,255)"
           ],
           [
            0.125,
            "rgb(222,235,247)"
           ],
           [
            0.25,
            "rgb(198,219,239)"
           ],
           [
            0.375,
            "rgb(158,202,225)"
           ],
           [
            0.5,
            "rgb(107,174,214)"
           ],
           [
            0.625,
            "rgb(66,146,198)"
           ],
           [
            0.75,
            "rgb(33,113,181)"
           ],
           [
            0.875,
            "rgb(8,81,156)"
           ],
           [
            1,
            "rgb(8,48,107)"
           ]
          ],
          "line": {
           "color": "Grey",
           "width": 0.5
          },
          "showscale": false
         },
         "mode": "markers",
         "name": "Feasible Trial",
         "showlegend": false,
         "type": "scatter",
         "x": [
          53,
          150,
          101,
          22,
          137,
          134,
          147,
          161,
          169,
          159,
          199,
          151,
          149,
          133,
          135,
          155,
          165,
          174,
          174,
          153,
          155
         ],
         "xaxis": "x3",
         "y": [
          0.06457851281490593,
          0.06407736856518226,
          0.06215956655320058,
          0.06371294418238299,
          0.060565904625392165,
          0.060186083449198305,
          0.060057183430695424,
          0.06020600084808618,
          0.060086943882373664,
          0.06011340360323465,
          0.06017658231152149,
          0.060148933723793964,
          0.060057343057652465,
          0.06030385388742136,
          0.06005597653517738,
          0.06014167870562106,
          0.05995912168475799,
          0.06006543650025884,
          0.060016158321039216,
          0.06003760405668601,
          0.0599074328502152
         ],
         "yaxis": "y3"
        },
        {
         "marker": {
          "color": [
           0,
           1,
           8,
           9,
           14,
           23,
           25,
           26,
           28,
           29,
           41,
           48,
           50,
           71,
           72,
           74,
           80,
           93,
           95,
           98,
           99
          ],
          "colorbar": {
           "title": {
            "text": "Trial"
           },
           "x": 1,
           "xpad": 40
          },
          "colorscale": [
           [
            0,
            "rgb(247,251,255)"
           ],
           [
            0.125,
            "rgb(222,235,247)"
           ],
           [
            0.25,
            "rgb(198,219,239)"
           ],
           [
            0.375,
            "rgb(158,202,225)"
           ],
           [
            0.5,
            "rgb(107,174,214)"
           ],
           [
            0.625,
            "rgb(66,146,198)"
           ],
           [
            0.75,
            "rgb(33,113,181)"
           ],
           [
            0.875,
            "rgb(8,81,156)"
           ],
           [
            1,
            "rgb(8,48,107)"
           ]
          ],
          "line": {
           "color": "Grey",
           "width": 0.5
          },
          "showscale": false
         },
         "mode": "markers",
         "name": "Feasible Trial",
         "showlegend": false,
         "type": "scatter",
         "x": [
          77,
          43,
          64,
          34,
          92,
          45,
          50,
          86,
          47,
          48,
          42,
          56,
          70,
          60,
          62,
          46,
          60,
          64,
          65,
          72,
          41
         ],
         "xaxis": "x4",
         "y": [
          0.06457851281490593,
          0.06407736856518226,
          0.06215956655320058,
          0.06371294418238299,
          0.060565904625392165,
          0.060186083449198305,
          0.060057183430695424,
          0.06020600084808618,
          0.060086943882373664,
          0.06011340360323465,
          0.06017658231152149,
          0.060148933723793964,
          0.060057343057652465,
          0.06030385388742136,
          0.06005597653517738,
          0.06014167870562106,
          0.05995912168475799,
          0.06006543650025884,
          0.060016158321039216,
          0.06003760405668601,
          0.0599074328502152
         ],
         "yaxis": "y4"
        },
        {
         "marker": {
          "color": [
           0,
           1,
           8,
           9,
           14,
           23,
           25,
           26,
           28,
           29,
           41,
           48,
           50,
           71,
           72,
           74,
           80,
           93,
           95,
           98,
           99
          ],
          "colorbar": {
           "title": {
            "text": "Trial"
           },
           "x": 1,
           "xpad": 40
          },
          "colorscale": [
           [
            0,
            "rgb(247,251,255)"
           ],
           [
            0.125,
            "rgb(222,235,247)"
           ],
           [
            0.25,
            "rgb(198,219,239)"
           ],
           [
            0.375,
            "rgb(158,202,225)"
           ],
           [
            0.5,
            "rgb(107,174,214)"
           ],
           [
            0.625,
            "rgb(66,146,198)"
           ],
           [
            0.75,
            "rgb(33,113,181)"
           ],
           [
            0.875,
            "rgb(8,81,156)"
           ],
           [
            1,
            "rgb(8,48,107)"
           ]
          ],
          "line": {
           "color": "Grey",
           "width": 0.5
          },
          "showscale": false
         },
         "mode": "markers",
         "name": "Feasible Trial",
         "showlegend": false,
         "type": "scatter",
         "x": [
          1700,
          2700,
          2600,
          3200,
          4500,
          4200,
          4200,
          4200,
          3700,
          3700,
          4600,
          4800,
          4000,
          4400,
          5200,
          3200,
          5100,
          5800,
          6400,
          4600,
          4200
         ],
         "xaxis": "x5",
         "y": [
          0.06457851281490593,
          0.06407736856518226,
          0.06215956655320058,
          0.06371294418238299,
          0.060565904625392165,
          0.060186083449198305,
          0.060057183430695424,
          0.06020600084808618,
          0.060086943882373664,
          0.06011340360323465,
          0.06017658231152149,
          0.060148933723793964,
          0.060057343057652465,
          0.06030385388742136,
          0.06005597653517738,
          0.06014167870562106,
          0.05995912168475799,
          0.06006543650025884,
          0.060016158321039216,
          0.06003760405668601,
          0.0599074328502152
         ],
         "yaxis": "y5"
        },
        {
         "marker": {
          "color": [
           0,
           1,
           8,
           9,
           14,
           23,
           25,
           26,
           28,
           29,
           41,
           48,
           50,
           71,
           72,
           74,
           80,
           93,
           95,
           98,
           99
          ],
          "colorbar": {
           "title": {
            "text": "Trial"
           },
           "x": 1,
           "xpad": 40
          },
          "colorscale": [
           [
            0,
            "rgb(247,251,255)"
           ],
           [
            0.125,
            "rgb(222,235,247)"
           ],
           [
            0.25,
            "rgb(198,219,239)"
           ],
           [
            0.375,
            "rgb(158,202,225)"
           ],
           [
            0.5,
            "rgb(107,174,214)"
           ],
           [
            0.625,
            "rgb(66,146,198)"
           ],
           [
            0.75,
            "rgb(33,113,181)"
           ],
           [
            0.875,
            "rgb(8,81,156)"
           ],
           [
            1,
            "rgb(8,48,107)"
           ]
          ],
          "line": {
           "color": "Grey",
           "width": 0.5
          },
          "showscale": false
         },
         "mode": "markers",
         "name": "Feasible Trial",
         "showlegend": false,
         "type": "scatter",
         "x": [
          112,
          35,
          304,
          225,
          248,
          455,
          423,
          443,
          293,
          212,
          419,
          424,
          444,
          415,
          282,
          421,
          235,
          210,
          241,
          244,
          245
         ],
         "xaxis": "x6",
         "y": [
          0.06457851281490593,
          0.06407736856518226,
          0.06215956655320058,
          0.06371294418238299,
          0.060565904625392165,
          0.060186083449198305,
          0.060057183430695424,
          0.06020600084808618,
          0.060086943882373664,
          0.06011340360323465,
          0.06017658231152149,
          0.060148933723793964,
          0.060057343057652465,
          0.06030385388742136,
          0.06005597653517738,
          0.06014167870562106,
          0.05995912168475799,
          0.06006543650025884,
          0.060016158321039216,
          0.06003760405668601,
          0.0599074328502152
         ],
         "yaxis": "y6"
        },
        {
         "marker": {
          "color": [
           0,
           1,
           8,
           9,
           14,
           23,
           25,
           26,
           28,
           29,
           41,
           48,
           50,
           71,
           72,
           74,
           80,
           93,
           95,
           98,
           99
          ],
          "colorbar": {
           "title": {
            "text": "Trial"
           },
           "x": 1,
           "xpad": 40
          },
          "colorscale": [
           [
            0,
            "rgb(247,251,255)"
           ],
           [
            0.125,
            "rgb(222,235,247)"
           ],
           [
            0.25,
            "rgb(198,219,239)"
           ],
           [
            0.375,
            "rgb(158,202,225)"
           ],
           [
            0.5,
            "rgb(107,174,214)"
           ],
           [
            0.625,
            "rgb(66,146,198)"
           ],
           [
            0.75,
            "rgb(33,113,181)"
           ],
           [
            0.875,
            "rgb(8,81,156)"
           ],
           [
            1,
            "rgb(8,48,107)"
           ]
          ],
          "line": {
           "color": "Grey",
           "width": 0.5
          },
          "showscale": false
         },
         "mode": "markers",
         "name": "Feasible Trial",
         "showlegend": false,
         "type": "scatter",
         "x": [
          "regression_l2",
          "huber",
          "huber",
          "regression_l2",
          "huber",
          "huber",
          "huber",
          "huber",
          "huber",
          "huber",
          "huber",
          "huber",
          "huber",
          "huber",
          "huber",
          "huber",
          "huber",
          "huber",
          "huber",
          "huber",
          "huber"
         ],
         "xaxis": "x7",
         "y": [
          0.06457851281490593,
          0.06407736856518226,
          0.06215956655320058,
          0.06371294418238299,
          0.060565904625392165,
          0.060186083449198305,
          0.060057183430695424,
          0.06020600084808618,
          0.060086943882373664,
          0.06011340360323465,
          0.06017658231152149,
          0.060148933723793964,
          0.060057343057652465,
          0.06030385388742136,
          0.06005597653517738,
          0.06014167870562106,
          0.05995912168475799,
          0.06006543650025884,
          0.060016158321039216,
          0.06003760405668601,
          0.0599074328502152
         ],
         "yaxis": "y7"
        },
        {
         "marker": {
          "color": [
           0,
           1,
           8,
           9,
           14,
           23,
           25,
           26,
           28,
           29,
           41,
           48,
           50,
           71,
           72,
           74,
           80,
           93,
           95,
           98,
           99
          ],
          "colorbar": {
           "title": {
            "text": "Trial"
           },
           "x": 1,
           "xpad": 40
          },
          "colorscale": [
           [
            0,
            "rgb(247,251,255)"
           ],
           [
            0.125,
            "rgb(222,235,247)"
           ],
           [
            0.25,
            "rgb(198,219,239)"
           ],
           [
            0.375,
            "rgb(158,202,225)"
           ],
           [
            0.5,
            "rgb(107,174,214)"
           ],
           [
            0.625,
            "rgb(66,146,198)"
           ],
           [
            0.75,
            "rgb(33,113,181)"
           ],
           [
            0.875,
            "rgb(8,81,156)"
           ],
           [
            1,
            "rgb(8,48,107)"
           ]
          ],
          "line": {
           "color": "Grey",
           "width": 0.5
          },
          "showscale": false
         },
         "mode": "markers",
         "name": "Feasible Trial",
         "showlegend": false,
         "type": "scatter",
         "x": [
          0.12129150243010631,
          0.022977788503578924,
          3.6218923912634994e-8,
          1.750725197839413,
          1.231567837280699e-7,
          0.000005489182780183958,
          0.0000580313526493637,
          0.000076613461271985,
          0.00008479288902300952,
          0.00009542747246712591,
          0.00007224962122170047,
          0.00116915427309857,
          0.002151670359921998,
          0.007268458856251668,
          0.0005230197343625181,
          0.0003983996336160227,
          0.0000585868500696199,
          0.0001340359531012313,
          0.00013636869765985824,
          0.00006507528643813426,
          0.00006626317384074731
         ],
         "xaxis": "x8",
         "y": [
          0.06457851281490593,
          0.06407736856518226,
          0.06215956655320058,
          0.06371294418238299,
          0.060565904625392165,
          0.060186083449198305,
          0.060057183430695424,
          0.06020600084808618,
          0.060086943882373664,
          0.06011340360323465,
          0.06017658231152149,
          0.060148933723793964,
          0.060057343057652465,
          0.06030385388742136,
          0.06005597653517738,
          0.06014167870562106,
          0.05995912168475799,
          0.06006543650025884,
          0.060016158321039216,
          0.06003760405668601,
          0.0599074328502152
         ],
         "yaxis": "y8"
        },
        {
         "marker": {
          "color": [
           0,
           1,
           8,
           9,
           14,
           23,
           25,
           26,
           28,
           29,
           41,
           48,
           50,
           71,
           72,
           74,
           80,
           93,
           95,
           98,
           99
          ],
          "colorbar": {
           "title": {
            "text": "Trial"
           },
           "x": 1,
           "xpad": 40
          },
          "colorscale": [
           [
            0,
            "rgb(247,251,255)"
           ],
           [
            0.125,
            "rgb(222,235,247)"
           ],
           [
            0.25,
            "rgb(198,219,239)"
           ],
           [
            0.375,
            "rgb(158,202,225)"
           ],
           [
            0.5,
            "rgb(107,174,214)"
           ],
           [
            0.625,
            "rgb(66,146,198)"
           ],
           [
            0.75,
            "rgb(33,113,181)"
           ],
           [
            0.875,
            "rgb(8,81,156)"
           ],
           [
            1,
            "rgb(8,48,107)"
           ]
          ],
          "line": {
           "color": "Grey",
           "width": 0.5
          },
          "showscale": false
         },
         "mode": "markers",
         "name": "Feasible Trial",
         "showlegend": false,
         "type": "scatter",
         "x": [
          5.1785765631054024e-8,
          0.000013387825983676596,
          12.177073528463739,
          0.010520930155099644,
          77.39198482010316,
          5.8500745252386075,
          6.2070546159705895,
          6.222233186027546,
          6.491228536118108,
          7.631345879396298,
          0.000008022354120213723,
          0.000005584139857097027,
          1.072439588240406,
          1.7955450879701765e-7,
          4.4252431584385727e-7,
          3.3478632541443766e-7,
          0.11609019604564942,
          0.0006898796031963901,
          6.725890142525076e-7,
          2.047631685734425,
          1.5873783401000778
         ],
         "xaxis": "x9",
         "y": [
          0.06457851281490593,
          0.06407736856518226,
          0.06215956655320058,
          0.06371294418238299,
          0.060565904625392165,
          0.060186083449198305,
          0.060057183430695424,
          0.06020600084808618,
          0.060086943882373664,
          0.06011340360323465,
          0.06017658231152149,
          0.060148933723793964,
          0.060057343057652465,
          0.06030385388742136,
          0.06005597653517738,
          0.06014167870562106,
          0.05995912168475799,
          0.06006543650025884,
          0.060016158321039216,
          0.06003760405668601,
          0.0599074328502152
         ],
         "yaxis": "y9"
        },
        {
         "marker": {
          "color": [
           0,
           1,
           8,
           9,
           14,
           23,
           25,
           26,
           28,
           29,
           41,
           48,
           50,
           71,
           72,
           74,
           80,
           93,
           95,
           98,
           99
          ],
          "colorbar": {
           "title": {
            "text": "Trial"
           },
           "x": 1,
           "xpad": 40
          },
          "colorscale": [
           [
            0,
            "rgb(247,251,255)"
           ],
           [
            0.125,
            "rgb(222,235,247)"
           ],
           [
            0.25,
            "rgb(198,219,239)"
           ],
           [
            0.375,
            "rgb(158,202,225)"
           ],
           [
            0.5,
            "rgb(107,174,214)"
           ],
           [
            0.625,
            "rgb(66,146,198)"
           ],
           [
            0.75,
            "rgb(33,113,181)"
           ],
           [
            0.875,
            "rgb(8,81,156)"
           ],
           [
            1,
            "rgb(8,48,107)"
           ]
          ],
          "line": {
           "color": "Grey",
           "width": 0.5
          },
          "showscale": false
         },
         "mode": "markers",
         "name": "Feasible Trial",
         "showlegend": false,
         "type": "scatter",
         "x": [
          0.6777623447080432,
          0.6795064278893388,
          0.11002542658734608,
          0.8506008318864983,
          0.6195827576249668,
          0.5200222830512283,
          0.55201393017149,
          0.6043177017517608,
          0.783056279898437,
          0.7450369507058406,
          0.5140080164090229,
          0.49806087343061745,
          0.6924898275459032,
          0.5271992792136544,
          0.5283496356991604,
          0.5442961084975336,
          0.5969626280530743,
          0.656033931409734,
          0.6068983827709339,
          0.5038708679147496,
          0.5106903680436836
         ],
         "xaxis": "x10",
         "y": [
          0.06457851281490593,
          0.06407736856518226,
          0.06215956655320058,
          0.06371294418238299,
          0.060565904625392165,
          0.060186083449198305,
          0.060057183430695424,
          0.06020600084808618,
          0.060086943882373664,
          0.06011340360323465,
          0.06017658231152149,
          0.060148933723793964,
          0.060057343057652465,
          0.06030385388742136,
          0.06005597653517738,
          0.06014167870562106,
          0.05995912168475799,
          0.06006543650025884,
          0.060016158321039216,
          0.06003760405668601,
          0.0599074328502152
         ],
         "yaxis": "y10"
        }
       ],
       "layout": {
        "template": {
         "data": {
          "bar": [
           {
            "error_x": {
             "color": "#2a3f5f"
            },
            "error_y": {
             "color": "#2a3f5f"
            },
            "marker": {
             "line": {
              "color": "#E5ECF6",
              "width": 0.5
             },
             "pattern": {
              "fillmode": "overlay",
              "size": 10,
              "solidity": 0.2
             }
            },
            "type": "bar"
           }
          ],
          "barpolar": [
           {
            "marker": {
             "line": {
              "color": "#E5ECF6",
              "width": 0.5
             },
             "pattern": {
              "fillmode": "overlay",
              "size": 10,
              "solidity": 0.2
             }
            },
            "type": "barpolar"
           }
          ],
          "carpet": [
           {
            "aaxis": {
             "endlinecolor": "#2a3f5f",
             "gridcolor": "white",
             "linecolor": "white",
             "minorgridcolor": "white",
             "startlinecolor": "#2a3f5f"
            },
            "baxis": {
             "endlinecolor": "#2a3f5f",
             "gridcolor": "white",
             "linecolor": "white",
             "minorgridcolor": "white",
             "startlinecolor": "#2a3f5f"
            },
            "type": "carpet"
           }
          ],
          "choropleth": [
           {
            "colorbar": {
             "outlinewidth": 0,
             "ticks": ""
            },
            "type": "choropleth"
           }
          ],
          "contour": [
           {
            "colorbar": {
             "outlinewidth": 0,
             "ticks": ""
            },
            "colorscale": [
             [
              0,
              "#0d0887"
             ],
             [
              0.1111111111111111,
              "#46039f"
             ],
             [
              0.2222222222222222,
              "#7201a8"
             ],
             [
              0.3333333333333333,
              "#9c179e"
             ],
             [
              0.4444444444444444,
              "#bd3786"
             ],
             [
              0.5555555555555556,
              "#d8576b"
             ],
             [
              0.6666666666666666,
              "#ed7953"
             ],
             [
              0.7777777777777778,
              "#fb9f3a"
             ],
             [
              0.8888888888888888,
              "#fdca26"
             ],
             [
              1,
              "#f0f921"
             ]
            ],
            "type": "contour"
           }
          ],
          "contourcarpet": [
           {
            "colorbar": {
             "outlinewidth": 0,
             "ticks": ""
            },
            "type": "contourcarpet"
           }
          ],
          "heatmap": [
           {
            "colorbar": {
             "outlinewidth": 0,
             "ticks": ""
            },
            "colorscale": [
             [
              0,
              "#0d0887"
             ],
             [
              0.1111111111111111,
              "#46039f"
             ],
             [
              0.2222222222222222,
              "#7201a8"
             ],
             [
              0.3333333333333333,
              "#9c179e"
             ],
             [
              0.4444444444444444,
              "#bd3786"
             ],
             [
              0.5555555555555556,
              "#d8576b"
             ],
             [
              0.6666666666666666,
              "#ed7953"
             ],
             [
              0.7777777777777778,
              "#fb9f3a"
             ],
             [
              0.8888888888888888,
              "#fdca26"
             ],
             [
              1,
              "#f0f921"
             ]
            ],
            "type": "heatmap"
           }
          ],
          "histogram": [
           {
            "marker": {
             "pattern": {
              "fillmode": "overlay",
              "size": 10,
              "solidity": 0.2
             }
            },
            "type": "histogram"
           }
          ],
          "histogram2d": [
           {
            "colorbar": {
             "outlinewidth": 0,
             "ticks": ""
            },
            "colorscale": [
             [
              0,
              "#0d0887"
             ],
             [
              0.1111111111111111,
              "#46039f"
             ],
             [
              0.2222222222222222,
              "#7201a8"
             ],
             [
              0.3333333333333333,
              "#9c179e"
             ],
             [
              0.4444444444444444,
              "#bd3786"
             ],
             [
              0.5555555555555556,
              "#d8576b"
             ],
             [
              0.6666666666666666,
              "#ed7953"
             ],
             [
              0.7777777777777778,
              "#fb9f3a"
             ],
             [
              0.8888888888888888,
              "#fdca26"
             ],
             [
              1,
              "#f0f921"
             ]
            ],
            "type": "histogram2d"
           }
          ],
          "histogram2dcontour": [
           {
            "colorbar": {
             "outlinewidth": 0,
             "ticks": ""
            },
            "colorscale": [
             [
              0,
              "#0d0887"
             ],
             [
              0.1111111111111111,
              "#46039f"
             ],
             [
              0.2222222222222222,
              "#7201a8"
             ],
             [
              0.3333333333333333,
              "#9c179e"
             ],
             [
              0.4444444444444444,
              "#bd3786"
             ],
             [
              0.5555555555555556,
              "#d8576b"
             ],
             [
              0.6666666666666666,
              "#ed7953"
             ],
             [
              0.7777777777777778,
              "#fb9f3a"
             ],
             [
              0.8888888888888888,
              "#fdca26"
             ],
             [
              1,
              "#f0f921"
             ]
            ],
            "type": "histogram2dcontour"
           }
          ],
          "mesh3d": [
           {
            "colorbar": {
             "outlinewidth": 0,
             "ticks": ""
            },
            "type": "mesh3d"
           }
          ],
          "parcoords": [
           {
            "line": {
             "colorbar": {
              "outlinewidth": 0,
              "ticks": ""
             }
            },
            "type": "parcoords"
           }
          ],
          "pie": [
           {
            "automargin": true,
            "type": "pie"
           }
          ],
          "scatter": [
           {
            "fillpattern": {
             "fillmode": "overlay",
             "size": 10,
             "solidity": 0.2
            },
            "type": "scatter"
           }
          ],
          "scatter3d": [
           {
            "line": {
             "colorbar": {
              "outlinewidth": 0,
              "ticks": ""
             }
            },
            "marker": {
             "colorbar": {
              "outlinewidth": 0,
              "ticks": ""
             }
            },
            "type": "scatter3d"
           }
          ],
          "scattercarpet": [
           {
            "marker": {
             "colorbar": {
              "outlinewidth": 0,
              "ticks": ""
             }
            },
            "type": "scattercarpet"
           }
          ],
          "scattergeo": [
           {
            "marker": {
             "colorbar": {
              "outlinewidth": 0,
              "ticks": ""
             }
            },
            "type": "scattergeo"
           }
          ],
          "scattergl": [
           {
            "marker": {
             "colorbar": {
              "outlinewidth": 0,
              "ticks": ""
             }
            },
            "type": "scattergl"
           }
          ],
          "scattermap": [
           {
            "marker": {
             "colorbar": {
              "outlinewidth": 0,
              "ticks": ""
             }
            },
            "type": "scattermap"
           }
          ],
          "scattermapbox": [
           {
            "marker": {
             "colorbar": {
              "outlinewidth": 0,
              "ticks": ""
             }
            },
            "type": "scattermapbox"
           }
          ],
          "scatterpolar": [
           {
            "marker": {
             "colorbar": {
              "outlinewidth": 0,
              "ticks": ""
             }
            },
            "type": "scatterpolar"
           }
          ],
          "scatterpolargl": [
           {
            "marker": {
             "colorbar": {
              "outlinewidth": 0,
              "ticks": ""
             }
            },
            "type": "scatterpolargl"
           }
          ],
          "scatterternary": [
           {
            "marker": {
             "colorbar": {
              "outlinewidth": 0,
              "ticks": ""
             }
            },
            "type": "scatterternary"
           }
          ],
          "surface": [
           {
            "colorbar": {
             "outlinewidth": 0,
             "ticks": ""
            },
            "colorscale": [
             [
              0,
              "#0d0887"
             ],
             [
              0.1111111111111111,
              "#46039f"
             ],
             [
              0.2222222222222222,
              "#7201a8"
             ],
             [
              0.3333333333333333,
              "#9c179e"
             ],
             [
              0.4444444444444444,
              "#bd3786"
             ],
             [
              0.5555555555555556,
              "#d8576b"
             ],
             [
              0.6666666666666666,
              "#ed7953"
             ],
             [
              0.7777777777777778,
              "#fb9f3a"
             ],
             [
              0.8888888888888888,
              "#fdca26"
             ],
             [
              1,
              "#f0f921"
             ]
            ],
            "type": "surface"
           }
          ],
          "table": [
           {
            "cells": {
             "fill": {
              "color": "#EBF0F8"
             },
             "line": {
              "color": "white"
             }
            },
            "header": {
             "fill": {
              "color": "#C8D4E3"
             },
             "line": {
              "color": "white"
             }
            },
            "type": "table"
           }
          ]
         },
         "layout": {
          "annotationdefaults": {
           "arrowcolor": "#2a3f5f",
           "arrowhead": 0,
           "arrowwidth": 1
          },
          "autotypenumbers": "strict",
          "coloraxis": {
           "colorbar": {
            "outlinewidth": 0,
            "ticks": ""
           }
          },
          "colorscale": {
           "diverging": [
            [
             0,
             "#8e0152"
            ],
            [
             0.1,
             "#c51b7d"
            ],
            [
             0.2,
             "#de77ae"
            ],
            [
             0.3,
             "#f1b6da"
            ],
            [
             0.4,
             "#fde0ef"
            ],
            [
             0.5,
             "#f7f7f7"
            ],
            [
             0.6,
             "#e6f5d0"
            ],
            [
             0.7,
             "#b8e186"
            ],
            [
             0.8,
             "#7fbc41"
            ],
            [
             0.9,
             "#4d9221"
            ],
            [
             1,
             "#276419"
            ]
           ],
           "sequential": [
            [
             0,
             "#0d0887"
            ],
            [
             0.1111111111111111,
             "#46039f"
            ],
            [
             0.2222222222222222,
             "#7201a8"
            ],
            [
             0.3333333333333333,
             "#9c179e"
            ],
            [
             0.4444444444444444,
             "#bd3786"
            ],
            [
             0.5555555555555556,
             "#d8576b"
            ],
            [
             0.6666666666666666,
             "#ed7953"
            ],
            [
             0.7777777777777778,
             "#fb9f3a"
            ],
            [
             0.8888888888888888,
             "#fdca26"
            ],
            [
             1,
             "#f0f921"
            ]
           ],
           "sequentialminus": [
            [
             0,
             "#0d0887"
            ],
            [
             0.1111111111111111,
             "#46039f"
            ],
            [
             0.2222222222222222,
             "#7201a8"
            ],
            [
             0.3333333333333333,
             "#9c179e"
            ],
            [
             0.4444444444444444,
             "#bd3786"
            ],
            [
             0.5555555555555556,
             "#d8576b"
            ],
            [
             0.6666666666666666,
             "#ed7953"
            ],
            [
             0.7777777777777778,
             "#fb9f3a"
            ],
            [
             0.8888888888888888,
             "#fdca26"
            ],
            [
             1,
             "#f0f921"
            ]
           ]
          },
          "colorway": [
           "#636efa",
           "#EF553B",
           "#00cc96",
           "#ab63fa",
           "#FFA15A",
           "#19d3f3",
           "#FF6692",
           "#B6E880",
           "#FF97FF",
           "#FECB52"
          ],
          "font": {
           "color": "#2a3f5f"
          },
          "geo": {
           "bgcolor": "white",
           "lakecolor": "white",
           "landcolor": "#E5ECF6",
           "showlakes": true,
           "showland": true,
           "subunitcolor": "white"
          },
          "hoverlabel": {
           "align": "left"
          },
          "hovermode": "closest",
          "mapbox": {
           "style": "light"
          },
          "paper_bgcolor": "white",
          "plot_bgcolor": "#E5ECF6",
          "polar": {
           "angularaxis": {
            "gridcolor": "white",
            "linecolor": "white",
            "ticks": ""
           },
           "bgcolor": "#E5ECF6",
           "radialaxis": {
            "gridcolor": "white",
            "linecolor": "white",
            "ticks": ""
           }
          },
          "scene": {
           "xaxis": {
            "backgroundcolor": "#E5ECF6",
            "gridcolor": "white",
            "gridwidth": 2,
            "linecolor": "white",
            "showbackground": true,
            "ticks": "",
            "zerolinecolor": "white"
           },
           "yaxis": {
            "backgroundcolor": "#E5ECF6",
            "gridcolor": "white",
            "gridwidth": 2,
            "linecolor": "white",
            "showbackground": true,
            "ticks": "",
            "zerolinecolor": "white"
           },
           "zaxis": {
            "backgroundcolor": "#E5ECF6",
            "gridcolor": "white",
            "gridwidth": 2,
            "linecolor": "white",
            "showbackground": true,
            "ticks": "",
            "zerolinecolor": "white"
           }
          },
          "shapedefaults": {
           "line": {
            "color": "#2a3f5f"
           }
          },
          "ternary": {
           "aaxis": {
            "gridcolor": "white",
            "linecolor": "white",
            "ticks": ""
           },
           "baxis": {
            "gridcolor": "white",
            "linecolor": "white",
            "ticks": ""
           },
           "bgcolor": "#E5ECF6",
           "caxis": {
            "gridcolor": "white",
            "linecolor": "white",
            "ticks": ""
           }
          },
          "title": {
           "x": 0.05
          },
          "xaxis": {
           "automargin": true,
           "gridcolor": "white",
           "linecolor": "white",
           "ticks": "",
           "title": {
            "standoff": 15
           },
           "zerolinecolor": "white",
           "zerolinewidth": 2
          },
          "yaxis": {
           "automargin": true,
           "gridcolor": "white",
           "linecolor": "white",
           "ticks": "",
           "title": {
            "standoff": 15
           },
           "zerolinecolor": "white",
           "zerolinewidth": 2
          }
         }
        },
        "title": {
         "text": "Slice Plot - LightGBM all 158 pca v8"
        },
        "width": 3000,
        "xaxis": {
         "anchor": "y",
         "domain": [
          0,
          0.082
         ],
         "title": {
          "text": "model__colsample_bytree"
         }
        },
        "xaxis10": {
         "anchor": "y10",
         "domain": [
          0.9179999999999999,
          0.9999999999999999
         ],
         "title": {
          "text": "model__subsample"
         }
        },
        "xaxis2": {
         "anchor": "y2",
         "domain": [
          0.10200000000000001,
          0.184
         ],
         "title": {
          "text": "model__learning_rate"
         },
         "type": "log"
        },
        "xaxis3": {
         "anchor": "y3",
         "domain": [
          0.20400000000000001,
          0.28600000000000003
         ],
         "title": {
          "text": "model__max_depth"
         }
        },
        "xaxis4": {
         "anchor": "y4",
         "domain": [
          0.306,
          0.388
         ],
         "title": {
          "text": "model__min_child_samples"
         }
        },
        "xaxis5": {
         "anchor": "y5",
         "domain": [
          0.40800000000000003,
          0.49000000000000005
         ],
         "title": {
          "text": "model__n_estimators"
         }
        },
        "xaxis6": {
         "anchor": "y6",
         "domain": [
          0.51,
          0.592
         ],
         "title": {
          "text": "model__num_leaves"
         }
        },
        "xaxis7": {
         "anchor": "y7",
         "categoryarray": [
          "regression_l2",
          "huber",
          "regression_l1"
         ],
         "categoryorder": "array",
         "domain": [
          0.612,
          0.694
         ],
         "title": {
          "text": "model__objective"
         },
         "type": "category"
        },
        "xaxis8": {
         "anchor": "y8",
         "domain": [
          0.7140000000000001,
          0.796
         ],
         "title": {
          "text": "model__reg_alpha"
         },
         "type": "log"
        },
        "xaxis9": {
         "anchor": "y9",
         "domain": [
          0.8160000000000001,
          0.898
         ],
         "title": {
          "text": "model__reg_lambda"
         },
         "type": "log"
        },
        "yaxis": {
         "anchor": "x",
         "domain": [
          0,
          1
         ],
         "title": {
          "text": "Objective Value"
         }
        },
        "yaxis10": {
         "anchor": "x10",
         "domain": [
          0,
          1
         ],
         "matches": "y",
         "showticklabels": false
        },
        "yaxis2": {
         "anchor": "x2",
         "domain": [
          0,
          1
         ],
         "matches": "y",
         "showticklabels": false
        },
        "yaxis3": {
         "anchor": "x3",
         "domain": [
          0,
          1
         ],
         "matches": "y",
         "showticklabels": false
        },
        "yaxis4": {
         "anchor": "x4",
         "domain": [
          0,
          1
         ],
         "matches": "y",
         "showticklabels": false
        },
        "yaxis5": {
         "anchor": "x5",
         "domain": [
          0,
          1
         ],
         "matches": "y",
         "showticklabels": false
        },
        "yaxis6": {
         "anchor": "x6",
         "domain": [
          0,
          1
         ],
         "matches": "y",
         "showticklabels": false
        },
        "yaxis7": {
         "anchor": "x7",
         "domain": [
          0,
          1
         ],
         "matches": "y",
         "showticklabels": false
        },
        "yaxis8": {
         "anchor": "x8",
         "domain": [
          0,
          1
         ],
         "matches": "y",
         "showticklabels": false
        },
        "yaxis9": {
         "anchor": "x9",
         "domain": [
          0,
          1
         ],
         "matches": "y",
         "showticklabels": false
        }
       }
      }
     },
     "metadata": {},
     "output_type": "display_data"
    },
    {
     "name": "stdout",
     "output_type": "stream",
     "text": [
      "\n",
      "Slice plot for: LightGBM_rfecv_base_nfeat_56_nonpca_count_mape_v8_study\n"
     ]
    },
    {
     "data": {
      "application/vnd.plotly.v1+json": {
       "config": {
        "plotlyServerURL": "https://plot.ly"
       },
       "data": [
        {
         "marker": {
          "color": [
           1,
           3,
           6,
           14,
           23,
           25,
           35,
           37,
           38,
           39,
           40,
           41,
           42,
           43,
           46,
           48,
           49,
           51,
           53,
           55,
           56,
           57,
           58,
           59,
           65,
           66,
           67,
           69,
           70,
           71,
           76,
           77,
           78,
           79,
           80,
           81,
           85,
           88,
           89,
           90,
           91,
           92,
           93,
           94,
           95,
           96,
           98,
           99
          ],
          "colorbar": {
           "title": {
            "text": "Trial"
           },
           "x": 1,
           "xpad": 40
          },
          "colorscale": [
           [
            0,
            "rgb(247,251,255)"
           ],
           [
            0.125,
            "rgb(222,235,247)"
           ],
           [
            0.25,
            "rgb(198,219,239)"
           ],
           [
            0.375,
            "rgb(158,202,225)"
           ],
           [
            0.5,
            "rgb(107,174,214)"
           ],
           [
            0.625,
            "rgb(66,146,198)"
           ],
           [
            0.75,
            "rgb(33,113,181)"
           ],
           [
            0.875,
            "rgb(8,81,156)"
           ],
           [
            1,
            "rgb(8,48,107)"
           ]
          ],
          "line": {
           "color": "Grey",
           "width": 0.5
          },
          "showscale": true
         },
         "mode": "markers",
         "name": "Feasible Trial",
         "showlegend": false,
         "type": "scatter",
         "x": [
          0.7635216869778197,
          0.44264577408273587,
          0.3399931752412601,
          0.6787947597928167,
          0.48173055643098434,
          0.42584774754440474,
          0.48661878660100893,
          0.5050307206769618,
          0.4822906876771032,
          0.46717965990084204,
          0.46728115927340413,
          0.47116684477183207,
          0.4911705694407323,
          0.4965107157937404,
          0.6422634041525372,
          0.5179579118704029,
          0.5317290844161898,
          0.5233875851126637,
          0.6338577917960095,
          0.6257417813310202,
          0.7891905948140446,
          0.5315188794020638,
          0.6283661040709373,
          0.6148896695220932,
          0.7766480642502648,
          0.7027660994468186,
          0.7273854053620895,
          0.7125017278660808,
          0.7161116608127245,
          0.7186849636148623,
          0.7531501480624151,
          0.5983033845681776,
          0.741974735129252,
          0.7387958572543368,
          0.7491350035995709,
          0.7475284388795101,
          0.8385426351056301,
          0.7481797670214697,
          0.8226658194163823,
          0.8329898002332907,
          0.7529580523068412,
          0.8151578448071336,
          0.7456616007074961,
          0.7401675640939894,
          0.7528819040968845,
          0.7504023238957267,
          0.7662802819075447,
          0.7599945068243046
         ],
         "xaxis": "x",
         "y": [
          0.08831346572435009,
          0.0742448100279354,
          0.08890626582812752,
          0.07220408484421123,
          0.07358082125427866,
          0.0734035291703646,
          0.07265527632758001,
          0.07224387662339331,
          0.07222059932820267,
          0.07245954777426541,
          0.0723388897678766,
          0.07220214990691579,
          0.07210029397809985,
          0.07201933326231626,
          0.07191881630861391,
          0.07179048585316747,
          0.07199917224809388,
          0.07215909123016183,
          0.07181781086561564,
          0.07180831800113037,
          0.07194559569668454,
          0.07191510401671071,
          0.07138690188163738,
          0.07174330148281317,
          0.0716371813062375,
          0.071386823170133,
          0.07147056513457244,
          0.07132676325625602,
          0.07120326643457925,
          0.07119569900740881,
          0.07136167238540034,
          0.07105380378215656,
          0.07117609814761654,
          0.07116066744248367,
          0.07127468009517454,
          0.07116406930168598,
          0.07153533315533629,
          0.07111307421261216,
          0.0714544795686535,
          0.07129612553900448,
          0.07107515229087631,
          0.07137025151897118,
          0.07107725909950229,
          0.07106868546225362,
          0.07115355921651131,
          0.07132505743330633,
          0.07104934136206102,
          0.07100747512300365
         ],
         "yaxis": "y"
        },
        {
         "marker": {
          "color": [
           1,
           3,
           6,
           14,
           23,
           25,
           35,
           37,
           38,
           39,
           40,
           41,
           42,
           43,
           46,
           48,
           49,
           51,
           53,
           55,
           56,
           57,
           58,
           59,
           65,
           66,
           67,
           69,
           70,
           71,
           76,
           77,
           78,
           79,
           80,
           81,
           85,
           88,
           89,
           90,
           91,
           92,
           93,
           94,
           95,
           96,
           98,
           99
          ],
          "colorbar": {
           "title": {
            "text": "Trial"
           },
           "x": 1,
           "xpad": 40
          },
          "colorscale": [
           [
            0,
            "rgb(247,251,255)"
           ],
           [
            0.125,
            "rgb(222,235,247)"
           ],
           [
            0.25,
            "rgb(198,219,239)"
           ],
           [
            0.375,
            "rgb(158,202,225)"
           ],
           [
            0.5,
            "rgb(107,174,214)"
           ],
           [
            0.625,
            "rgb(66,146,198)"
           ],
           [
            0.75,
            "rgb(33,113,181)"
           ],
           [
            0.875,
            "rgb(8,81,156)"
           ],
           [
            1,
            "rgb(8,48,107)"
           ]
          ],
          "line": {
           "color": "Grey",
           "width": 0.5
          },
          "showscale": false
         },
         "mode": "markers",
         "name": "Feasible Trial",
         "showlegend": false,
         "type": "scatter",
         "x": [
          0.02235914449171806,
          0.065342876472985,
          0.09158125915503416,
          0.028869902292313166,
          0.05658949431736957,
          0.02366330000592897,
          0.0605746259570401,
          0.029426825026502016,
          0.03397891655412433,
          0.03121349517374203,
          0.0346742563769195,
          0.032499912771987355,
          0.033877544161767505,
          0.031498740242020616,
          0.03162156893405598,
          0.031322064721752675,
          0.036055334744703654,
          0.02766640429138944,
          0.03728747507340208,
          0.03739264606053482,
          0.02658842233377309,
          0.04057201273865179,
          0.025962548945086494,
          0.026578023739171838,
          0.01975676984471479,
          0.019115471344152726,
          0.019761972372308242,
          0.019883046657156126,
          0.0205456649496195,
          0.01954289211276972,
          0.017927972549778567,
          0.01644607495070855,
          0.017516839464355734,
          0.017564703407785258,
          0.01810377690427742,
          0.01666654561437246,
          0.01630770138014077,
          0.014608716891370117,
          0.013775118864863,
          0.013449245802315477,
          0.011834910084391416,
          0.01272708572094445,
          0.012507891985345958,
          0.012538076929096188,
          0.01268856800792554,
          0.0215987366071598,
          0.012133018884434596,
          0.012732346462983496
         ],
         "xaxis": "x2",
         "y": [
          0.08831346572435009,
          0.0742448100279354,
          0.08890626582812752,
          0.07220408484421123,
          0.07358082125427866,
          0.0734035291703646,
          0.07265527632758001,
          0.07224387662339331,
          0.07222059932820267,
          0.07245954777426541,
          0.0723388897678766,
          0.07220214990691579,
          0.07210029397809985,
          0.07201933326231626,
          0.07191881630861391,
          0.07179048585316747,
          0.07199917224809388,
          0.07215909123016183,
          0.07181781086561564,
          0.07180831800113037,
          0.07194559569668454,
          0.07191510401671071,
          0.07138690188163738,
          0.07174330148281317,
          0.0716371813062375,
          0.071386823170133,
          0.07147056513457244,
          0.07132676325625602,
          0.07120326643457925,
          0.07119569900740881,
          0.07136167238540034,
          0.07105380378215656,
          0.07117609814761654,
          0.07116066744248367,
          0.07127468009517454,
          0.07116406930168598,
          0.07153533315533629,
          0.07111307421261216,
          0.0714544795686535,
          0.07129612553900448,
          0.07107515229087631,
          0.07137025151897118,
          0.07107725909950229,
          0.07106868546225362,
          0.07115355921651131,
          0.07132505743330633,
          0.07104934136206102,
          0.07100747512300365
         ],
         "yaxis": "y2"
        },
        {
         "marker": {
          "color": [
           1,
           3,
           6,
           14,
           23,
           25,
           35,
           37,
           38,
           39,
           40,
           41,
           42,
           43,
           46,
           48,
           49,
           51,
           53,
           55,
           56,
           57,
           58,
           59,
           65,
           66,
           67,
           69,
           70,
           71,
           76,
           77,
           78,
           79,
           80,
           81,
           85,
           88,
           89,
           90,
           91,
           92,
           93,
           94,
           95,
           96,
           98,
           99
          ],
          "colorbar": {
           "title": {
            "text": "Trial"
           },
           "x": 1,
           "xpad": 40
          },
          "colorscale": [
           [
            0,
            "rgb(247,251,255)"
           ],
           [
            0.125,
            "rgb(222,235,247)"
           ],
           [
            0.25,
            "rgb(198,219,239)"
           ],
           [
            0.375,
            "rgb(158,202,225)"
           ],
           [
            0.5,
            "rgb(107,174,214)"
           ],
           [
            0.625,
            "rgb(66,146,198)"
           ],
           [
            0.75,
            "rgb(33,113,181)"
           ],
           [
            0.875,
            "rgb(8,81,156)"
           ],
           [
            1,
            "rgb(8,48,107)"
           ]
          ],
          "line": {
           "color": "Grey",
           "width": 0.5
          },
          "showscale": false
         },
         "mode": "markers",
         "name": "Feasible Trial",
         "showlegend": false,
         "type": "scatter",
         "x": [
          9,
          200,
          116,
          92,
          194,
          97,
          148,
          180,
          180,
          175,
          179,
          178,
          180,
          88,
          177,
          174,
          167,
          162,
          75,
          87,
          86,
          86,
          88,
          190,
          114,
          121,
          61,
          69,
          67,
          67,
          116,
          123,
          58,
          52,
          54,
          51,
          56,
          52,
          53,
          53,
          37,
          37,
          26,
          39,
          39,
          33,
          40,
          40
         ],
         "xaxis": "x3",
         "y": [
          0.08831346572435009,
          0.0742448100279354,
          0.08890626582812752,
          0.07220408484421123,
          0.07358082125427866,
          0.0734035291703646,
          0.07265527632758001,
          0.07224387662339331,
          0.07222059932820267,
          0.07245954777426541,
          0.0723388897678766,
          0.07220214990691579,
          0.07210029397809985,
          0.07201933326231626,
          0.07191881630861391,
          0.07179048585316747,
          0.07199917224809388,
          0.07215909123016183,
          0.07181781086561564,
          0.07180831800113037,
          0.07194559569668454,
          0.07191510401671071,
          0.07138690188163738,
          0.07174330148281317,
          0.0716371813062375,
          0.071386823170133,
          0.07147056513457244,
          0.07132676325625602,
          0.07120326643457925,
          0.07119569900740881,
          0.07136167238540034,
          0.07105380378215656,
          0.07117609814761654,
          0.07116066744248367,
          0.07127468009517454,
          0.07116406930168598,
          0.07153533315533629,
          0.07111307421261216,
          0.0714544795686535,
          0.07129612553900448,
          0.07107515229087631,
          0.07137025151897118,
          0.07107725909950229,
          0.07106868546225362,
          0.07115355921651131,
          0.07132505743330633,
          0.07104934136206102,
          0.07100747512300365
         ],
         "yaxis": "y3"
        },
        {
         "marker": {
          "color": [
           1,
           3,
           6,
           14,
           23,
           25,
           35,
           37,
           38,
           39,
           40,
           41,
           42,
           43,
           46,
           48,
           49,
           51,
           53,
           55,
           56,
           57,
           58,
           59,
           65,
           66,
           67,
           69,
           70,
           71,
           76,
           77,
           78,
           79,
           80,
           81,
           85,
           88,
           89,
           90,
           91,
           92,
           93,
           94,
           95,
           96,
           98,
           99
          ],
          "colorbar": {
           "title": {
            "text": "Trial"
           },
           "x": 1,
           "xpad": 40
          },
          "colorscale": [
           [
            0,
            "rgb(247,251,255)"
           ],
           [
            0.125,
            "rgb(222,235,247)"
           ],
           [
            0.25,
            "rgb(198,219,239)"
           ],
           [
            0.375,
            "rgb(158,202,225)"
           ],
           [
            0.5,
            "rgb(107,174,214)"
           ],
           [
            0.625,
            "rgb(66,146,198)"
           ],
           [
            0.75,
            "rgb(33,113,181)"
           ],
           [
            0.875,
            "rgb(8,81,156)"
           ],
           [
            1,
            "rgb(8,48,107)"
           ]
          ],
          "line": {
           "color": "Grey",
           "width": 0.5
          },
          "showscale": false
         },
         "mode": "markers",
         "name": "Feasible Trial",
         "showlegend": false,
         "type": "scatter",
         "x": [
          79,
          38,
          71,
          46,
          39,
          5,
          25,
          26,
          21,
          25,
          24,
          23,
          23,
          23,
          19,
          15,
          17,
          33,
          11,
          11,
          15,
          14,
          11,
          12,
          10,
          11,
          10,
          9,
          7,
          7,
          7,
          8,
          8,
          8,
          7,
          8,
          8,
          8,
          8,
          7,
          8,
          7,
          7,
          8,
          5,
          5,
          5,
          5
         ],
         "xaxis": "x4",
         "y": [
          0.08831346572435009,
          0.0742448100279354,
          0.08890626582812752,
          0.07220408484421123,
          0.07358082125427866,
          0.0734035291703646,
          0.07265527632758001,
          0.07224387662339331,
          0.07222059932820267,
          0.07245954777426541,
          0.0723388897678766,
          0.07220214990691579,
          0.07210029397809985,
          0.07201933326231626,
          0.07191881630861391,
          0.07179048585316747,
          0.07199917224809388,
          0.07215909123016183,
          0.07181781086561564,
          0.07180831800113037,
          0.07194559569668454,
          0.07191510401671071,
          0.07138690188163738,
          0.07174330148281317,
          0.0716371813062375,
          0.071386823170133,
          0.07147056513457244,
          0.07132676325625602,
          0.07120326643457925,
          0.07119569900740881,
          0.07136167238540034,
          0.07105380378215656,
          0.07117609814761654,
          0.07116066744248367,
          0.07127468009517454,
          0.07116406930168598,
          0.07153533315533629,
          0.07111307421261216,
          0.0714544795686535,
          0.07129612553900448,
          0.07107515229087631,
          0.07137025151897118,
          0.07107725909950229,
          0.07106868546225362,
          0.07115355921651131,
          0.07132505743330633,
          0.07104934136206102,
          0.07100747512300365
         ],
         "yaxis": "y4"
        },
        {
         "marker": {
          "color": [
           1,
           3,
           6,
           14,
           23,
           25,
           35,
           37,
           38,
           39,
           40,
           41,
           42,
           43,
           46,
           48,
           49,
           51,
           53,
           55,
           56,
           57,
           58,
           59,
           65,
           66,
           67,
           69,
           70,
           71,
           76,
           77,
           78,
           79,
           80,
           81,
           85,
           88,
           89,
           90,
           91,
           92,
           93,
           94,
           95,
           96,
           98,
           99
          ],
          "colorbar": {
           "title": {
            "text": "Trial"
           },
           "x": 1,
           "xpad": 40
          },
          "colorscale": [
           [
            0,
            "rgb(247,251,255)"
           ],
           [
            0.125,
            "rgb(222,235,247)"
           ],
           [
            0.25,
            "rgb(198,219,239)"
           ],
           [
            0.375,
            "rgb(158,202,225)"
           ],
           [
            0.5,
            "rgb(107,174,214)"
           ],
           [
            0.625,
            "rgb(66,146,198)"
           ],
           [
            0.75,
            "rgb(33,113,181)"
           ],
           [
            0.875,
            "rgb(8,81,156)"
           ],
           [
            1,
            "rgb(8,48,107)"
           ]
          ],
          "line": {
           "color": "Grey",
           "width": 0.5
          },
          "showscale": false
         },
         "mode": "markers",
         "name": "Feasible Trial",
         "showlegend": false,
         "type": "scatter",
         "x": [
          1800,
          7200,
          5900,
          5500,
          1300,
          1100,
          1800,
          4300,
          2600,
          2500,
          4400,
          4400,
          2800,
          4500,
          4700,
          4200,
          4000,
          5300,
          4700,
          5600,
          3100,
          5500,
          5500,
          4000,
          4000,
          5700,
          5700,
          5900,
          5700,
          5800,
          5700,
          6700,
          6600,
          6600,
          6100,
          6500,
          6600,
          7100,
          6900,
          7400,
          7300,
          7300,
          7300,
          7200,
          7400,
          7300,
          7400,
          7500
         ],
         "xaxis": "x5",
         "y": [
          0.08831346572435009,
          0.0742448100279354,
          0.08890626582812752,
          0.07220408484421123,
          0.07358082125427866,
          0.0734035291703646,
          0.07265527632758001,
          0.07224387662339331,
          0.07222059932820267,
          0.07245954777426541,
          0.0723388897678766,
          0.07220214990691579,
          0.07210029397809985,
          0.07201933326231626,
          0.07191881630861391,
          0.07179048585316747,
          0.07199917224809388,
          0.07215909123016183,
          0.07181781086561564,
          0.07180831800113037,
          0.07194559569668454,
          0.07191510401671071,
          0.07138690188163738,
          0.07174330148281317,
          0.0716371813062375,
          0.071386823170133,
          0.07147056513457244,
          0.07132676325625602,
          0.07120326643457925,
          0.07119569900740881,
          0.07136167238540034,
          0.07105380378215656,
          0.07117609814761654,
          0.07116066744248367,
          0.07127468009517454,
          0.07116406930168598,
          0.07153533315533629,
          0.07111307421261216,
          0.0714544795686535,
          0.07129612553900448,
          0.07107515229087631,
          0.07137025151897118,
          0.07107725909950229,
          0.07106868546225362,
          0.07115355921651131,
          0.07132505743330633,
          0.07104934136206102,
          0.07100747512300365
         ],
         "yaxis": "y5"
        },
        {
         "marker": {
          "color": [
           1,
           3,
           6,
           14,
           23,
           25,
           35,
           37,
           38,
           39,
           40,
           41,
           42,
           43,
           46,
           48,
           49,
           51,
           53,
           55,
           56,
           57,
           58,
           59,
           65,
           66,
           67,
           69,
           70,
           71,
           76,
           77,
           78,
           79,
           80,
           81,
           85,
           88,
           89,
           90,
           91,
           92,
           93,
           94,
           95,
           96,
           98,
           99
          ],
          "colorbar": {
           "title": {
            "text": "Trial"
           },
           "x": 1,
           "xpad": 40
          },
          "colorscale": [
           [
            0,
            "rgb(247,251,255)"
           ],
           [
            0.125,
            "rgb(222,235,247)"
           ],
           [
            0.25,
            "rgb(198,219,239)"
           ],
           [
            0.375,
            "rgb(158,202,225)"
           ],
           [
            0.5,
            "rgb(107,174,214)"
           ],
           [
            0.625,
            "rgb(66,146,198)"
           ],
           [
            0.75,
            "rgb(33,113,181)"
           ],
           [
            0.875,
            "rgb(8,81,156)"
           ],
           [
            1,
            "rgb(8,48,107)"
           ]
          ],
          "line": {
           "color": "Grey",
           "width": 0.5
          },
          "showscale": false
         },
         "mode": "markers",
         "name": "Feasible Trial",
         "showlegend": false,
         "type": "scatter",
         "x": [
          31,
          52,
          103,
          326,
          245,
          354,
          299,
          347,
          349,
          372,
          357,
          374,
          389,
          279,
          392,
          408,
          440,
          432,
          468,
          459,
          274,
          477,
          482,
          489,
          499,
          492,
          500,
          463,
          499,
          497,
          458,
          456,
          485,
          452,
          485,
          487,
          485,
          482,
          425,
          444,
          425,
          447,
          427,
          443,
          449,
          446,
          443,
          444
         ],
         "xaxis": "x6",
         "y": [
          0.08831346572435009,
          0.0742448100279354,
          0.08890626582812752,
          0.07220408484421123,
          0.07358082125427866,
          0.0734035291703646,
          0.07265527632758001,
          0.07224387662339331,
          0.07222059932820267,
          0.07245954777426541,
          0.0723388897678766,
          0.07220214990691579,
          0.07210029397809985,
          0.07201933326231626,
          0.07191881630861391,
          0.07179048585316747,
          0.07199917224809388,
          0.07215909123016183,
          0.07181781086561564,
          0.07180831800113037,
          0.07194559569668454,
          0.07191510401671071,
          0.07138690188163738,
          0.07174330148281317,
          0.0716371813062375,
          0.071386823170133,
          0.07147056513457244,
          0.07132676325625602,
          0.07120326643457925,
          0.07119569900740881,
          0.07136167238540034,
          0.07105380378215656,
          0.07117609814761654,
          0.07116066744248367,
          0.07127468009517454,
          0.07116406930168598,
          0.07153533315533629,
          0.07111307421261216,
          0.0714544795686535,
          0.07129612553900448,
          0.07107515229087631,
          0.07137025151897118,
          0.07107725909950229,
          0.07106868546225362,
          0.07115355921651131,
          0.07132505743330633,
          0.07104934136206102,
          0.07100747512300365
         ],
         "yaxis": "y6"
        },
        {
         "marker": {
          "color": [
           1,
           3,
           6,
           14,
           23,
           25,
           35,
           37,
           38,
           39,
           40,
           41,
           42,
           43,
           46,
           48,
           49,
           51,
           53,
           55,
           56,
           57,
           58,
           59,
           65,
           66,
           67,
           69,
           70,
           71,
           76,
           77,
           78,
           79,
           80,
           81,
           85,
           88,
           89,
           90,
           91,
           92,
           93,
           94,
           95,
           96,
           98,
           99
          ],
          "colorbar": {
           "title": {
            "text": "Trial"
           },
           "x": 1,
           "xpad": 40
          },
          "colorscale": [
           [
            0,
            "rgb(247,251,255)"
           ],
           [
            0.125,
            "rgb(222,235,247)"
           ],
           [
            0.25,
            "rgb(198,219,239)"
           ],
           [
            0.375,
            "rgb(158,202,225)"
           ],
           [
            0.5,
            "rgb(107,174,214)"
           ],
           [
            0.625,
            "rgb(66,146,198)"
           ],
           [
            0.75,
            "rgb(33,113,181)"
           ],
           [
            0.875,
            "rgb(8,81,156)"
           ],
           [
            1,
            "rgb(8,48,107)"
           ]
          ],
          "line": {
           "color": "Grey",
           "width": 0.5
          },
          "showscale": false
         },
         "mode": "markers",
         "name": "Feasible Trial",
         "showlegend": false,
         "type": "scatter",
         "x": [
          "huber",
          "huber",
          "huber",
          "regression_l2",
          "huber",
          "huber",
          "regression_l2",
          "huber",
          "huber",
          "huber",
          "regression_l2",
          "regression_l2",
          "regression_l2",
          "regression_l2",
          "regression_l2",
          "regression_l2",
          "regression_l2",
          "regression_l2",
          "regression_l2",
          "regression_l2",
          "regression_l2",
          "regression_l2",
          "regression_l2",
          "regression_l2",
          "regression_l2",
          "regression_l2",
          "regression_l2",
          "regression_l2",
          "regression_l2",
          "regression_l2",
          "regression_l2",
          "regression_l2",
          "regression_l2",
          "regression_l2",
          "regression_l2",
          "regression_l2",
          "regression_l2",
          "regression_l2",
          "regression_l2",
          "regression_l2",
          "regression_l2",
          "regression_l2",
          "regression_l2",
          "regression_l2",
          "regression_l2",
          "regression_l2",
          "regression_l2",
          "regression_l2"
         ],
         "xaxis": "x7",
         "y": [
          0.08831346572435009,
          0.0742448100279354,
          0.08890626582812752,
          0.07220408484421123,
          0.07358082125427866,
          0.0734035291703646,
          0.07265527632758001,
          0.07224387662339331,
          0.07222059932820267,
          0.07245954777426541,
          0.0723388897678766,
          0.07220214990691579,
          0.07210029397809985,
          0.07201933326231626,
          0.07191881630861391,
          0.07179048585316747,
          0.07199917224809388,
          0.07215909123016183,
          0.07181781086561564,
          0.07180831800113037,
          0.07194559569668454,
          0.07191510401671071,
          0.07138690188163738,
          0.07174330148281317,
          0.0716371813062375,
          0.071386823170133,
          0.07147056513457244,
          0.07132676325625602,
          0.07120326643457925,
          0.07119569900740881,
          0.07136167238540034,
          0.07105380378215656,
          0.07117609814761654,
          0.07116066744248367,
          0.07127468009517454,
          0.07116406930168598,
          0.07153533315533629,
          0.07111307421261216,
          0.0714544795686535,
          0.07129612553900448,
          0.07107515229087631,
          0.07137025151897118,
          0.07107725909950229,
          0.07106868546225362,
          0.07115355921651131,
          0.07132505743330633,
          0.07104934136206102,
          0.07100747512300365
         ],
         "yaxis": "y7"
        },
        {
         "marker": {
          "color": [
           1,
           3,
           6,
           14,
           23,
           25,
           35,
           37,
           38,
           39,
           40,
           41,
           42,
           43,
           46,
           48,
           49,
           51,
           53,
           55,
           56,
           57,
           58,
           59,
           65,
           66,
           67,
           69,
           70,
           71,
           76,
           77,
           78,
           79,
           80,
           81,
           85,
           88,
           89,
           90,
           91,
           92,
           93,
           94,
           95,
           96,
           98,
           99
          ],
          "colorbar": {
           "title": {
            "text": "Trial"
           },
           "x": 1,
           "xpad": 40
          },
          "colorscale": [
           [
            0,
            "rgb(247,251,255)"
           ],
           [
            0.125,
            "rgb(222,235,247)"
           ],
           [
            0.25,
            "rgb(198,219,239)"
           ],
           [
            0.375,
            "rgb(158,202,225)"
           ],
           [
            0.5,
            "rgb(107,174,214)"
           ],
           [
            0.625,
            "rgb(66,146,198)"
           ],
           [
            0.75,
            "rgb(33,113,181)"
           ],
           [
            0.875,
            "rgb(8,81,156)"
           ],
           [
            1,
            "rgb(8,48,107)"
           ]
          ],
          "line": {
           "color": "Grey",
           "width": 0.5
          },
          "showscale": false
         },
         "mode": "markers",
         "name": "Feasible Trial",
         "showlegend": false,
         "type": "scatter",
         "x": [
          0.1460889989494268,
          0.0025538764211175346,
          1.9339258485083755,
          0.01813816499077338,
          4.477663554494271e-8,
          0.00015100273844928443,
          2.658838254361542e-7,
          4.7042354509270066e-7,
          0.000003976764619983748,
          0.000004204642029526256,
          5.670310297803969e-7,
          0.0000030594201947632822,
          0.000006602261092386228,
          0.000004221635588100715,
          0.000004734300603309862,
          0.000006517153829023296,
          0.0000025924775569613947,
          0.000002579868533860149,
          0.000014783589744676305,
          0.00001870475680097554,
          0.000014448643058430749,
          0.00002347066249703606,
          0.000021296401026769464,
          0.00001981726525204915,
          0.000015195901729752077,
          0.00044590650191588714,
          0.0006089583472955244,
          0.00041818327163389873,
          0.0009339468066555131,
          0.0006452558537476043,
          0.00019407980277469912,
          0.00022992530025696726,
          0.0014633239702386103,
          0.0013206781704983793,
          0.0014790251113237021,
          0.0015604503126650064,
          0.0020546987730367997,
          0.006290274696952027,
          0.005310941555570134,
          0.0072161432129519655,
          0.004566150654968801,
          0.005387243953556877,
          0.005595152479730724,
          0.0051594275761778375,
          0.0001986679934888835,
          0.00024639101812980635,
          0.010178886573655508,
          0.012386472991851994
         ],
         "xaxis": "x8",
         "y": [
          0.08831346572435009,
          0.0742448100279354,
          0.08890626582812752,
          0.07220408484421123,
          0.07358082125427866,
          0.0734035291703646,
          0.07265527632758001,
          0.07224387662339331,
          0.07222059932820267,
          0.07245954777426541,
          0.0723388897678766,
          0.07220214990691579,
          0.07210029397809985,
          0.07201933326231626,
          0.07191881630861391,
          0.07179048585316747,
          0.07199917224809388,
          0.07215909123016183,
          0.07181781086561564,
          0.07180831800113037,
          0.07194559569668454,
          0.07191510401671071,
          0.07138690188163738,
          0.07174330148281317,
          0.0716371813062375,
          0.071386823170133,
          0.07147056513457244,
          0.07132676325625602,
          0.07120326643457925,
          0.07119569900740881,
          0.07136167238540034,
          0.07105380378215656,
          0.07117609814761654,
          0.07116066744248367,
          0.07127468009517454,
          0.07116406930168598,
          0.07153533315533629,
          0.07111307421261216,
          0.0714544795686535,
          0.07129612553900448,
          0.07107515229087631,
          0.07137025151897118,
          0.07107725909950229,
          0.07106868546225362,
          0.07115355921651131,
          0.07132505743330633,
          0.07104934136206102,
          0.07100747512300365
         ],
         "yaxis": "y8"
        },
        {
         "marker": {
          "color": [
           1,
           3,
           6,
           14,
           23,
           25,
           35,
           37,
           38,
           39,
           40,
           41,
           42,
           43,
           46,
           48,
           49,
           51,
           53,
           55,
           56,
           57,
           58,
           59,
           65,
           66,
           67,
           69,
           70,
           71,
           76,
           77,
           78,
           79,
           80,
           81,
           85,
           88,
           89,
           90,
           91,
           92,
           93,
           94,
           95,
           96,
           98,
           99
          ],
          "colorbar": {
           "title": {
            "text": "Trial"
           },
           "x": 1,
           "xpad": 40
          },
          "colorscale": [
           [
            0,
            "rgb(247,251,255)"
           ],
           [
            0.125,
            "rgb(222,235,247)"
           ],
           [
            0.25,
            "rgb(198,219,239)"
           ],
           [
            0.375,
            "rgb(158,202,225)"
           ],
           [
            0.5,
            "rgb(107,174,214)"
           ],
           [
            0.625,
            "rgb(66,146,198)"
           ],
           [
            0.75,
            "rgb(33,113,181)"
           ],
           [
            0.875,
            "rgb(8,81,156)"
           ],
           [
            1,
            "rgb(8,48,107)"
           ]
          ],
          "line": {
           "color": "Grey",
           "width": 0.5
          },
          "showscale": false
         },
         "mode": "markers",
         "name": "Feasible Trial",
         "showlegend": false,
         "type": "scatter",
         "x": [
          5.3482580052878747e-8,
          0.0032404479888209895,
          20.361226965763453,
          1.1551590591192103e-7,
          0.000027204753492030836,
          0.00004706366180891204,
          0.000008964896814209513,
          0.000011984701563158966,
          0.00036744667288352104,
          0.00013312842847009205,
          0.0002653057001497615,
          0.000299236531482181,
          0.0001881469638662579,
          1.9089995293317808e-7,
          0.000306678473932065,
          0.00035194776117488145,
          0.00043767027407882276,
          2.7059183738745816e-7,
          1.895720587518946e-7,
          1.3666278630616776e-7,
          0.000002360485053240089,
          6.33831104820404e-8,
          1.0216446185153874e-7,
          0.0062472310461603375,
          0.0000016996598311453143,
          0.000002123571310598882,
          4.393932853759065e-8,
          1.2702959655634267e-8,
          4.364398769385005e-8,
          1.0200467172174778e-8,
          5.655280848662689e-7,
          1.1908198159842747e-8,
          1.1282010262029787e-8,
          4.492421238058801e-7,
          1.1756729121734239e-8,
          5.943396670135843e-7,
          1.927561713870067e-8,
          3.630487968163347e-7,
          2.0391630558996465e-8,
          2.209489160799404e-8,
          1.8090922014838758e-8,
          2.0944134727403012e-8,
          1.1727928313881324e-8,
          2.292346507382188e-8,
          1.0252437430306755e-8,
          1.0038400291856472e-8,
          1.1060501072946898e-8,
          6.648762775284923e-8
         ],
         "xaxis": "x9",
         "y": [
          0.08831346572435009,
          0.0742448100279354,
          0.08890626582812752,
          0.07220408484421123,
          0.07358082125427866,
          0.0734035291703646,
          0.07265527632758001,
          0.07224387662339331,
          0.07222059932820267,
          0.07245954777426541,
          0.0723388897678766,
          0.07220214990691579,
          0.07210029397809985,
          0.07201933326231626,
          0.07191881630861391,
          0.07179048585316747,
          0.07199917224809388,
          0.07215909123016183,
          0.07181781086561564,
          0.07180831800113037,
          0.07194559569668454,
          0.07191510401671071,
          0.07138690188163738,
          0.07174330148281317,
          0.0716371813062375,
          0.071386823170133,
          0.07147056513457244,
          0.07132676325625602,
          0.07120326643457925,
          0.07119569900740881,
          0.07136167238540034,
          0.07105380378215656,
          0.07117609814761654,
          0.07116066744248367,
          0.07127468009517454,
          0.07116406930168598,
          0.07153533315533629,
          0.07111307421261216,
          0.0714544795686535,
          0.07129612553900448,
          0.07107515229087631,
          0.07137025151897118,
          0.07107725909950229,
          0.07106868546225362,
          0.07115355921651131,
          0.07132505743330633,
          0.07104934136206102,
          0.07100747512300365
         ],
         "yaxis": "y9"
        },
        {
         "marker": {
          "color": [
           1,
           3,
           6,
           14,
           23,
           25,
           35,
           37,
           38,
           39,
           40,
           41,
           42,
           43,
           46,
           48,
           49,
           51,
           53,
           55,
           56,
           57,
           58,
           59,
           65,
           66,
           67,
           69,
           70,
           71,
           76,
           77,
           78,
           79,
           80,
           81,
           85,
           88,
           89,
           90,
           91,
           92,
           93,
           94,
           95,
           96,
           98,
           99
          ],
          "colorbar": {
           "title": {
            "text": "Trial"
           },
           "x": 1,
           "xpad": 40
          },
          "colorscale": [
           [
            0,
            "rgb(247,251,255)"
           ],
           [
            0.125,
            "rgb(222,235,247)"
           ],
           [
            0.25,
            "rgb(198,219,239)"
           ],
           [
            0.375,
            "rgb(158,202,225)"
           ],
           [
            0.5,
            "rgb(107,174,214)"
           ],
           [
            0.625,
            "rgb(66,146,198)"
           ],
           [
            0.75,
            "rgb(33,113,181)"
           ],
           [
            0.875,
            "rgb(8,81,156)"
           ],
           [
            1,
            "rgb(8,48,107)"
           ]
          ],
          "line": {
           "color": "Grey",
           "width": 0.5
          },
          "showscale": false
         },
         "mode": "markers",
         "name": "Feasible Trial",
         "showlegend": false,
         "type": "scatter",
         "x": [
          0.6076714673744272,
          0.5307971422705151,
          0.7348357943915614,
          0.28156590391724706,
          0.3602712505761064,
          0.24964053447101459,
          0.41022360537692226,
          0.23449228648436804,
          0.4143483517370198,
          0.23389639990499128,
          0.397622106276094,
          0.4048506169083918,
          0.4115520668669269,
          0.22250772810391256,
          0.13800922228175783,
          0.1395811530746518,
          0.41015070852846613,
          0.46585929652828983,
          0.15899919930768752,
          0.16507455167286572,
          0.1561750360869853,
          0.14864483012836344,
          0.15869476026476192,
          0.15973260848125048,
          0.14510377004118297,
          0.1560761832579684,
          0.17619866901795678,
          0.18260335458309232,
          0.18967850014855195,
          0.19016986882800735,
          0.2753614417109951,
          0.2706491968832425,
          0.2683189854831333,
          0.27127335549435183,
          0.10044591084432361,
          0.12028672367464609,
          0.2775965080050152,
          0.29583823619137,
          0.31852181591033096,
          0.3127100673648012,
          0.30772451216165736,
          0.11696042985183434,
          0.30650843189598065,
          0.3084793286623936,
          0.30372476963640865,
          0.11516396544125107,
          0.11582881450273796,
          0.11750436517347251
         ],
         "xaxis": "x10",
         "y": [
          0.08831346572435009,
          0.0742448100279354,
          0.08890626582812752,
          0.07220408484421123,
          0.07358082125427866,
          0.0734035291703646,
          0.07265527632758001,
          0.07224387662339331,
          0.07222059932820267,
          0.07245954777426541,
          0.0723388897678766,
          0.07220214990691579,
          0.07210029397809985,
          0.07201933326231626,
          0.07191881630861391,
          0.07179048585316747,
          0.07199917224809388,
          0.07215909123016183,
          0.07181781086561564,
          0.07180831800113037,
          0.07194559569668454,
          0.07191510401671071,
          0.07138690188163738,
          0.07174330148281317,
          0.0716371813062375,
          0.071386823170133,
          0.07147056513457244,
          0.07132676325625602,
          0.07120326643457925,
          0.07119569900740881,
          0.07136167238540034,
          0.07105380378215656,
          0.07117609814761654,
          0.07116066744248367,
          0.07127468009517454,
          0.07116406930168598,
          0.07153533315533629,
          0.07111307421261216,
          0.0714544795686535,
          0.07129612553900448,
          0.07107515229087631,
          0.07137025151897118,
          0.07107725909950229,
          0.07106868546225362,
          0.07115355921651131,
          0.07132505743330633,
          0.07104934136206102,
          0.07100747512300365
         ],
         "yaxis": "y10"
        }
       ],
       "layout": {
        "template": {
         "data": {
          "bar": [
           {
            "error_x": {
             "color": "#2a3f5f"
            },
            "error_y": {
             "color": "#2a3f5f"
            },
            "marker": {
             "line": {
              "color": "#E5ECF6",
              "width": 0.5
             },
             "pattern": {
              "fillmode": "overlay",
              "size": 10,
              "solidity": 0.2
             }
            },
            "type": "bar"
           }
          ],
          "barpolar": [
           {
            "marker": {
             "line": {
              "color": "#E5ECF6",
              "width": 0.5
             },
             "pattern": {
              "fillmode": "overlay",
              "size": 10,
              "solidity": 0.2
             }
            },
            "type": "barpolar"
           }
          ],
          "carpet": [
           {
            "aaxis": {
             "endlinecolor": "#2a3f5f",
             "gridcolor": "white",
             "linecolor": "white",
             "minorgridcolor": "white",
             "startlinecolor": "#2a3f5f"
            },
            "baxis": {
             "endlinecolor": "#2a3f5f",
             "gridcolor": "white",
             "linecolor": "white",
             "minorgridcolor": "white",
             "startlinecolor": "#2a3f5f"
            },
            "type": "carpet"
           }
          ],
          "choropleth": [
           {
            "colorbar": {
             "outlinewidth": 0,
             "ticks": ""
            },
            "type": "choropleth"
           }
          ],
          "contour": [
           {
            "colorbar": {
             "outlinewidth": 0,
             "ticks": ""
            },
            "colorscale": [
             [
              0,
              "#0d0887"
             ],
             [
              0.1111111111111111,
              "#46039f"
             ],
             [
              0.2222222222222222,
              "#7201a8"
             ],
             [
              0.3333333333333333,
              "#9c179e"
             ],
             [
              0.4444444444444444,
              "#bd3786"
             ],
             [
              0.5555555555555556,
              "#d8576b"
             ],
             [
              0.6666666666666666,
              "#ed7953"
             ],
             [
              0.7777777777777778,
              "#fb9f3a"
             ],
             [
              0.8888888888888888,
              "#fdca26"
             ],
             [
              1,
              "#f0f921"
             ]
            ],
            "type": "contour"
           }
          ],
          "contourcarpet": [
           {
            "colorbar": {
             "outlinewidth": 0,
             "ticks": ""
            },
            "type": "contourcarpet"
           }
          ],
          "heatmap": [
           {
            "colorbar": {
             "outlinewidth": 0,
             "ticks": ""
            },
            "colorscale": [
             [
              0,
              "#0d0887"
             ],
             [
              0.1111111111111111,
              "#46039f"
             ],
             [
              0.2222222222222222,
              "#7201a8"
             ],
             [
              0.3333333333333333,
              "#9c179e"
             ],
             [
              0.4444444444444444,
              "#bd3786"
             ],
             [
              0.5555555555555556,
              "#d8576b"
             ],
             [
              0.6666666666666666,
              "#ed7953"
             ],
             [
              0.7777777777777778,
              "#fb9f3a"
             ],
             [
              0.8888888888888888,
              "#fdca26"
             ],
             [
              1,
              "#f0f921"
             ]
            ],
            "type": "heatmap"
           }
          ],
          "histogram": [
           {
            "marker": {
             "pattern": {
              "fillmode": "overlay",
              "size": 10,
              "solidity": 0.2
             }
            },
            "type": "histogram"
           }
          ],
          "histogram2d": [
           {
            "colorbar": {
             "outlinewidth": 0,
             "ticks": ""
            },
            "colorscale": [
             [
              0,
              "#0d0887"
             ],
             [
              0.1111111111111111,
              "#46039f"
             ],
             [
              0.2222222222222222,
              "#7201a8"
             ],
             [
              0.3333333333333333,
              "#9c179e"
             ],
             [
              0.4444444444444444,
              "#bd3786"
             ],
             [
              0.5555555555555556,
              "#d8576b"
             ],
             [
              0.6666666666666666,
              "#ed7953"
             ],
             [
              0.7777777777777778,
              "#fb9f3a"
             ],
             [
              0.8888888888888888,
              "#fdca26"
             ],
             [
              1,
              "#f0f921"
             ]
            ],
            "type": "histogram2d"
           }
          ],
          "histogram2dcontour": [
           {
            "colorbar": {
             "outlinewidth": 0,
             "ticks": ""
            },
            "colorscale": [
             [
              0,
              "#0d0887"
             ],
             [
              0.1111111111111111,
              "#46039f"
             ],
             [
              0.2222222222222222,
              "#7201a8"
             ],
             [
              0.3333333333333333,
              "#9c179e"
             ],
             [
              0.4444444444444444,
              "#bd3786"
             ],
             [
              0.5555555555555556,
              "#d8576b"
             ],
             [
              0.6666666666666666,
              "#ed7953"
             ],
             [
              0.7777777777777778,
              "#fb9f3a"
             ],
             [
              0.8888888888888888,
              "#fdca26"
             ],
             [
              1,
              "#f0f921"
             ]
            ],
            "type": "histogram2dcontour"
           }
          ],
          "mesh3d": [
           {
            "colorbar": {
             "outlinewidth": 0,
             "ticks": ""
            },
            "type": "mesh3d"
           }
          ],
          "parcoords": [
           {
            "line": {
             "colorbar": {
              "outlinewidth": 0,
              "ticks": ""
             }
            },
            "type": "parcoords"
           }
          ],
          "pie": [
           {
            "automargin": true,
            "type": "pie"
           }
          ],
          "scatter": [
           {
            "fillpattern": {
             "fillmode": "overlay",
             "size": 10,
             "solidity": 0.2
            },
            "type": "scatter"
           }
          ],
          "scatter3d": [
           {
            "line": {
             "colorbar": {
              "outlinewidth": 0,
              "ticks": ""
             }
            },
            "marker": {
             "colorbar": {
              "outlinewidth": 0,
              "ticks": ""
             }
            },
            "type": "scatter3d"
           }
          ],
          "scattercarpet": [
           {
            "marker": {
             "colorbar": {
              "outlinewidth": 0,
              "ticks": ""
             }
            },
            "type": "scattercarpet"
           }
          ],
          "scattergeo": [
           {
            "marker": {
             "colorbar": {
              "outlinewidth": 0,
              "ticks": ""
             }
            },
            "type": "scattergeo"
           }
          ],
          "scattergl": [
           {
            "marker": {
             "colorbar": {
              "outlinewidth": 0,
              "ticks": ""
             }
            },
            "type": "scattergl"
           }
          ],
          "scattermap": [
           {
            "marker": {
             "colorbar": {
              "outlinewidth": 0,
              "ticks": ""
             }
            },
            "type": "scattermap"
           }
          ],
          "scattermapbox": [
           {
            "marker": {
             "colorbar": {
              "outlinewidth": 0,
              "ticks": ""
             }
            },
            "type": "scattermapbox"
           }
          ],
          "scatterpolar": [
           {
            "marker": {
             "colorbar": {
              "outlinewidth": 0,
              "ticks": ""
             }
            },
            "type": "scatterpolar"
           }
          ],
          "scatterpolargl": [
           {
            "marker": {
             "colorbar": {
              "outlinewidth": 0,
              "ticks": ""
             }
            },
            "type": "scatterpolargl"
           }
          ],
          "scatterternary": [
           {
            "marker": {
             "colorbar": {
              "outlinewidth": 0,
              "ticks": ""
             }
            },
            "type": "scatterternary"
           }
          ],
          "surface": [
           {
            "colorbar": {
             "outlinewidth": 0,
             "ticks": ""
            },
            "colorscale": [
             [
              0,
              "#0d0887"
             ],
             [
              0.1111111111111111,
              "#46039f"
             ],
             [
              0.2222222222222222,
              "#7201a8"
             ],
             [
              0.3333333333333333,
              "#9c179e"
             ],
             [
              0.4444444444444444,
              "#bd3786"
             ],
             [
              0.5555555555555556,
              "#d8576b"
             ],
             [
              0.6666666666666666,
              "#ed7953"
             ],
             [
              0.7777777777777778,
              "#fb9f3a"
             ],
             [
              0.8888888888888888,
              "#fdca26"
             ],
             [
              1,
              "#f0f921"
             ]
            ],
            "type": "surface"
           }
          ],
          "table": [
           {
            "cells": {
             "fill": {
              "color": "#EBF0F8"
             },
             "line": {
              "color": "white"
             }
            },
            "header": {
             "fill": {
              "color": "#C8D4E3"
             },
             "line": {
              "color": "white"
             }
            },
            "type": "table"
           }
          ]
         },
         "layout": {
          "annotationdefaults": {
           "arrowcolor": "#2a3f5f",
           "arrowhead": 0,
           "arrowwidth": 1
          },
          "autotypenumbers": "strict",
          "coloraxis": {
           "colorbar": {
            "outlinewidth": 0,
            "ticks": ""
           }
          },
          "colorscale": {
           "diverging": [
            [
             0,
             "#8e0152"
            ],
            [
             0.1,
             "#c51b7d"
            ],
            [
             0.2,
             "#de77ae"
            ],
            [
             0.3,
             "#f1b6da"
            ],
            [
             0.4,
             "#fde0ef"
            ],
            [
             0.5,
             "#f7f7f7"
            ],
            [
             0.6,
             "#e6f5d0"
            ],
            [
             0.7,
             "#b8e186"
            ],
            [
             0.8,
             "#7fbc41"
            ],
            [
             0.9,
             "#4d9221"
            ],
            [
             1,
             "#276419"
            ]
           ],
           "sequential": [
            [
             0,
             "#0d0887"
            ],
            [
             0.1111111111111111,
             "#46039f"
            ],
            [
             0.2222222222222222,
             "#7201a8"
            ],
            [
             0.3333333333333333,
             "#9c179e"
            ],
            [
             0.4444444444444444,
             "#bd3786"
            ],
            [
             0.5555555555555556,
             "#d8576b"
            ],
            [
             0.6666666666666666,
             "#ed7953"
            ],
            [
             0.7777777777777778,
             "#fb9f3a"
            ],
            [
             0.8888888888888888,
             "#fdca26"
            ],
            [
             1,
             "#f0f921"
            ]
           ],
           "sequentialminus": [
            [
             0,
             "#0d0887"
            ],
            [
             0.1111111111111111,
             "#46039f"
            ],
            [
             0.2222222222222222,
             "#7201a8"
            ],
            [
             0.3333333333333333,
             "#9c179e"
            ],
            [
             0.4444444444444444,
             "#bd3786"
            ],
            [
             0.5555555555555556,
             "#d8576b"
            ],
            [
             0.6666666666666666,
             "#ed7953"
            ],
            [
             0.7777777777777778,
             "#fb9f3a"
            ],
            [
             0.8888888888888888,
             "#fdca26"
            ],
            [
             1,
             "#f0f921"
            ]
           ]
          },
          "colorway": [
           "#636efa",
           "#EF553B",
           "#00cc96",
           "#ab63fa",
           "#FFA15A",
           "#19d3f3",
           "#FF6692",
           "#B6E880",
           "#FF97FF",
           "#FECB52"
          ],
          "font": {
           "color": "#2a3f5f"
          },
          "geo": {
           "bgcolor": "white",
           "lakecolor": "white",
           "landcolor": "#E5ECF6",
           "showlakes": true,
           "showland": true,
           "subunitcolor": "white"
          },
          "hoverlabel": {
           "align": "left"
          },
          "hovermode": "closest",
          "mapbox": {
           "style": "light"
          },
          "paper_bgcolor": "white",
          "plot_bgcolor": "#E5ECF6",
          "polar": {
           "angularaxis": {
            "gridcolor": "white",
            "linecolor": "white",
            "ticks": ""
           },
           "bgcolor": "#E5ECF6",
           "radialaxis": {
            "gridcolor": "white",
            "linecolor": "white",
            "ticks": ""
           }
          },
          "scene": {
           "xaxis": {
            "backgroundcolor": "#E5ECF6",
            "gridcolor": "white",
            "gridwidth": 2,
            "linecolor": "white",
            "showbackground": true,
            "ticks": "",
            "zerolinecolor": "white"
           },
           "yaxis": {
            "backgroundcolor": "#E5ECF6",
            "gridcolor": "white",
            "gridwidth": 2,
            "linecolor": "white",
            "showbackground": true,
            "ticks": "",
            "zerolinecolor": "white"
           },
           "zaxis": {
            "backgroundcolor": "#E5ECF6",
            "gridcolor": "white",
            "gridwidth": 2,
            "linecolor": "white",
            "showbackground": true,
            "ticks": "",
            "zerolinecolor": "white"
           }
          },
          "shapedefaults": {
           "line": {
            "color": "#2a3f5f"
           }
          },
          "ternary": {
           "aaxis": {
            "gridcolor": "white",
            "linecolor": "white",
            "ticks": ""
           },
           "baxis": {
            "gridcolor": "white",
            "linecolor": "white",
            "ticks": ""
           },
           "bgcolor": "#E5ECF6",
           "caxis": {
            "gridcolor": "white",
            "linecolor": "white",
            "ticks": ""
           }
          },
          "title": {
           "x": 0.05
          },
          "xaxis": {
           "automargin": true,
           "gridcolor": "white",
           "linecolor": "white",
           "ticks": "",
           "title": {
            "standoff": 15
           },
           "zerolinecolor": "white",
           "zerolinewidth": 2
          },
          "yaxis": {
           "automargin": true,
           "gridcolor": "white",
           "linecolor": "white",
           "ticks": "",
           "title": {
            "standoff": 15
           },
           "zerolinecolor": "white",
           "zerolinewidth": 2
          }
         }
        },
        "title": {
         "text": "Slice Plot - LightGBM base 56 nonpca v8"
        },
        "width": 3000,
        "xaxis": {
         "anchor": "y",
         "domain": [
          0,
          0.082
         ],
         "title": {
          "text": "model__colsample_bytree"
         }
        },
        "xaxis10": {
         "anchor": "y10",
         "domain": [
          0.9179999999999999,
          0.9999999999999999
         ],
         "title": {
          "text": "model__subsample"
         }
        },
        "xaxis2": {
         "anchor": "y2",
         "domain": [
          0.10200000000000001,
          0.184
         ],
         "title": {
          "text": "model__learning_rate"
         },
         "type": "log"
        },
        "xaxis3": {
         "anchor": "y3",
         "domain": [
          0.20400000000000001,
          0.28600000000000003
         ],
         "title": {
          "text": "model__max_depth"
         }
        },
        "xaxis4": {
         "anchor": "y4",
         "domain": [
          0.306,
          0.388
         ],
         "title": {
          "text": "model__min_child_samples"
         }
        },
        "xaxis5": {
         "anchor": "y5",
         "domain": [
          0.40800000000000003,
          0.49000000000000005
         ],
         "title": {
          "text": "model__n_estimators"
         }
        },
        "xaxis6": {
         "anchor": "y6",
         "domain": [
          0.51,
          0.592
         ],
         "title": {
          "text": "model__num_leaves"
         }
        },
        "xaxis7": {
         "anchor": "y7",
         "categoryarray": [
          "regression_l2",
          "huber",
          "regression_l1"
         ],
         "categoryorder": "array",
         "domain": [
          0.612,
          0.694
         ],
         "title": {
          "text": "model__objective"
         },
         "type": "category"
        },
        "xaxis8": {
         "anchor": "y8",
         "domain": [
          0.7140000000000001,
          0.796
         ],
         "title": {
          "text": "model__reg_alpha"
         },
         "type": "log"
        },
        "xaxis9": {
         "anchor": "y9",
         "domain": [
          0.8160000000000001,
          0.898
         ],
         "title": {
          "text": "model__reg_lambda"
         },
         "type": "log"
        },
        "yaxis": {
         "anchor": "x",
         "domain": [
          0,
          1
         ],
         "title": {
          "text": "Objective Value"
         }
        },
        "yaxis10": {
         "anchor": "x10",
         "domain": [
          0,
          1
         ],
         "matches": "y",
         "showticklabels": false
        },
        "yaxis2": {
         "anchor": "x2",
         "domain": [
          0,
          1
         ],
         "matches": "y",
         "showticklabels": false
        },
        "yaxis3": {
         "anchor": "x3",
         "domain": [
          0,
          1
         ],
         "matches": "y",
         "showticklabels": false
        },
        "yaxis4": {
         "anchor": "x4",
         "domain": [
          0,
          1
         ],
         "matches": "y",
         "showticklabels": false
        },
        "yaxis5": {
         "anchor": "x5",
         "domain": [
          0,
          1
         ],
         "matches": "y",
         "showticklabels": false
        },
        "yaxis6": {
         "anchor": "x6",
         "domain": [
          0,
          1
         ],
         "matches": "y",
         "showticklabels": false
        },
        "yaxis7": {
         "anchor": "x7",
         "domain": [
          0,
          1
         ],
         "matches": "y",
         "showticklabels": false
        },
        "yaxis8": {
         "anchor": "x8",
         "domain": [
          0,
          1
         ],
         "matches": "y",
         "showticklabels": false
        },
        "yaxis9": {
         "anchor": "x9",
         "domain": [
          0,
          1
         ],
         "matches": "y",
         "showticklabels": false
        }
       }
      }
     },
     "metadata": {},
     "output_type": "display_data"
    },
    {
     "name": "stdout",
     "output_type": "stream",
     "text": [
      "\n",
      "Slice plot for: LightGBM_rfecv_base_poi_pano_nfeat_158_nonpca_count_loc_mape_v8_study\n"
     ]
    },
    {
     "data": {
      "application/vnd.plotly.v1+json": {
       "config": {
        "plotlyServerURL": "https://plot.ly"
       },
       "data": [
        {
         "marker": {
          "color": [
           0,
           5,
           6,
           9,
           16,
           19,
           26,
           27,
           35,
           42,
           45,
           48,
           50,
           51,
           57,
           61,
           69,
           71,
           72,
           73,
           75,
           76,
           77,
           79,
           81,
           83,
           84,
           88,
           90,
           99
          ],
          "colorbar": {
           "title": {
            "text": "Trial"
           },
           "x": 1,
           "xpad": 40
          },
          "colorscale": [
           [
            0,
            "rgb(247,251,255)"
           ],
           [
            0.125,
            "rgb(222,235,247)"
           ],
           [
            0.25,
            "rgb(198,219,239)"
           ],
           [
            0.375,
            "rgb(158,202,225)"
           ],
           [
            0.5,
            "rgb(107,174,214)"
           ],
           [
            0.625,
            "rgb(66,146,198)"
           ],
           [
            0.75,
            "rgb(33,113,181)"
           ],
           [
            0.875,
            "rgb(8,81,156)"
           ],
           [
            1,
            "rgb(8,48,107)"
           ]
          ],
          "line": {
           "color": "Grey",
           "width": 0.5
          },
          "showscale": true
         },
         "mode": "markers",
         "name": "Feasible Trial",
         "showlegend": false,
         "type": "scatter",
         "x": [
          0.2310356362932893,
          0.1381119514360643,
          0.5376404588440143,
          0.5461518849130798,
          0.9328320026594953,
          0.6254146381200442,
          0.5859819508805112,
          0.8372578884938452,
          0.49164100272781663,
          0.5949394240576011,
          0.8871980919972874,
          0.6191356798167125,
          0.6045850504334862,
          0.9037831416686304,
          0.7687708096540751,
          0.7764794834081339,
          0.7755735009009532,
          0.7842072810155488,
          0.7669595542510188,
          0.7650651344047996,
          0.7670319864652708,
          0.7647666572970817,
          0.7712637819565155,
          0.6832642219015264,
          0.7279815028993558,
          0.72459607654965,
          0.7283032766442439,
          0.7363366233065409,
          0.7378209743816867,
          0.7434172171083371
         ],
         "xaxis": "x",
         "y": [
          0.06375501890267625,
          0.07373358069932681,
          0.06258944587315352,
          0.062185261354809986,
          0.06198318718060564,
          0.06265137116508654,
          0.06217313400554728,
          0.06261171621617788,
          0.061812096569869156,
          0.061473255388985834,
          0.061671541011278384,
          0.061491340355253624,
          0.06128374749069145,
          0.06189783755196589,
          0.06154252327907219,
          0.061446563005982,
          0.06140111380985351,
          0.06147999607750147,
          0.06130768644571501,
          0.061279899529796324,
          0.06144219309475768,
          0.06131316931494237,
          0.06142750699378937,
          0.06134717109347594,
          0.06139895926886527,
          0.061402284398021714,
          0.061513650857095405,
          0.06137351631583062,
          0.06143949779661948,
          0.06144058217646163
         ],
         "yaxis": "y"
        },
        {
         "marker": {
          "color": [
           0,
           5,
           6,
           9,
           16,
           19,
           26,
           27,
           35,
           42,
           45,
           48,
           50,
           51,
           57,
           61,
           69,
           71,
           72,
           73,
           75,
           76,
           77,
           79,
           81,
           83,
           84,
           88,
           90,
           99
          ],
          "colorbar": {
           "title": {
            "text": "Trial"
           },
           "x": 1,
           "xpad": 40
          },
          "colorscale": [
           [
            0,
            "rgb(247,251,255)"
           ],
           [
            0.125,
            "rgb(222,235,247)"
           ],
           [
            0.25,
            "rgb(198,219,239)"
           ],
           [
            0.375,
            "rgb(158,202,225)"
           ],
           [
            0.5,
            "rgb(107,174,214)"
           ],
           [
            0.625,
            "rgb(66,146,198)"
           ],
           [
            0.75,
            "rgb(33,113,181)"
           ],
           [
            0.875,
            "rgb(8,81,156)"
           ],
           [
            1,
            "rgb(8,48,107)"
           ]
          ],
          "line": {
           "color": "Grey",
           "width": 0.5
          },
          "showscale": false
         },
         "mode": "markers",
         "name": "Feasible Trial",
         "showlegend": false,
         "type": "scatter",
         "x": [
          0.03142142349743413,
          0.04678581128256348,
          0.02837315711828062,
          0.011829418643289125,
          0.020747114337069193,
          0.023611788446665748,
          0.011654474196555012,
          0.011400020595614988,
          0.010278255069373991,
          0.016628749381584897,
          0.012988053294964403,
          0.012108800965418134,
          0.011699528839883053,
          0.028835438557951253,
          0.018760666726804383,
          0.010864922679720576,
          0.01755993189618034,
          0.018241798240929537,
          0.013837976688166864,
          0.013423693027963078,
          0.017881429525420277,
          0.013653742141039819,
          0.01843100287826997,
          0.010079941423185636,
          0.01612908366884347,
          0.015875847664514848,
          0.016920801137032794,
          0.015130038839949084,
          0.015439437544445924,
          0.013659516489778685
         ],
         "xaxis": "x2",
         "y": [
          0.06375501890267625,
          0.07373358069932681,
          0.06258944587315352,
          0.062185261354809986,
          0.06198318718060564,
          0.06265137116508654,
          0.06217313400554728,
          0.06261171621617788,
          0.061812096569869156,
          0.061473255388985834,
          0.061671541011278384,
          0.061491340355253624,
          0.06128374749069145,
          0.06189783755196589,
          0.06154252327907219,
          0.061446563005982,
          0.06140111380985351,
          0.06147999607750147,
          0.06130768644571501,
          0.061279899529796324,
          0.06144219309475768,
          0.06131316931494237,
          0.06142750699378937,
          0.06134717109347594,
          0.06139895926886527,
          0.061402284398021714,
          0.061513650857095405,
          0.06137351631583062,
          0.06143949779661948,
          0.06144058217646163
         ],
         "yaxis": "y2"
        },
        {
         "marker": {
          "color": [
           0,
           5,
           6,
           9,
           16,
           19,
           26,
           27,
           35,
           42,
           45,
           48,
           50,
           51,
           57,
           61,
           69,
           71,
           72,
           73,
           75,
           76,
           77,
           79,
           81,
           83,
           84,
           88,
           90,
           99
          ],
          "colorbar": {
           "title": {
            "text": "Trial"
           },
           "x": 1,
           "xpad": 40
          },
          "colorscale": [
           [
            0,
            "rgb(247,251,255)"
           ],
           [
            0.125,
            "rgb(222,235,247)"
           ],
           [
            0.25,
            "rgb(198,219,239)"
           ],
           [
            0.375,
            "rgb(158,202,225)"
           ],
           [
            0.5,
            "rgb(107,174,214)"
           ],
           [
            0.625,
            "rgb(66,146,198)"
           ],
           [
            0.75,
            "rgb(33,113,181)"
           ],
           [
            0.875,
            "rgb(8,81,156)"
           ],
           [
            1,
            "rgb(8,48,107)"
           ]
          ],
          "line": {
           "color": "Grey",
           "width": 0.5
          },
          "showscale": false
         },
         "mode": "markers",
         "name": "Feasible Trial",
         "showlegend": false,
         "type": "scatter",
         "x": [
          60,
          73,
          118,
          163,
          158,
          63,
          46,
          170,
          166,
          148,
          123,
          125,
          129,
          187,
          130,
          147,
          132,
          105,
          106,
          119,
          121,
          118,
          145,
          144,
          112,
          92,
          147,
          137,
          114,
          135
         ],
         "xaxis": "x3",
         "y": [
          0.06375501890267625,
          0.07373358069932681,
          0.06258944587315352,
          0.062185261354809986,
          0.06198318718060564,
          0.06265137116508654,
          0.06217313400554728,
          0.06261171621617788,
          0.061812096569869156,
          0.061473255388985834,
          0.061671541011278384,
          0.061491340355253624,
          0.06128374749069145,
          0.06189783755196589,
          0.06154252327907219,
          0.061446563005982,
          0.06140111380985351,
          0.06147999607750147,
          0.06130768644571501,
          0.061279899529796324,
          0.06144219309475768,
          0.06131316931494237,
          0.06142750699378937,
          0.06134717109347594,
          0.06139895926886527,
          0.061402284398021714,
          0.061513650857095405,
          0.06137351631583062,
          0.06143949779661948,
          0.06144058217646163
         ],
         "yaxis": "y3"
        },
        {
         "marker": {
          "color": [
           0,
           5,
           6,
           9,
           16,
           19,
           26,
           27,
           35,
           42,
           45,
           48,
           50,
           51,
           57,
           61,
           69,
           71,
           72,
           73,
           75,
           76,
           77,
           79,
           81,
           83,
           84,
           88,
           90,
           99
          ],
          "colorbar": {
           "title": {
            "text": "Trial"
           },
           "x": 1,
           "xpad": 40
          },
          "colorscale": [
           [
            0,
            "rgb(247,251,255)"
           ],
           [
            0.125,
            "rgb(222,235,247)"
           ],
           [
            0.25,
            "rgb(198,219,239)"
           ],
           [
            0.375,
            "rgb(158,202,225)"
           ],
           [
            0.5,
            "rgb(107,174,214)"
           ],
           [
            0.625,
            "rgb(66,146,198)"
           ],
           [
            0.75,
            "rgb(33,113,181)"
           ],
           [
            0.875,
            "rgb(8,81,156)"
           ],
           [
            1,
            "rgb(8,48,107)"
           ]
          ],
          "line": {
           "color": "Grey",
           "width": 0.5
          },
          "showscale": false
         },
         "mode": "markers",
         "name": "Feasible Trial",
         "showlegend": false,
         "type": "scatter",
         "x": [
          90,
          86,
          81,
          87,
          31,
          96,
          36,
          39,
          38,
          26,
          21,
          20,
          18,
          45,
          21,
          24,
          18,
          19,
          16,
          16,
          16,
          16,
          25,
          25,
          25,
          24,
          24,
          17,
          17,
          12
         ],
         "xaxis": "x4",
         "y": [
          0.06375501890267625,
          0.07373358069932681,
          0.06258944587315352,
          0.062185261354809986,
          0.06198318718060564,
          0.06265137116508654,
          0.06217313400554728,
          0.06261171621617788,
          0.061812096569869156,
          0.061473255388985834,
          0.061671541011278384,
          0.061491340355253624,
          0.06128374749069145,
          0.06189783755196589,
          0.06154252327907219,
          0.061446563005982,
          0.06140111380985351,
          0.06147999607750147,
          0.06130768644571501,
          0.061279899529796324,
          0.06144219309475768,
          0.06131316931494237,
          0.06142750699378937,
          0.06134717109347594,
          0.06139895926886527,
          0.061402284398021714,
          0.061513650857095405,
          0.06137351631583062,
          0.06143949779661948,
          0.06144058217646163
         ],
         "yaxis": "y4"
        },
        {
         "marker": {
          "color": [
           0,
           5,
           6,
           9,
           16,
           19,
           26,
           27,
           35,
           42,
           45,
           48,
           50,
           51,
           57,
           61,
           69,
           71,
           72,
           73,
           75,
           76,
           77,
           79,
           81,
           83,
           84,
           88,
           90,
           99
          ],
          "colorbar": {
           "title": {
            "text": "Trial"
           },
           "x": 1,
           "xpad": 40
          },
          "colorscale": [
           [
            0,
            "rgb(247,251,255)"
           ],
           [
            0.125,
            "rgb(222,235,247)"
           ],
           [
            0.25,
            "rgb(198,219,239)"
           ],
           [
            0.375,
            "rgb(158,202,225)"
           ],
           [
            0.5,
            "rgb(107,174,214)"
           ],
           [
            0.625,
            "rgb(66,146,198)"
           ],
           [
            0.75,
            "rgb(33,113,181)"
           ],
           [
            0.875,
            "rgb(8,81,156)"
           ],
           [
            1,
            "rgb(8,48,107)"
           ]
          ],
          "line": {
           "color": "Grey",
           "width": 0.5
          },
          "showscale": false
         },
         "mode": "markers",
         "name": "Feasible Trial",
         "showlegend": false,
         "type": "scatter",
         "x": [
          5000,
          4700,
          2500,
          7700,
          4600,
          3000,
          2400,
          2300,
          6600,
          4100,
          4200,
          4300,
          7500,
          4400,
          5000,
          4700,
          5300,
          5900,
          6000,
          5900,
          3800,
          5300,
          5300,
          6400,
          6200,
          6200,
          6300,
          5200,
          6300,
          5700
         ],
         "xaxis": "x5",
         "y": [
          0.06375501890267625,
          0.07373358069932681,
          0.06258944587315352,
          0.062185261354809986,
          0.06198318718060564,
          0.06265137116508654,
          0.06217313400554728,
          0.06261171621617788,
          0.061812096569869156,
          0.061473255388985834,
          0.061671541011278384,
          0.061491340355253624,
          0.06128374749069145,
          0.06189783755196589,
          0.06154252327907219,
          0.061446563005982,
          0.06140111380985351,
          0.06147999607750147,
          0.06130768644571501,
          0.061279899529796324,
          0.06144219309475768,
          0.06131316931494237,
          0.06142750699378937,
          0.06134717109347594,
          0.06139895926886527,
          0.061402284398021714,
          0.061513650857095405,
          0.06137351631583062,
          0.06143949779661948,
          0.06144058217646163
         ],
         "yaxis": "y5"
        },
        {
         "marker": {
          "color": [
           0,
           5,
           6,
           9,
           16,
           19,
           26,
           27,
           35,
           42,
           45,
           48,
           50,
           51,
           57,
           61,
           69,
           71,
           72,
           73,
           75,
           76,
           77,
           79,
           81,
           83,
           84,
           88,
           90,
           99
          ],
          "colorbar": {
           "title": {
            "text": "Trial"
           },
           "x": 1,
           "xpad": 40
          },
          "colorscale": [
           [
            0,
            "rgb(247,251,255)"
           ],
           [
            0.125,
            "rgb(222,235,247)"
           ],
           [
            0.25,
            "rgb(198,219,239)"
           ],
           [
            0.375,
            "rgb(158,202,225)"
           ],
           [
            0.5,
            "rgb(107,174,214)"
           ],
           [
            0.625,
            "rgb(66,146,198)"
           ],
           [
            0.75,
            "rgb(33,113,181)"
           ],
           [
            0.875,
            "rgb(8,81,156)"
           ],
           [
            1,
            "rgb(8,48,107)"
           ]
          ],
          "line": {
           "color": "Grey",
           "width": 0.5
          },
          "showscale": false
         },
         "mode": "markers",
         "name": "Feasible Trial",
         "showlegend": false,
         "type": "scatter",
         "x": [
          101,
          29,
          248,
          166,
          230,
          147,
          233,
          206,
          220,
          293,
          304,
          240,
          247,
          237,
          163,
          257,
          219,
          380,
          385,
          317,
          378,
          394,
          260,
          224,
          425,
          424,
          401,
          402,
          415,
          435
         ],
         "xaxis": "x6",
         "y": [
          0.06375501890267625,
          0.07373358069932681,
          0.06258944587315352,
          0.062185261354809986,
          0.06198318718060564,
          0.06265137116508654,
          0.06217313400554728,
          0.06261171621617788,
          0.061812096569869156,
          0.061473255388985834,
          0.061671541011278384,
          0.061491340355253624,
          0.06128374749069145,
          0.06189783755196589,
          0.06154252327907219,
          0.061446563005982,
          0.06140111380985351,
          0.06147999607750147,
          0.06130768644571501,
          0.061279899529796324,
          0.06144219309475768,
          0.06131316931494237,
          0.06142750699378937,
          0.06134717109347594,
          0.06139895926886527,
          0.061402284398021714,
          0.061513650857095405,
          0.06137351631583062,
          0.06143949779661948,
          0.06144058217646163
         ],
         "yaxis": "y6"
        },
        {
         "marker": {
          "color": [
           0,
           5,
           6,
           9,
           16,
           19,
           26,
           27,
           35,
           42,
           45,
           48,
           50,
           51,
           57,
           61,
           69,
           71,
           72,
           73,
           75,
           76,
           77,
           79,
           81,
           83,
           84,
           88,
           90,
           99
          ],
          "colorbar": {
           "title": {
            "text": "Trial"
           },
           "x": 1,
           "xpad": 40
          },
          "colorscale": [
           [
            0,
            "rgb(247,251,255)"
           ],
           [
            0.125,
            "rgb(222,235,247)"
           ],
           [
            0.25,
            "rgb(198,219,239)"
           ],
           [
            0.375,
            "rgb(158,202,225)"
           ],
           [
            0.5,
            "rgb(107,174,214)"
           ],
           [
            0.625,
            "rgb(66,146,198)"
           ],
           [
            0.75,
            "rgb(33,113,181)"
           ],
           [
            0.875,
            "rgb(8,81,156)"
           ],
           [
            1,
            "rgb(8,48,107)"
           ]
          ],
          "line": {
           "color": "Grey",
           "width": 0.5
          },
          "showscale": false
         },
         "mode": "markers",
         "name": "Feasible Trial",
         "showlegend": false,
         "type": "scatter",
         "x": [
          "regression_l2",
          "regression_l1",
          "huber",
          "huber",
          "regression_l2",
          "regression_l2",
          "huber",
          "huber",
          "huber",
          "huber",
          "huber",
          "huber",
          "huber",
          "huber",
          "huber",
          "huber",
          "huber",
          "huber",
          "huber",
          "huber",
          "huber",
          "huber",
          "huber",
          "huber",
          "huber",
          "huber",
          "huber",
          "huber",
          "huber",
          "huber"
         ],
         "xaxis": "x7",
         "y": [
          0.06375501890267625,
          0.07373358069932681,
          0.06258944587315352,
          0.062185261354809986,
          0.06198318718060564,
          0.06265137116508654,
          0.06217313400554728,
          0.06261171621617788,
          0.061812096569869156,
          0.061473255388985834,
          0.061671541011278384,
          0.061491340355253624,
          0.06128374749069145,
          0.06189783755196589,
          0.06154252327907219,
          0.061446563005982,
          0.06140111380985351,
          0.06147999607750147,
          0.06130768644571501,
          0.061279899529796324,
          0.06144219309475768,
          0.06131316931494237,
          0.06142750699378937,
          0.06134717109347594,
          0.06139895926886527,
          0.061402284398021714,
          0.061513650857095405,
          0.06137351631583062,
          0.06143949779661948,
          0.06144058217646163
         ],
         "yaxis": "y7"
        },
        {
         "marker": {
          "color": [
           0,
           5,
           6,
           9,
           16,
           19,
           26,
           27,
           35,
           42,
           45,
           48,
           50,
           51,
           57,
           61,
           69,
           71,
           72,
           73,
           75,
           76,
           77,
           79,
           81,
           83,
           84,
           88,
           90,
           99
          ],
          "colorbar": {
           "title": {
            "text": "Trial"
           },
           "x": 1,
           "xpad": 40
          },
          "colorscale": [
           [
            0,
            "rgb(247,251,255)"
           ],
           [
            0.125,
            "rgb(222,235,247)"
           ],
           [
            0.25,
            "rgb(198,219,239)"
           ],
           [
            0.375,
            "rgb(158,202,225)"
           ],
           [
            0.5,
            "rgb(107,174,214)"
           ],
           [
            0.625,
            "rgb(66,146,198)"
           ],
           [
            0.75,
            "rgb(33,113,181)"
           ],
           [
            0.875,
            "rgb(8,81,156)"
           ],
           [
            1,
            "rgb(8,48,107)"
           ]
          ],
          "line": {
           "color": "Grey",
           "width": 0.5
          },
          "showscale": false
         },
         "mode": "markers",
         "name": "Feasible Trial",
         "showlegend": false,
         "type": "scatter",
         "x": [
          0.000006876980062072819,
          0.000001186720143315134,
          1.2324054741540908e-7,
          0.000042067982223412084,
          0.010241477800478287,
          2.6633913404434966e-8,
          1.260309489450928e-7,
          6.109641360808217e-8,
          0.00007275065550994252,
          0.017310874561049672,
          0.008926567622832834,
          0.0000037660492800837754,
          0.000003530870122165265,
          0.0007671891573046942,
          0.004827559547659171,
          0.000009592234217884322,
          0.0015480575111505909,
          0.0000012884375589186848,
          0.00000960523285677571,
          0.0000011417331990047085,
          0.000001524506088187675,
          8.087821093411559e-7,
          0.0000013238467076940066,
          0.0000012131825894245667,
          0.0000012261144019267547,
          0.000001466496443675149,
          4.787671660814033e-7,
          6.123908257132966e-7,
          4.432245795296725e-7,
          5.772197788678451e-8
         ],
         "xaxis": "x8",
         "y": [
          0.06375501890267625,
          0.07373358069932681,
          0.06258944587315352,
          0.062185261354809986,
          0.06198318718060564,
          0.06265137116508654,
          0.06217313400554728,
          0.06261171621617788,
          0.061812096569869156,
          0.061473255388985834,
          0.061671541011278384,
          0.061491340355253624,
          0.06128374749069145,
          0.06189783755196589,
          0.06154252327907219,
          0.061446563005982,
          0.06140111380985351,
          0.06147999607750147,
          0.06130768644571501,
          0.061279899529796324,
          0.06144219309475768,
          0.06131316931494237,
          0.06142750699378937,
          0.06134717109347594,
          0.06139895926886527,
          0.061402284398021714,
          0.061513650857095405,
          0.06137351631583062,
          0.06143949779661948,
          0.06144058217646163
         ],
         "yaxis": "y8"
        },
        {
         "marker": {
          "color": [
           0,
           5,
           6,
           9,
           16,
           19,
           26,
           27,
           35,
           42,
           45,
           48,
           50,
           51,
           57,
           61,
           69,
           71,
           72,
           73,
           75,
           76,
           77,
           79,
           81,
           83,
           84,
           88,
           90,
           99
          ],
          "colorbar": {
           "title": {
            "text": "Trial"
           },
           "x": 1,
           "xpad": 40
          },
          "colorscale": [
           [
            0,
            "rgb(247,251,255)"
           ],
           [
            0.125,
            "rgb(222,235,247)"
           ],
           [
            0.25,
            "rgb(198,219,239)"
           ],
           [
            0.375,
            "rgb(158,202,225)"
           ],
           [
            0.5,
            "rgb(107,174,214)"
           ],
           [
            0.625,
            "rgb(66,146,198)"
           ],
           [
            0.75,
            "rgb(33,113,181)"
           ],
           [
            0.875,
            "rgb(8,81,156)"
           ],
           [
            1,
            "rgb(8,48,107)"
           ]
          ],
          "line": {
           "color": "Grey",
           "width": 0.5
          },
          "showscale": false
         },
         "mode": "markers",
         "name": "Feasible Trial",
         "showlegend": false,
         "type": "scatter",
         "x": [
          1.0046608630024414,
          5.495715737255831,
          1.3251912468522273,
          0.6302909199752147,
          0.000020348556831613437,
          0.008205064281366359,
          0.029311402555383857,
          0.0018537517750009374,
          0.0009779554875362208,
          12.351629861495368,
          2.545664902484064,
          2.7436789523132132,
          1.7736025981935326,
          0.00010825912586949428,
          0.00015836311520211224,
          1.0577436033087485e-7,
          0.000017518484160540846,
          0.00045764546485946864,
          0.0003288579865219804,
          2.8327975804662817e-8,
          7.187190769063107e-7,
          2.572062973991119e-8,
          3.947260154216447e-8,
          1.7043564447277902e-8,
          1.416050721803888e-8,
          1.8904271800272115e-8,
          1.5325628359611055e-8,
          4.6648763593348793e-8,
          3.477702267591873e-8,
          3.063463228857803e-8
         ],
         "xaxis": "x9",
         "y": [
          0.06375501890267625,
          0.07373358069932681,
          0.06258944587315352,
          0.062185261354809986,
          0.06198318718060564,
          0.06265137116508654,
          0.06217313400554728,
          0.06261171621617788,
          0.061812096569869156,
          0.061473255388985834,
          0.061671541011278384,
          0.061491340355253624,
          0.06128374749069145,
          0.06189783755196589,
          0.06154252327907219,
          0.061446563005982,
          0.06140111380985351,
          0.06147999607750147,
          0.06130768644571501,
          0.061279899529796324,
          0.06144219309475768,
          0.06131316931494237,
          0.06142750699378937,
          0.06134717109347594,
          0.06139895926886527,
          0.061402284398021714,
          0.061513650857095405,
          0.06137351631583062,
          0.06143949779661948,
          0.06144058217646163
         ],
         "yaxis": "y9"
        },
        {
         "marker": {
          "color": [
           0,
           5,
           6,
           9,
           16,
           19,
           26,
           27,
           35,
           42,
           45,
           48,
           50,
           51,
           57,
           61,
           69,
           71,
           72,
           73,
           75,
           76,
           77,
           79,
           81,
           83,
           84,
           88,
           90,
           99
          ],
          "colorbar": {
           "title": {
            "text": "Trial"
           },
           "x": 1,
           "xpad": 40
          },
          "colorscale": [
           [
            0,
            "rgb(247,251,255)"
           ],
           [
            0.125,
            "rgb(222,235,247)"
           ],
           [
            0.25,
            "rgb(198,219,239)"
           ],
           [
            0.375,
            "rgb(158,202,225)"
           ],
           [
            0.5,
            "rgb(107,174,214)"
           ],
           [
            0.625,
            "rgb(66,146,198)"
           ],
           [
            0.75,
            "rgb(33,113,181)"
           ],
           [
            0.875,
            "rgb(8,81,156)"
           ],
           [
            1,
            "rgb(8,48,107)"
           ]
          ],
          "line": {
           "color": "Grey",
           "width": 0.5
          },
          "showscale": false
         },
         "mode": "markers",
         "name": "Feasible Trial",
         "showlegend": false,
         "type": "scatter",
         "x": [
          0.18938978834589854,
          0.5007240106610658,
          0.48577801210687366,
          0.2411674146027473,
          0.7738481344638464,
          0.5799318039154865,
          0.575003017330662,
          0.5398706997901415,
          0.7144847544192324,
          0.3378151582395914,
          0.7618144071553969,
          0.8347054676591319,
          0.8405870194338378,
          0.7241555436181705,
          0.6160802144172718,
          0.8354317882994494,
          0.7127846843566864,
          0.6924729901212312,
          0.7227573542803115,
          0.9469174339922801,
          0.9384216837519254,
          0.935517989436701,
          0.9427237454377206,
          0.6881693672966583,
          0.9501737836734264,
          0.9479157310667077,
          0.9530876823035223,
          0.9733818221289812,
          0.9748978267529094,
          0.9807340259764077
         ],
         "xaxis": "x10",
         "y": [
          0.06375501890267625,
          0.07373358069932681,
          0.06258944587315352,
          0.062185261354809986,
          0.06198318718060564,
          0.06265137116508654,
          0.06217313400554728,
          0.06261171621617788,
          0.061812096569869156,
          0.061473255388985834,
          0.061671541011278384,
          0.061491340355253624,
          0.06128374749069145,
          0.06189783755196589,
          0.06154252327907219,
          0.061446563005982,
          0.06140111380985351,
          0.06147999607750147,
          0.06130768644571501,
          0.061279899529796324,
          0.06144219309475768,
          0.06131316931494237,
          0.06142750699378937,
          0.06134717109347594,
          0.06139895926886527,
          0.061402284398021714,
          0.061513650857095405,
          0.06137351631583062,
          0.06143949779661948,
          0.06144058217646163
         ],
         "yaxis": "y10"
        }
       ],
       "layout": {
        "template": {
         "data": {
          "bar": [
           {
            "error_x": {
             "color": "#2a3f5f"
            },
            "error_y": {
             "color": "#2a3f5f"
            },
            "marker": {
             "line": {
              "color": "#E5ECF6",
              "width": 0.5
             },
             "pattern": {
              "fillmode": "overlay",
              "size": 10,
              "solidity": 0.2
             }
            },
            "type": "bar"
           }
          ],
          "barpolar": [
           {
            "marker": {
             "line": {
              "color": "#E5ECF6",
              "width": 0.5
             },
             "pattern": {
              "fillmode": "overlay",
              "size": 10,
              "solidity": 0.2
             }
            },
            "type": "barpolar"
           }
          ],
          "carpet": [
           {
            "aaxis": {
             "endlinecolor": "#2a3f5f",
             "gridcolor": "white",
             "linecolor": "white",
             "minorgridcolor": "white",
             "startlinecolor": "#2a3f5f"
            },
            "baxis": {
             "endlinecolor": "#2a3f5f",
             "gridcolor": "white",
             "linecolor": "white",
             "minorgridcolor": "white",
             "startlinecolor": "#2a3f5f"
            },
            "type": "carpet"
           }
          ],
          "choropleth": [
           {
            "colorbar": {
             "outlinewidth": 0,
             "ticks": ""
            },
            "type": "choropleth"
           }
          ],
          "contour": [
           {
            "colorbar": {
             "outlinewidth": 0,
             "ticks": ""
            },
            "colorscale": [
             [
              0,
              "#0d0887"
             ],
             [
              0.1111111111111111,
              "#46039f"
             ],
             [
              0.2222222222222222,
              "#7201a8"
             ],
             [
              0.3333333333333333,
              "#9c179e"
             ],
             [
              0.4444444444444444,
              "#bd3786"
             ],
             [
              0.5555555555555556,
              "#d8576b"
             ],
             [
              0.6666666666666666,
              "#ed7953"
             ],
             [
              0.7777777777777778,
              "#fb9f3a"
             ],
             [
              0.8888888888888888,
              "#fdca26"
             ],
             [
              1,
              "#f0f921"
             ]
            ],
            "type": "contour"
           }
          ],
          "contourcarpet": [
           {
            "colorbar": {
             "outlinewidth": 0,
             "ticks": ""
            },
            "type": "contourcarpet"
           }
          ],
          "heatmap": [
           {
            "colorbar": {
             "outlinewidth": 0,
             "ticks": ""
            },
            "colorscale": [
             [
              0,
              "#0d0887"
             ],
             [
              0.1111111111111111,
              "#46039f"
             ],
             [
              0.2222222222222222,
              "#7201a8"
             ],
             [
              0.3333333333333333,
              "#9c179e"
             ],
             [
              0.4444444444444444,
              "#bd3786"
             ],
             [
              0.5555555555555556,
              "#d8576b"
             ],
             [
              0.6666666666666666,
              "#ed7953"
             ],
             [
              0.7777777777777778,
              "#fb9f3a"
             ],
             [
              0.8888888888888888,
              "#fdca26"
             ],
             [
              1,
              "#f0f921"
             ]
            ],
            "type": "heatmap"
           }
          ],
          "histogram": [
           {
            "marker": {
             "pattern": {
              "fillmode": "overlay",
              "size": 10,
              "solidity": 0.2
             }
            },
            "type": "histogram"
           }
          ],
          "histogram2d": [
           {
            "colorbar": {
             "outlinewidth": 0,
             "ticks": ""
            },
            "colorscale": [
             [
              0,
              "#0d0887"
             ],
             [
              0.1111111111111111,
              "#46039f"
             ],
             [
              0.2222222222222222,
              "#7201a8"
             ],
             [
              0.3333333333333333,
              "#9c179e"
             ],
             [
              0.4444444444444444,
              "#bd3786"
             ],
             [
              0.5555555555555556,
              "#d8576b"
             ],
             [
              0.6666666666666666,
              "#ed7953"
             ],
             [
              0.7777777777777778,
              "#fb9f3a"
             ],
             [
              0.8888888888888888,
              "#fdca26"
             ],
             [
              1,
              "#f0f921"
             ]
            ],
            "type": "histogram2d"
           }
          ],
          "histogram2dcontour": [
           {
            "colorbar": {
             "outlinewidth": 0,
             "ticks": ""
            },
            "colorscale": [
             [
              0,
              "#0d0887"
             ],
             [
              0.1111111111111111,
              "#46039f"
             ],
             [
              0.2222222222222222,
              "#7201a8"
             ],
             [
              0.3333333333333333,
              "#9c179e"
             ],
             [
              0.4444444444444444,
              "#bd3786"
             ],
             [
              0.5555555555555556,
              "#d8576b"
             ],
             [
              0.6666666666666666,
              "#ed7953"
             ],
             [
              0.7777777777777778,
              "#fb9f3a"
             ],
             [
              0.8888888888888888,
              "#fdca26"
             ],
             [
              1,
              "#f0f921"
             ]
            ],
            "type": "histogram2dcontour"
           }
          ],
          "mesh3d": [
           {
            "colorbar": {
             "outlinewidth": 0,
             "ticks": ""
            },
            "type": "mesh3d"
           }
          ],
          "parcoords": [
           {
            "line": {
             "colorbar": {
              "outlinewidth": 0,
              "ticks": ""
             }
            },
            "type": "parcoords"
           }
          ],
          "pie": [
           {
            "automargin": true,
            "type": "pie"
           }
          ],
          "scatter": [
           {
            "fillpattern": {
             "fillmode": "overlay",
             "size": 10,
             "solidity": 0.2
            },
            "type": "scatter"
           }
          ],
          "scatter3d": [
           {
            "line": {
             "colorbar": {
              "outlinewidth": 0,
              "ticks": ""
             }
            },
            "marker": {
             "colorbar": {
              "outlinewidth": 0,
              "ticks": ""
             }
            },
            "type": "scatter3d"
           }
          ],
          "scattercarpet": [
           {
            "marker": {
             "colorbar": {
              "outlinewidth": 0,
              "ticks": ""
             }
            },
            "type": "scattercarpet"
           }
          ],
          "scattergeo": [
           {
            "marker": {
             "colorbar": {
              "outlinewidth": 0,
              "ticks": ""
             }
            },
            "type": "scattergeo"
           }
          ],
          "scattergl": [
           {
            "marker": {
             "colorbar": {
              "outlinewidth": 0,
              "ticks": ""
             }
            },
            "type": "scattergl"
           }
          ],
          "scattermap": [
           {
            "marker": {
             "colorbar": {
              "outlinewidth": 0,
              "ticks": ""
             }
            },
            "type": "scattermap"
           }
          ],
          "scattermapbox": [
           {
            "marker": {
             "colorbar": {
              "outlinewidth": 0,
              "ticks": ""
             }
            },
            "type": "scattermapbox"
           }
          ],
          "scatterpolar": [
           {
            "marker": {
             "colorbar": {
              "outlinewidth": 0,
              "ticks": ""
             }
            },
            "type": "scatterpolar"
           }
          ],
          "scatterpolargl": [
           {
            "marker": {
             "colorbar": {
              "outlinewidth": 0,
              "ticks": ""
             }
            },
            "type": "scatterpolargl"
           }
          ],
          "scatterternary": [
           {
            "marker": {
             "colorbar": {
              "outlinewidth": 0,
              "ticks": ""
             }
            },
            "type": "scatterternary"
           }
          ],
          "surface": [
           {
            "colorbar": {
             "outlinewidth": 0,
             "ticks": ""
            },
            "colorscale": [
             [
              0,
              "#0d0887"
             ],
             [
              0.1111111111111111,
              "#46039f"
             ],
             [
              0.2222222222222222,
              "#7201a8"
             ],
             [
              0.3333333333333333,
              "#9c179e"
             ],
             [
              0.4444444444444444,
              "#bd3786"
             ],
             [
              0.5555555555555556,
              "#d8576b"
             ],
             [
              0.6666666666666666,
              "#ed7953"
             ],
             [
              0.7777777777777778,
              "#fb9f3a"
             ],
             [
              0.8888888888888888,
              "#fdca26"
             ],
             [
              1,
              "#f0f921"
             ]
            ],
            "type": "surface"
           }
          ],
          "table": [
           {
            "cells": {
             "fill": {
              "color": "#EBF0F8"
             },
             "line": {
              "color": "white"
             }
            },
            "header": {
             "fill": {
              "color": "#C8D4E3"
             },
             "line": {
              "color": "white"
             }
            },
            "type": "table"
           }
          ]
         },
         "layout": {
          "annotationdefaults": {
           "arrowcolor": "#2a3f5f",
           "arrowhead": 0,
           "arrowwidth": 1
          },
          "autotypenumbers": "strict",
          "coloraxis": {
           "colorbar": {
            "outlinewidth": 0,
            "ticks": ""
           }
          },
          "colorscale": {
           "diverging": [
            [
             0,
             "#8e0152"
            ],
            [
             0.1,
             "#c51b7d"
            ],
            [
             0.2,
             "#de77ae"
            ],
            [
             0.3,
             "#f1b6da"
            ],
            [
             0.4,
             "#fde0ef"
            ],
            [
             0.5,
             "#f7f7f7"
            ],
            [
             0.6,
             "#e6f5d0"
            ],
            [
             0.7,
             "#b8e186"
            ],
            [
             0.8,
             "#7fbc41"
            ],
            [
             0.9,
             "#4d9221"
            ],
            [
             1,
             "#276419"
            ]
           ],
           "sequential": [
            [
             0,
             "#0d0887"
            ],
            [
             0.1111111111111111,
             "#46039f"
            ],
            [
             0.2222222222222222,
             "#7201a8"
            ],
            [
             0.3333333333333333,
             "#9c179e"
            ],
            [
             0.4444444444444444,
             "#bd3786"
            ],
            [
             0.5555555555555556,
             "#d8576b"
            ],
            [
             0.6666666666666666,
             "#ed7953"
            ],
            [
             0.7777777777777778,
             "#fb9f3a"
            ],
            [
             0.8888888888888888,
             "#fdca26"
            ],
            [
             1,
             "#f0f921"
            ]
           ],
           "sequentialminus": [
            [
             0,
             "#0d0887"
            ],
            [
             0.1111111111111111,
             "#46039f"
            ],
            [
             0.2222222222222222,
             "#7201a8"
            ],
            [
             0.3333333333333333,
             "#9c179e"
            ],
            [
             0.4444444444444444,
             "#bd3786"
            ],
            [
             0.5555555555555556,
             "#d8576b"
            ],
            [
             0.6666666666666666,
             "#ed7953"
            ],
            [
             0.7777777777777778,
             "#fb9f3a"
            ],
            [
             0.8888888888888888,
             "#fdca26"
            ],
            [
             1,
             "#f0f921"
            ]
           ]
          },
          "colorway": [
           "#636efa",
           "#EF553B",
           "#00cc96",
           "#ab63fa",
           "#FFA15A",
           "#19d3f3",
           "#FF6692",
           "#B6E880",
           "#FF97FF",
           "#FECB52"
          ],
          "font": {
           "color": "#2a3f5f"
          },
          "geo": {
           "bgcolor": "white",
           "lakecolor": "white",
           "landcolor": "#E5ECF6",
           "showlakes": true,
           "showland": true,
           "subunitcolor": "white"
          },
          "hoverlabel": {
           "align": "left"
          },
          "hovermode": "closest",
          "mapbox": {
           "style": "light"
          },
          "paper_bgcolor": "white",
          "plot_bgcolor": "#E5ECF6",
          "polar": {
           "angularaxis": {
            "gridcolor": "white",
            "linecolor": "white",
            "ticks": ""
           },
           "bgcolor": "#E5ECF6",
           "radialaxis": {
            "gridcolor": "white",
            "linecolor": "white",
            "ticks": ""
           }
          },
          "scene": {
           "xaxis": {
            "backgroundcolor": "#E5ECF6",
            "gridcolor": "white",
            "gridwidth": 2,
            "linecolor": "white",
            "showbackground": true,
            "ticks": "",
            "zerolinecolor": "white"
           },
           "yaxis": {
            "backgroundcolor": "#E5ECF6",
            "gridcolor": "white",
            "gridwidth": 2,
            "linecolor": "white",
            "showbackground": true,
            "ticks": "",
            "zerolinecolor": "white"
           },
           "zaxis": {
            "backgroundcolor": "#E5ECF6",
            "gridcolor": "white",
            "gridwidth": 2,
            "linecolor": "white",
            "showbackground": true,
            "ticks": "",
            "zerolinecolor": "white"
           }
          },
          "shapedefaults": {
           "line": {
            "color": "#2a3f5f"
           }
          },
          "ternary": {
           "aaxis": {
            "gridcolor": "white",
            "linecolor": "white",
            "ticks": ""
           },
           "baxis": {
            "gridcolor": "white",
            "linecolor": "white",
            "ticks": ""
           },
           "bgcolor": "#E5ECF6",
           "caxis": {
            "gridcolor": "white",
            "linecolor": "white",
            "ticks": ""
           }
          },
          "title": {
           "x": 0.05
          },
          "xaxis": {
           "automargin": true,
           "gridcolor": "white",
           "linecolor": "white",
           "ticks": "",
           "title": {
            "standoff": 15
           },
           "zerolinecolor": "white",
           "zerolinewidth": 2
          },
          "yaxis": {
           "automargin": true,
           "gridcolor": "white",
           "linecolor": "white",
           "ticks": "",
           "title": {
            "standoff": 15
           },
           "zerolinecolor": "white",
           "zerolinewidth": 2
          }
         }
        },
        "title": {
         "text": "Slice Plot - LightGBM base_poi_pano 158 nonpca v8"
        },
        "width": 3000,
        "xaxis": {
         "anchor": "y",
         "domain": [
          0,
          0.082
         ],
         "title": {
          "text": "model__colsample_bytree"
         }
        },
        "xaxis10": {
         "anchor": "y10",
         "domain": [
          0.9179999999999999,
          0.9999999999999999
         ],
         "title": {
          "text": "model__subsample"
         }
        },
        "xaxis2": {
         "anchor": "y2",
         "domain": [
          0.10200000000000001,
          0.184
         ],
         "title": {
          "text": "model__learning_rate"
         },
         "type": "log"
        },
        "xaxis3": {
         "anchor": "y3",
         "domain": [
          0.20400000000000001,
          0.28600000000000003
         ],
         "title": {
          "text": "model__max_depth"
         }
        },
        "xaxis4": {
         "anchor": "y4",
         "domain": [
          0.306,
          0.388
         ],
         "title": {
          "text": "model__min_child_samples"
         }
        },
        "xaxis5": {
         "anchor": "y5",
         "domain": [
          0.40800000000000003,
          0.49000000000000005
         ],
         "title": {
          "text": "model__n_estimators"
         }
        },
        "xaxis6": {
         "anchor": "y6",
         "domain": [
          0.51,
          0.592
         ],
         "title": {
          "text": "model__num_leaves"
         }
        },
        "xaxis7": {
         "anchor": "y7",
         "categoryarray": [
          "regression_l2",
          "huber",
          "regression_l1"
         ],
         "categoryorder": "array",
         "domain": [
          0.612,
          0.694
         ],
         "title": {
          "text": "model__objective"
         },
         "type": "category"
        },
        "xaxis8": {
         "anchor": "y8",
         "domain": [
          0.7140000000000001,
          0.796
         ],
         "title": {
          "text": "model__reg_alpha"
         },
         "type": "log"
        },
        "xaxis9": {
         "anchor": "y9",
         "domain": [
          0.8160000000000001,
          0.898
         ],
         "title": {
          "text": "model__reg_lambda"
         },
         "type": "log"
        },
        "yaxis": {
         "anchor": "x",
         "domain": [
          0,
          1
         ],
         "title": {
          "text": "Objective Value"
         }
        },
        "yaxis10": {
         "anchor": "x10",
         "domain": [
          0,
          1
         ],
         "matches": "y",
         "showticklabels": false
        },
        "yaxis2": {
         "anchor": "x2",
         "domain": [
          0,
          1
         ],
         "matches": "y",
         "showticklabels": false
        },
        "yaxis3": {
         "anchor": "x3",
         "domain": [
          0,
          1
         ],
         "matches": "y",
         "showticklabels": false
        },
        "yaxis4": {
         "anchor": "x4",
         "domain": [
          0,
          1
         ],
         "matches": "y",
         "showticklabels": false
        },
        "yaxis5": {
         "anchor": "x5",
         "domain": [
          0,
          1
         ],
         "matches": "y",
         "showticklabels": false
        },
        "yaxis6": {
         "anchor": "x6",
         "domain": [
          0,
          1
         ],
         "matches": "y",
         "showticklabels": false
        },
        "yaxis7": {
         "anchor": "x7",
         "domain": [
          0,
          1
         ],
         "matches": "y",
         "showticklabels": false
        },
        "yaxis8": {
         "anchor": "x8",
         "domain": [
          0,
          1
         ],
         "matches": "y",
         "showticklabels": false
        },
        "yaxis9": {
         "anchor": "x9",
         "domain": [
          0,
          1
         ],
         "matches": "y",
         "showticklabels": false
        }
       }
      }
     },
     "metadata": {},
     "output_type": "display_data"
    },
    {
     "name": "stdout",
     "output_type": "stream",
     "text": [
      "\n",
      "Slice plot for: LightGBM_rfecv_base_img_nfeat_56_pca_count_50_mape_v8_study\n"
     ]
    },
    {
     "data": {
      "application/vnd.plotly.v1+json": {
       "config": {
        "plotlyServerURL": "https://plot.ly"
       },
       "data": [
        {
         "marker": {
          "color": [
           1,
           2,
           3,
           4,
           5,
           6,
           7,
           9,
           14,
           22,
           25,
           31,
           40,
           45,
           51,
           53,
           56,
           58,
           80,
           81,
           82,
           84,
           85,
           86,
           87,
           89,
           90,
           95,
           96,
           97,
           98
          ],
          "colorbar": {
           "title": {
            "text": "Trial"
           },
           "x": 1,
           "xpad": 40
          },
          "colorscale": [
           [
            0,
            "rgb(247,251,255)"
           ],
           [
            0.125,
            "rgb(222,235,247)"
           ],
           [
            0.25,
            "rgb(198,219,239)"
           ],
           [
            0.375,
            "rgb(158,202,225)"
           ],
           [
            0.5,
            "rgb(107,174,214)"
           ],
           [
            0.625,
            "rgb(66,146,198)"
           ],
           [
            0.75,
            "rgb(33,113,181)"
           ],
           [
            0.875,
            "rgb(8,81,156)"
           ],
           [
            1,
            "rgb(8,48,107)"
           ]
          ],
          "line": {
           "color": "Grey",
           "width": 0.5
          },
          "showscale": true
         },
         "mode": "markers",
         "name": "Feasible Trial",
         "showlegend": false,
         "type": "scatter",
         "x": [
          0.20890205075260443,
          0.5122879513274134,
          0.5094848265292307,
          0.4222010304906938,
          0.10311028195596178,
          0.16375230743374417,
          0.7423771437330249,
          0.732990563431923,
          0.8949554631600993,
          0.6498215901246504,
          0.6544057359849117,
          0.5553329558817341,
          0.5341967760777453,
          0.8703147065724038,
          0.5766743066946144,
          0.5872209458019895,
          0.6821140218262417,
          0.5766146788761354,
          0.877195751356991,
          0.735639474268653,
          0.7262720395163911,
          0.5658600823906933,
          0.7244814627225694,
          0.5728689352969115,
          0.556273899176884,
          0.7462925899988968,
          0.7363343290314607,
          0.7238671512843526,
          0.8148850175687143,
          0.6107005676381811,
          0.614971902963114
         ],
         "xaxis": "x",
         "y": [
          0.0798181048348423,
          0.07388921724949553,
          0.09996894240864602,
          0.07487697242825168,
          0.09144832622793071,
          0.09660310530817215,
          0.08693573501512854,
          0.07435696048414187,
          0.07343796780801976,
          0.07396153618245671,
          0.0740801681143642,
          0.0738528540129294,
          0.07351479889083216,
          0.07365721413342098,
          0.07325741515654505,
          0.07313490368806581,
          0.07357911975132078,
          0.07370002421720594,
          0.07343015722211894,
          0.07337174469095137,
          0.0733149114567592,
          0.07300855874508058,
          0.07342112124718461,
          0.07319049464960725,
          0.07313645662490356,
          0.0733805000020192,
          0.07323974791366909,
          0.0731877673060857,
          0.07329732435867006,
          0.07311310300922272,
          0.0731206717046106
         ],
         "yaxis": "y"
        },
        {
         "marker": {
          "color": [
           1,
           2,
           3,
           4,
           5,
           6,
           7,
           9,
           14,
           22,
           25,
           31,
           40,
           45,
           51,
           53,
           56,
           58,
           80,
           81,
           82,
           84,
           85,
           86,
           87,
           89,
           90,
           95,
           96,
           97,
           98
          ],
          "colorbar": {
           "title": {
            "text": "Trial"
           },
           "x": 1,
           "xpad": 40
          },
          "colorscale": [
           [
            0,
            "rgb(247,251,255)"
           ],
           [
            0.125,
            "rgb(222,235,247)"
           ],
           [
            0.25,
            "rgb(198,219,239)"
           ],
           [
            0.375,
            "rgb(158,202,225)"
           ],
           [
            0.5,
            "rgb(107,174,214)"
           ],
           [
            0.625,
            "rgb(66,146,198)"
           ],
           [
            0.75,
            "rgb(33,113,181)"
           ],
           [
            0.875,
            "rgb(8,81,156)"
           ],
           [
            1,
            "rgb(8,48,107)"
           ]
          ],
          "line": {
           "color": "Grey",
           "width": 0.5
          },
          "showscale": false
         },
         "mode": "markers",
         "name": "Feasible Trial",
         "showlegend": false,
         "type": "scatter",
         "x": [
          0.015474797377432264,
          0.0201001266878511,
          0.013655796609813697,
          0.04062096615534484,
          0.02868471702158804,
          0.023859680256500364,
          0.029046285485349082,
          0.06394741244494903,
          0.01734201039184105,
          0.042162532203122494,
          0.045005873947762495,
          0.03611492263764487,
          0.016469516956483847,
          0.018632375808068216,
          0.013545725796209352,
          0.011442944348604031,
          0.011804877839882315,
          0.03943520817564719,
          0.014961083344707785,
          0.015178523783670045,
          0.014928909119545482,
          0.021849836638249034,
          0.017018564941075842,
          0.017102852284045584,
          0.01725413876934811,
          0.016648118492315334,
          0.017266280609288216,
          0.0168975734928864,
          0.017451980464515755,
          0.017083665872226816,
          0.01789617652833856
         ],
         "xaxis": "x2",
         "y": [
          0.0798181048348423,
          0.07388921724949553,
          0.09996894240864602,
          0.07487697242825168,
          0.09144832622793071,
          0.09660310530817215,
          0.08693573501512854,
          0.07435696048414187,
          0.07343796780801976,
          0.07396153618245671,
          0.0740801681143642,
          0.0738528540129294,
          0.07351479889083216,
          0.07365721413342098,
          0.07325741515654505,
          0.07313490368806581,
          0.07357911975132078,
          0.07370002421720594,
          0.07343015722211894,
          0.07337174469095137,
          0.0733149114567592,
          0.07300855874508058,
          0.07342112124718461,
          0.07319049464960725,
          0.07313645662490356,
          0.0733805000020192,
          0.07323974791366909,
          0.0731877673060857,
          0.07329732435867006,
          0.07311310300922272,
          0.0731206717046106
         ],
         "yaxis": "y2"
        },
        {
         "marker": {
          "color": [
           1,
           2,
           3,
           4,
           5,
           6,
           7,
           9,
           14,
           22,
           25,
           31,
           40,
           45,
           51,
           53,
           56,
           58,
           80,
           81,
           82,
           84,
           85,
           86,
           87,
           89,
           90,
           95,
           96,
           97,
           98
          ],
          "colorbar": {
           "title": {
            "text": "Trial"
           },
           "x": 1,
           "xpad": 40
          },
          "colorscale": [
           [
            0,
            "rgb(247,251,255)"
           ],
           [
            0.125,
            "rgb(222,235,247)"
           ],
           [
            0.25,
            "rgb(198,219,239)"
           ],
           [
            0.375,
            "rgb(158,202,225)"
           ],
           [
            0.5,
            "rgb(107,174,214)"
           ],
           [
            0.625,
            "rgb(66,146,198)"
           ],
           [
            0.75,
            "rgb(33,113,181)"
           ],
           [
            0.875,
            "rgb(8,81,156)"
           ],
           [
            1,
            "rgb(8,48,107)"
           ]
          ],
          "line": {
           "color": "Grey",
           "width": 0.5
          },
          "showscale": false
         },
         "mode": "markers",
         "name": "Feasible Trial",
         "showlegend": false,
         "type": "scatter",
         "x": [
          34,
          146,
          3,
          136,
          85,
          176,
          27,
          88,
          159,
          147,
          162,
          166,
          179,
          103,
          186,
          153,
          168,
          131,
          137,
          161,
          159,
          140,
          159,
          170,
          138,
          200,
          144,
          144,
          146,
          145,
          145
         ],
         "xaxis": "x3",
         "y": [
          0.0798181048348423,
          0.07388921724949553,
          0.09996894240864602,
          0.07487697242825168,
          0.09144832622793071,
          0.09660310530817215,
          0.08693573501512854,
          0.07435696048414187,
          0.07343796780801976,
          0.07396153618245671,
          0.0740801681143642,
          0.0738528540129294,
          0.07351479889083216,
          0.07365721413342098,
          0.07325741515654505,
          0.07313490368806581,
          0.07357911975132078,
          0.07370002421720594,
          0.07343015722211894,
          0.07337174469095137,
          0.0733149114567592,
          0.07300855874508058,
          0.07342112124718461,
          0.07319049464960725,
          0.07313645662490356,
          0.0733805000020192,
          0.07323974791366909,
          0.0731877673060857,
          0.07329732435867006,
          0.07311310300922272,
          0.0731206717046106
         ],
         "yaxis": "y3"
        },
        {
         "marker": {
          "color": [
           1,
           2,
           3,
           4,
           5,
           6,
           7,
           9,
           14,
           22,
           25,
           31,
           40,
           45,
           51,
           53,
           56,
           58,
           80,
           81,
           82,
           84,
           85,
           86,
           87,
           89,
           90,
           95,
           96,
           97,
           98
          ],
          "colorbar": {
           "title": {
            "text": "Trial"
           },
           "x": 1,
           "xpad": 40
          },
          "colorscale": [
           [
            0,
            "rgb(247,251,255)"
           ],
           [
            0.125,
            "rgb(222,235,247)"
           ],
           [
            0.25,
            "rgb(198,219,239)"
           ],
           [
            0.375,
            "rgb(158,202,225)"
           ],
           [
            0.5,
            "rgb(107,174,214)"
           ],
           [
            0.625,
            "rgb(66,146,198)"
           ],
           [
            0.75,
            "rgb(33,113,181)"
           ],
           [
            0.875,
            "rgb(8,81,156)"
           ],
           [
            1,
            "rgb(8,48,107)"
           ]
          ],
          "line": {
           "color": "Grey",
           "width": 0.5
          },
          "showscale": false
         },
         "mode": "markers",
         "name": "Feasible Trial",
         "showlegend": false,
         "type": "scatter",
         "x": [
          48,
          70,
          34,
          75,
          94,
          16,
          39,
          28,
          16,
          84,
          84,
          88,
          99,
          46,
          73,
          94,
          71,
          84,
          84,
          97,
          84,
          85,
          96,
          91,
          84,
          96,
          91,
          86,
          82,
          83,
          87
         ],
         "xaxis": "x4",
         "y": [
          0.0798181048348423,
          0.07388921724949553,
          0.09996894240864602,
          0.07487697242825168,
          0.09144832622793071,
          0.09660310530817215,
          0.08693573501512854,
          0.07435696048414187,
          0.07343796780801976,
          0.07396153618245671,
          0.0740801681143642,
          0.0738528540129294,
          0.07351479889083216,
          0.07365721413342098,
          0.07325741515654505,
          0.07313490368806581,
          0.07357911975132078,
          0.07370002421720594,
          0.07343015722211894,
          0.07337174469095137,
          0.0733149114567592,
          0.07300855874508058,
          0.07342112124718461,
          0.07319049464960725,
          0.07313645662490356,
          0.0733805000020192,
          0.07323974791366909,
          0.0731877673060857,
          0.07329732435867006,
          0.07311310300922272,
          0.0731206717046106
         ],
         "yaxis": "y4"
        },
        {
         "marker": {
          "color": [
           1,
           2,
           3,
           4,
           5,
           6,
           7,
           9,
           14,
           22,
           25,
           31,
           40,
           45,
           51,
           53,
           56,
           58,
           80,
           81,
           82,
           84,
           85,
           86,
           87,
           89,
           90,
           95,
           96,
           97,
           98
          ],
          "colorbar": {
           "title": {
            "text": "Trial"
           },
           "x": 1,
           "xpad": 40
          },
          "colorscale": [
           [
            0,
            "rgb(247,251,255)"
           ],
           [
            0.125,
            "rgb(222,235,247)"
           ],
           [
            0.25,
            "rgb(198,219,239)"
           ],
           [
            0.375,
            "rgb(158,202,225)"
           ],
           [
            0.5,
            "rgb(107,174,214)"
           ],
           [
            0.625,
            "rgb(66,146,198)"
           ],
           [
            0.75,
            "rgb(33,113,181)"
           ],
           [
            0.875,
            "rgb(8,81,156)"
           ],
           [
            1,
            "rgb(8,48,107)"
           ]
          ],
          "line": {
           "color": "Grey",
           "width": 0.5
          },
          "showscale": false
         },
         "mode": "markers",
         "name": "Feasible Trial",
         "showlegend": false,
         "type": "scatter",
         "x": [
          2700,
          3700,
          1300,
          4000,
          6200,
          1200,
          2200,
          3500,
          6400,
          3900,
          3300,
          5300,
          6300,
          1900,
          5900,
          7800,
          4600,
          3000,
          7300,
          7100,
          7300,
          7200,
          7200,
          7300,
          7100,
          7200,
          7200,
          7600,
          7600,
          7700,
          7100
         ],
         "xaxis": "x5",
         "y": [
          0.0798181048348423,
          0.07388921724949553,
          0.09996894240864602,
          0.07487697242825168,
          0.09144832622793071,
          0.09660310530817215,
          0.08693573501512854,
          0.07435696048414187,
          0.07343796780801976,
          0.07396153618245671,
          0.0740801681143642,
          0.0738528540129294,
          0.07351479889083216,
          0.07365721413342098,
          0.07325741515654505,
          0.07313490368806581,
          0.07357911975132078,
          0.07370002421720594,
          0.07343015722211894,
          0.07337174469095137,
          0.0733149114567592,
          0.07300855874508058,
          0.07342112124718461,
          0.07319049464960725,
          0.07313645662490356,
          0.0733805000020192,
          0.07323974791366909,
          0.0731877673060857,
          0.07329732435867006,
          0.07311310300922272,
          0.0731206717046106
         ],
         "yaxis": "y5"
        },
        {
         "marker": {
          "color": [
           1,
           2,
           3,
           4,
           5,
           6,
           7,
           9,
           14,
           22,
           25,
           31,
           40,
           45,
           51,
           53,
           56,
           58,
           80,
           81,
           82,
           84,
           85,
           86,
           87,
           89,
           90,
           95,
           96,
           97,
           98
          ],
          "colorbar": {
           "title": {
            "text": "Trial"
           },
           "x": 1,
           "xpad": 40
          },
          "colorscale": [
           [
            0,
            "rgb(247,251,255)"
           ],
           [
            0.125,
            "rgb(222,235,247)"
           ],
           [
            0.25,
            "rgb(198,219,239)"
           ],
           [
            0.375,
            "rgb(158,202,225)"
           ],
           [
            0.5,
            "rgb(107,174,214)"
           ],
           [
            0.625,
            "rgb(66,146,198)"
           ],
           [
            0.75,
            "rgb(33,113,181)"
           ],
           [
            0.875,
            "rgb(8,81,156)"
           ],
           [
            1,
            "rgb(8,48,107)"
           ]
          ],
          "line": {
           "color": "Grey",
           "width": 0.5
          },
          "showscale": false
         },
         "mode": "markers",
         "name": "Feasible Trial",
         "showlegend": false,
         "type": "scatter",
         "x": [
          137,
          469,
          210,
          467,
          75,
          58,
          29,
          211,
          186,
          490,
          427,
          401,
          452,
          456,
          469,
          101,
          111,
          426,
          99,
          109,
          94,
          106,
          101,
          112,
          115,
          108,
          116,
          147,
          148,
          92,
          162
         ],
         "xaxis": "x6",
         "y": [
          0.0798181048348423,
          0.07388921724949553,
          0.09996894240864602,
          0.07487697242825168,
          0.09144832622793071,
          0.09660310530817215,
          0.08693573501512854,
          0.07435696048414187,
          0.07343796780801976,
          0.07396153618245671,
          0.0740801681143642,
          0.0738528540129294,
          0.07351479889083216,
          0.07365721413342098,
          0.07325741515654505,
          0.07313490368806581,
          0.07357911975132078,
          0.07370002421720594,
          0.07343015722211894,
          0.07337174469095137,
          0.0733149114567592,
          0.07300855874508058,
          0.07342112124718461,
          0.07319049464960725,
          0.07313645662490356,
          0.0733805000020192,
          0.07323974791366909,
          0.0731877673060857,
          0.07329732435867006,
          0.07311310300922272,
          0.0731206717046106
         ],
         "yaxis": "y6"
        },
        {
         "marker": {
          "color": [
           1,
           2,
           3,
           4,
           5,
           6,
           7,
           9,
           14,
           22,
           25,
           31,
           40,
           45,
           51,
           53,
           56,
           58,
           80,
           81,
           82,
           84,
           85,
           86,
           87,
           89,
           90,
           95,
           96,
           97,
           98
          ],
          "colorbar": {
           "title": {
            "text": "Trial"
           },
           "x": 1,
           "xpad": 40
          },
          "colorscale": [
           [
            0,
            "rgb(247,251,255)"
           ],
           [
            0.125,
            "rgb(222,235,247)"
           ],
           [
            0.25,
            "rgb(198,219,239)"
           ],
           [
            0.375,
            "rgb(158,202,225)"
           ],
           [
            0.5,
            "rgb(107,174,214)"
           ],
           [
            0.625,
            "rgb(66,146,198)"
           ],
           [
            0.75,
            "rgb(33,113,181)"
           ],
           [
            0.875,
            "rgb(8,81,156)"
           ],
           [
            1,
            "rgb(8,48,107)"
           ]
          ],
          "line": {
           "color": "Grey",
           "width": 0.5
          },
          "showscale": false
         },
         "mode": "markers",
         "name": "Feasible Trial",
         "showlegend": false,
         "type": "scatter",
         "x": [
          "huber",
          "huber",
          "regression_l1",
          "regression_l2",
          "regression_l2",
          "regression_l1",
          "regression_l1",
          "huber",
          "regression_l2",
          "huber",
          "regression_l2",
          "huber",
          "huber",
          "huber",
          "huber",
          "huber",
          "huber",
          "regression_l2",
          "regression_l2",
          "regression_l2",
          "regression_l2",
          "regression_l2",
          "regression_l2",
          "huber",
          "regression_l2",
          "regression_l2",
          "regression_l2",
          "regression_l2",
          "regression_l2",
          "regression_l2",
          "regression_l2"
         ],
         "xaxis": "x7",
         "y": [
          0.0798181048348423,
          0.07388921724949553,
          0.09996894240864602,
          0.07487697242825168,
          0.09144832622793071,
          0.09660310530817215,
          0.08693573501512854,
          0.07435696048414187,
          0.07343796780801976,
          0.07396153618245671,
          0.0740801681143642,
          0.0738528540129294,
          0.07351479889083216,
          0.07365721413342098,
          0.07325741515654505,
          0.07313490368806581,
          0.07357911975132078,
          0.07370002421720594,
          0.07343015722211894,
          0.07337174469095137,
          0.0733149114567592,
          0.07300855874508058,
          0.07342112124718461,
          0.07319049464960725,
          0.07313645662490356,
          0.0733805000020192,
          0.07323974791366909,
          0.0731877673060857,
          0.07329732435867006,
          0.07311310300922272,
          0.0731206717046106
         ],
         "yaxis": "y7"
        },
        {
         "marker": {
          "color": [
           1,
           2,
           3,
           4,
           5,
           6,
           7,
           9,
           14,
           22,
           25,
           31,
           40,
           45,
           51,
           53,
           56,
           58,
           80,
           81,
           82,
           84,
           85,
           86,
           87,
           89,
           90,
           95,
           96,
           97,
           98
          ],
          "colorbar": {
           "title": {
            "text": "Trial"
           },
           "x": 1,
           "xpad": 40
          },
          "colorscale": [
           [
            0,
            "rgb(247,251,255)"
           ],
           [
            0.125,
            "rgb(222,235,247)"
           ],
           [
            0.25,
            "rgb(198,219,239)"
           ],
           [
            0.375,
            "rgb(158,202,225)"
           ],
           [
            0.5,
            "rgb(107,174,214)"
           ],
           [
            0.625,
            "rgb(66,146,198)"
           ],
           [
            0.75,
            "rgb(33,113,181)"
           ],
           [
            0.875,
            "rgb(8,81,156)"
           ],
           [
            1,
            "rgb(8,48,107)"
           ]
          ],
          "line": {
           "color": "Grey",
           "width": 0.5
          },
          "showscale": false
         },
         "mode": "markers",
         "name": "Feasible Trial",
         "showlegend": false,
         "type": "scatter",
         "x": [
          0.8212674164315026,
          0.11442761371169533,
          3.020981419915338,
          0.0000016682842985713379,
          7.6670946062797,
          4.19343747036109,
          0.2746015672098216,
          2.3990484014855254e-8,
          2.8612240302615157e-7,
          5.114281140145323e-7,
          0.0030443431572483976,
          0.04130287068762447,
          0.0008572697488244454,
          2.7960886064428465e-7,
          0.1181396445852812,
          0.000010007647088124645,
          0.00014558950151420232,
          0.00289483074147852,
          0.0003164050471355224,
          0.0000031455990298272663,
          0.0000031520009510596635,
          3.412423430507628e-8,
          0.0002635291024630191,
          0.011987844304411587,
          3.855234117315948e-8,
          0.0000036285126635109514,
          0.0000030612986650222227,
          0.000018636187397817623,
          9.348197196569369e-8,
          0.02033387521901046,
          8.849700826686324e-8
         ],
         "xaxis": "x8",
         "y": [
          0.0798181048348423,
          0.07388921724949553,
          0.09996894240864602,
          0.07487697242825168,
          0.09144832622793071,
          0.09660310530817215,
          0.08693573501512854,
          0.07435696048414187,
          0.07343796780801976,
          0.07396153618245671,
          0.0740801681143642,
          0.0738528540129294,
          0.07351479889083216,
          0.07365721413342098,
          0.07325741515654505,
          0.07313490368806581,
          0.07357911975132078,
          0.07370002421720594,
          0.07343015722211894,
          0.07337174469095137,
          0.0733149114567592,
          0.07300855874508058,
          0.07342112124718461,
          0.07319049464960725,
          0.07313645662490356,
          0.0733805000020192,
          0.07323974791366909,
          0.0731877673060857,
          0.07329732435867006,
          0.07311310300922272,
          0.0731206717046106
         ],
         "yaxis": "y8"
        },
        {
         "marker": {
          "color": [
           1,
           2,
           3,
           4,
           5,
           6,
           7,
           9,
           14,
           22,
           25,
           31,
           40,
           45,
           51,
           53,
           56,
           58,
           80,
           81,
           82,
           84,
           85,
           86,
           87,
           89,
           90,
           95,
           96,
           97,
           98
          ],
          "colorbar": {
           "title": {
            "text": "Trial"
           },
           "x": 1,
           "xpad": 40
          },
          "colorscale": [
           [
            0,
            "rgb(247,251,255)"
           ],
           [
            0.125,
            "rgb(222,235,247)"
           ],
           [
            0.25,
            "rgb(198,219,239)"
           ],
           [
            0.375,
            "rgb(158,202,225)"
           ],
           [
            0.5,
            "rgb(107,174,214)"
           ],
           [
            0.625,
            "rgb(66,146,198)"
           ],
           [
            0.75,
            "rgb(33,113,181)"
           ],
           [
            0.875,
            "rgb(8,81,156)"
           ],
           [
            1,
            "rgb(8,48,107)"
           ]
          ],
          "line": {
           "color": "Grey",
           "width": 0.5
          },
          "showscale": false
         },
         "mode": "markers",
         "name": "Feasible Trial",
         "showlegend": false,
         "type": "scatter",
         "x": [
          3.991083518012139,
          4.367207019082727e-8,
          0.516122424712359,
          179.5372352310047,
          1.2991522516345797e-8,
          0.03513503333555346,
          0.013688797870927921,
          3.623427672686265e-7,
          8.802979341386703e-8,
          0.00010622265206060397,
          0.00006023642409569084,
          0.000004572475086046837,
          5.893248903488053e-8,
          0.00042106809030645164,
          1.0173940450601417e-8,
          2.2592551620100137e-7,
          2.2045358912277008e-7,
          0.00001820040080371913,
          4.256604223105175e-7,
          4.154540633671603e-7,
          0.03933613310467307,
          0.011246585309742868,
          0.9677989508626638,
          0.00021908861411452642,
          0.028765995717968142,
          0.014450089907963662,
          0.055177341291174416,
          0.48586079697388473,
          0.13934281803864002,
          0.09072338758085678,
          0.09458861481893018
         ],
         "xaxis": "x9",
         "y": [
          0.0798181048348423,
          0.07388921724949553,
          0.09996894240864602,
          0.07487697242825168,
          0.09144832622793071,
          0.09660310530817215,
          0.08693573501512854,
          0.07435696048414187,
          0.07343796780801976,
          0.07396153618245671,
          0.0740801681143642,
          0.0738528540129294,
          0.07351479889083216,
          0.07365721413342098,
          0.07325741515654505,
          0.07313490368806581,
          0.07357911975132078,
          0.07370002421720594,
          0.07343015722211894,
          0.07337174469095137,
          0.0733149114567592,
          0.07300855874508058,
          0.07342112124718461,
          0.07319049464960725,
          0.07313645662490356,
          0.0733805000020192,
          0.07323974791366909,
          0.0731877673060857,
          0.07329732435867006,
          0.07311310300922272,
          0.0731206717046106
         ],
         "yaxis": "y9"
        },
        {
         "marker": {
          "color": [
           1,
           2,
           3,
           4,
           5,
           6,
           7,
           9,
           14,
           22,
           25,
           31,
           40,
           45,
           51,
           53,
           56,
           58,
           80,
           81,
           82,
           84,
           85,
           86,
           87,
           89,
           90,
           95,
           96,
           97,
           98
          ],
          "colorbar": {
           "title": {
            "text": "Trial"
           },
           "x": 1,
           "xpad": 40
          },
          "colorscale": [
           [
            0,
            "rgb(247,251,255)"
           ],
           [
            0.125,
            "rgb(222,235,247)"
           ],
           [
            0.25,
            "rgb(198,219,239)"
           ],
           [
            0.375,
            "rgb(158,202,225)"
           ],
           [
            0.5,
            "rgb(107,174,214)"
           ],
           [
            0.625,
            "rgb(66,146,198)"
           ],
           [
            0.75,
            "rgb(33,113,181)"
           ],
           [
            0.875,
            "rgb(8,81,156)"
           ],
           [
            1,
            "rgb(8,48,107)"
           ]
          ],
          "line": {
           "color": "Grey",
           "width": 0.5
          },
          "showscale": false
         },
         "mode": "markers",
         "name": "Feasible Trial",
         "showlegend": false,
         "type": "scatter",
         "x": [
          0.7000837458346016,
          0.6737014686213667,
          0.5914143538843366,
          0.7018294732354362,
          0.3712288358124213,
          0.10927662134726845,
          0.11095451269871041,
          0.4718141416590288,
          0.5931031344134492,
          0.7209778489866828,
          0.6998314886795642,
          0.7577450156581065,
          0.5025340221925706,
          0.5221100014257507,
          0.751490153580938,
          0.3243138574503642,
          0.737932997013648,
          0.740147677681413,
          0.5863786547638827,
          0.5826756523957166,
          0.9159049332086715,
          0.44748617131292534,
          0.9216214585737158,
          0.4454600717258173,
          0.47071571972260196,
          0.4548611557542089,
          0.9408006581019833,
          0.967315232794803,
          0.37311692794801055,
          0.43795636507404545,
          0.39498743366313593
         ],
         "xaxis": "x10",
         "y": [
          0.0798181048348423,
          0.07388921724949553,
          0.09996894240864602,
          0.07487697242825168,
          0.09144832622793071,
          0.09660310530817215,
          0.08693573501512854,
          0.07435696048414187,
          0.07343796780801976,
          0.07396153618245671,
          0.0740801681143642,
          0.0738528540129294,
          0.07351479889083216,
          0.07365721413342098,
          0.07325741515654505,
          0.07313490368806581,
          0.07357911975132078,
          0.07370002421720594,
          0.07343015722211894,
          0.07337174469095137,
          0.0733149114567592,
          0.07300855874508058,
          0.07342112124718461,
          0.07319049464960725,
          0.07313645662490356,
          0.0733805000020192,
          0.07323974791366909,
          0.0731877673060857,
          0.07329732435867006,
          0.07311310300922272,
          0.0731206717046106
         ],
         "yaxis": "y10"
        }
       ],
       "layout": {
        "template": {
         "data": {
          "bar": [
           {
            "error_x": {
             "color": "#2a3f5f"
            },
            "error_y": {
             "color": "#2a3f5f"
            },
            "marker": {
             "line": {
              "color": "#E5ECF6",
              "width": 0.5
             },
             "pattern": {
              "fillmode": "overlay",
              "size": 10,
              "solidity": 0.2
             }
            },
            "type": "bar"
           }
          ],
          "barpolar": [
           {
            "marker": {
             "line": {
              "color": "#E5ECF6",
              "width": 0.5
             },
             "pattern": {
              "fillmode": "overlay",
              "size": 10,
              "solidity": 0.2
             }
            },
            "type": "barpolar"
           }
          ],
          "carpet": [
           {
            "aaxis": {
             "endlinecolor": "#2a3f5f",
             "gridcolor": "white",
             "linecolor": "white",
             "minorgridcolor": "white",
             "startlinecolor": "#2a3f5f"
            },
            "baxis": {
             "endlinecolor": "#2a3f5f",
             "gridcolor": "white",
             "linecolor": "white",
             "minorgridcolor": "white",
             "startlinecolor": "#2a3f5f"
            },
            "type": "carpet"
           }
          ],
          "choropleth": [
           {
            "colorbar": {
             "outlinewidth": 0,
             "ticks": ""
            },
            "type": "choropleth"
           }
          ],
          "contour": [
           {
            "colorbar": {
             "outlinewidth": 0,
             "ticks": ""
            },
            "colorscale": [
             [
              0,
              "#0d0887"
             ],
             [
              0.1111111111111111,
              "#46039f"
             ],
             [
              0.2222222222222222,
              "#7201a8"
             ],
             [
              0.3333333333333333,
              "#9c179e"
             ],
             [
              0.4444444444444444,
              "#bd3786"
             ],
             [
              0.5555555555555556,
              "#d8576b"
             ],
             [
              0.6666666666666666,
              "#ed7953"
             ],
             [
              0.7777777777777778,
              "#fb9f3a"
             ],
             [
              0.8888888888888888,
              "#fdca26"
             ],
             [
              1,
              "#f0f921"
             ]
            ],
            "type": "contour"
           }
          ],
          "contourcarpet": [
           {
            "colorbar": {
             "outlinewidth": 0,
             "ticks": ""
            },
            "type": "contourcarpet"
           }
          ],
          "heatmap": [
           {
            "colorbar": {
             "outlinewidth": 0,
             "ticks": ""
            },
            "colorscale": [
             [
              0,
              "#0d0887"
             ],
             [
              0.1111111111111111,
              "#46039f"
             ],
             [
              0.2222222222222222,
              "#7201a8"
             ],
             [
              0.3333333333333333,
              "#9c179e"
             ],
             [
              0.4444444444444444,
              "#bd3786"
             ],
             [
              0.5555555555555556,
              "#d8576b"
             ],
             [
              0.6666666666666666,
              "#ed7953"
             ],
             [
              0.7777777777777778,
              "#fb9f3a"
             ],
             [
              0.8888888888888888,
              "#fdca26"
             ],
             [
              1,
              "#f0f921"
             ]
            ],
            "type": "heatmap"
           }
          ],
          "histogram": [
           {
            "marker": {
             "pattern": {
              "fillmode": "overlay",
              "size": 10,
              "solidity": 0.2
             }
            },
            "type": "histogram"
           }
          ],
          "histogram2d": [
           {
            "colorbar": {
             "outlinewidth": 0,
             "ticks": ""
            },
            "colorscale": [
             [
              0,
              "#0d0887"
             ],
             [
              0.1111111111111111,
              "#46039f"
             ],
             [
              0.2222222222222222,
              "#7201a8"
             ],
             [
              0.3333333333333333,
              "#9c179e"
             ],
             [
              0.4444444444444444,
              "#bd3786"
             ],
             [
              0.5555555555555556,
              "#d8576b"
             ],
             [
              0.6666666666666666,
              "#ed7953"
             ],
             [
              0.7777777777777778,
              "#fb9f3a"
             ],
             [
              0.8888888888888888,
              "#fdca26"
             ],
             [
              1,
              "#f0f921"
             ]
            ],
            "type": "histogram2d"
           }
          ],
          "histogram2dcontour": [
           {
            "colorbar": {
             "outlinewidth": 0,
             "ticks": ""
            },
            "colorscale": [
             [
              0,
              "#0d0887"
             ],
             [
              0.1111111111111111,
              "#46039f"
             ],
             [
              0.2222222222222222,
              "#7201a8"
             ],
             [
              0.3333333333333333,
              "#9c179e"
             ],
             [
              0.4444444444444444,
              "#bd3786"
             ],
             [
              0.5555555555555556,
              "#d8576b"
             ],
             [
              0.6666666666666666,
              "#ed7953"
             ],
             [
              0.7777777777777778,
              "#fb9f3a"
             ],
             [
              0.8888888888888888,
              "#fdca26"
             ],
             [
              1,
              "#f0f921"
             ]
            ],
            "type": "histogram2dcontour"
           }
          ],
          "mesh3d": [
           {
            "colorbar": {
             "outlinewidth": 0,
             "ticks": ""
            },
            "type": "mesh3d"
           }
          ],
          "parcoords": [
           {
            "line": {
             "colorbar": {
              "outlinewidth": 0,
              "ticks": ""
             }
            },
            "type": "parcoords"
           }
          ],
          "pie": [
           {
            "automargin": true,
            "type": "pie"
           }
          ],
          "scatter": [
           {
            "fillpattern": {
             "fillmode": "overlay",
             "size": 10,
             "solidity": 0.2
            },
            "type": "scatter"
           }
          ],
          "scatter3d": [
           {
            "line": {
             "colorbar": {
              "outlinewidth": 0,
              "ticks": ""
             }
            },
            "marker": {
             "colorbar": {
              "outlinewidth": 0,
              "ticks": ""
             }
            },
            "type": "scatter3d"
           }
          ],
          "scattercarpet": [
           {
            "marker": {
             "colorbar": {
              "outlinewidth": 0,
              "ticks": ""
             }
            },
            "type": "scattercarpet"
           }
          ],
          "scattergeo": [
           {
            "marker": {
             "colorbar": {
              "outlinewidth": 0,
              "ticks": ""
             }
            },
            "type": "scattergeo"
           }
          ],
          "scattergl": [
           {
            "marker": {
             "colorbar": {
              "outlinewidth": 0,
              "ticks": ""
             }
            },
            "type": "scattergl"
           }
          ],
          "scattermap": [
           {
            "marker": {
             "colorbar": {
              "outlinewidth": 0,
              "ticks": ""
             }
            },
            "type": "scattermap"
           }
          ],
          "scattermapbox": [
           {
            "marker": {
             "colorbar": {
              "outlinewidth": 0,
              "ticks": ""
             }
            },
            "type": "scattermapbox"
           }
          ],
          "scatterpolar": [
           {
            "marker": {
             "colorbar": {
              "outlinewidth": 0,
              "ticks": ""
             }
            },
            "type": "scatterpolar"
           }
          ],
          "scatterpolargl": [
           {
            "marker": {
             "colorbar": {
              "outlinewidth": 0,
              "ticks": ""
             }
            },
            "type": "scatterpolargl"
           }
          ],
          "scatterternary": [
           {
            "marker": {
             "colorbar": {
              "outlinewidth": 0,
              "ticks": ""
             }
            },
            "type": "scatterternary"
           }
          ],
          "surface": [
           {
            "colorbar": {
             "outlinewidth": 0,
             "ticks": ""
            },
            "colorscale": [
             [
              0,
              "#0d0887"
             ],
             [
              0.1111111111111111,
              "#46039f"
             ],
             [
              0.2222222222222222,
              "#7201a8"
             ],
             [
              0.3333333333333333,
              "#9c179e"
             ],
             [
              0.4444444444444444,
              "#bd3786"
             ],
             [
              0.5555555555555556,
              "#d8576b"
             ],
             [
              0.6666666666666666,
              "#ed7953"
             ],
             [
              0.7777777777777778,
              "#fb9f3a"
             ],
             [
              0.8888888888888888,
              "#fdca26"
             ],
             [
              1,
              "#f0f921"
             ]
            ],
            "type": "surface"
           }
          ],
          "table": [
           {
            "cells": {
             "fill": {
              "color": "#EBF0F8"
             },
             "line": {
              "color": "white"
             }
            },
            "header": {
             "fill": {
              "color": "#C8D4E3"
             },
             "line": {
              "color": "white"
             }
            },
            "type": "table"
           }
          ]
         },
         "layout": {
          "annotationdefaults": {
           "arrowcolor": "#2a3f5f",
           "arrowhead": 0,
           "arrowwidth": 1
          },
          "autotypenumbers": "strict",
          "coloraxis": {
           "colorbar": {
            "outlinewidth": 0,
            "ticks": ""
           }
          },
          "colorscale": {
           "diverging": [
            [
             0,
             "#8e0152"
            ],
            [
             0.1,
             "#c51b7d"
            ],
            [
             0.2,
             "#de77ae"
            ],
            [
             0.3,
             "#f1b6da"
            ],
            [
             0.4,
             "#fde0ef"
            ],
            [
             0.5,
             "#f7f7f7"
            ],
            [
             0.6,
             "#e6f5d0"
            ],
            [
             0.7,
             "#b8e186"
            ],
            [
             0.8,
             "#7fbc41"
            ],
            [
             0.9,
             "#4d9221"
            ],
            [
             1,
             "#276419"
            ]
           ],
           "sequential": [
            [
             0,
             "#0d0887"
            ],
            [
             0.1111111111111111,
             "#46039f"
            ],
            [
             0.2222222222222222,
             "#7201a8"
            ],
            [
             0.3333333333333333,
             "#9c179e"
            ],
            [
             0.4444444444444444,
             "#bd3786"
            ],
            [
             0.5555555555555556,
             "#d8576b"
            ],
            [
             0.6666666666666666,
             "#ed7953"
            ],
            [
             0.7777777777777778,
             "#fb9f3a"
            ],
            [
             0.8888888888888888,
             "#fdca26"
            ],
            [
             1,
             "#f0f921"
            ]
           ],
           "sequentialminus": [
            [
             0,
             "#0d0887"
            ],
            [
             0.1111111111111111,
             "#46039f"
            ],
            [
             0.2222222222222222,
             "#7201a8"
            ],
            [
             0.3333333333333333,
             "#9c179e"
            ],
            [
             0.4444444444444444,
             "#bd3786"
            ],
            [
             0.5555555555555556,
             "#d8576b"
            ],
            [
             0.6666666666666666,
             "#ed7953"
            ],
            [
             0.7777777777777778,
             "#fb9f3a"
            ],
            [
             0.8888888888888888,
             "#fdca26"
            ],
            [
             1,
             "#f0f921"
            ]
           ]
          },
          "colorway": [
           "#636efa",
           "#EF553B",
           "#00cc96",
           "#ab63fa",
           "#FFA15A",
           "#19d3f3",
           "#FF6692",
           "#B6E880",
           "#FF97FF",
           "#FECB52"
          ],
          "font": {
           "color": "#2a3f5f"
          },
          "geo": {
           "bgcolor": "white",
           "lakecolor": "white",
           "landcolor": "#E5ECF6",
           "showlakes": true,
           "showland": true,
           "subunitcolor": "white"
          },
          "hoverlabel": {
           "align": "left"
          },
          "hovermode": "closest",
          "mapbox": {
           "style": "light"
          },
          "paper_bgcolor": "white",
          "plot_bgcolor": "#E5ECF6",
          "polar": {
           "angularaxis": {
            "gridcolor": "white",
            "linecolor": "white",
            "ticks": ""
           },
           "bgcolor": "#E5ECF6",
           "radialaxis": {
            "gridcolor": "white",
            "linecolor": "white",
            "ticks": ""
           }
          },
          "scene": {
           "xaxis": {
            "backgroundcolor": "#E5ECF6",
            "gridcolor": "white",
            "gridwidth": 2,
            "linecolor": "white",
            "showbackground": true,
            "ticks": "",
            "zerolinecolor": "white"
           },
           "yaxis": {
            "backgroundcolor": "#E5ECF6",
            "gridcolor": "white",
            "gridwidth": 2,
            "linecolor": "white",
            "showbackground": true,
            "ticks": "",
            "zerolinecolor": "white"
           },
           "zaxis": {
            "backgroundcolor": "#E5ECF6",
            "gridcolor": "white",
            "gridwidth": 2,
            "linecolor": "white",
            "showbackground": true,
            "ticks": "",
            "zerolinecolor": "white"
           }
          },
          "shapedefaults": {
           "line": {
            "color": "#2a3f5f"
           }
          },
          "ternary": {
           "aaxis": {
            "gridcolor": "white",
            "linecolor": "white",
            "ticks": ""
           },
           "baxis": {
            "gridcolor": "white",
            "linecolor": "white",
            "ticks": ""
           },
           "bgcolor": "#E5ECF6",
           "caxis": {
            "gridcolor": "white",
            "linecolor": "white",
            "ticks": ""
           }
          },
          "title": {
           "x": 0.05
          },
          "xaxis": {
           "automargin": true,
           "gridcolor": "white",
           "linecolor": "white",
           "ticks": "",
           "title": {
            "standoff": 15
           },
           "zerolinecolor": "white",
           "zerolinewidth": 2
          },
          "yaxis": {
           "automargin": true,
           "gridcolor": "white",
           "linecolor": "white",
           "ticks": "",
           "title": {
            "standoff": 15
           },
           "zerolinecolor": "white",
           "zerolinewidth": 2
          }
         }
        },
        "title": {
         "text": "Slice Plot - LightGBM base_img 56 pca v8"
        },
        "width": 3000,
        "xaxis": {
         "anchor": "y",
         "domain": [
          0,
          0.082
         ],
         "title": {
          "text": "model__colsample_bytree"
         }
        },
        "xaxis10": {
         "anchor": "y10",
         "domain": [
          0.9179999999999999,
          0.9999999999999999
         ],
         "title": {
          "text": "model__subsample"
         }
        },
        "xaxis2": {
         "anchor": "y2",
         "domain": [
          0.10200000000000001,
          0.184
         ],
         "title": {
          "text": "model__learning_rate"
         },
         "type": "log"
        },
        "xaxis3": {
         "anchor": "y3",
         "domain": [
          0.20400000000000001,
          0.28600000000000003
         ],
         "title": {
          "text": "model__max_depth"
         }
        },
        "xaxis4": {
         "anchor": "y4",
         "domain": [
          0.306,
          0.388
         ],
         "title": {
          "text": "model__min_child_samples"
         }
        },
        "xaxis5": {
         "anchor": "y5",
         "domain": [
          0.40800000000000003,
          0.49000000000000005
         ],
         "title": {
          "text": "model__n_estimators"
         }
        },
        "xaxis6": {
         "anchor": "y6",
         "domain": [
          0.51,
          0.592
         ],
         "title": {
          "text": "model__num_leaves"
         }
        },
        "xaxis7": {
         "anchor": "y7",
         "categoryarray": [
          "regression_l2",
          "huber",
          "regression_l1"
         ],
         "categoryorder": "array",
         "domain": [
          0.612,
          0.694
         ],
         "title": {
          "text": "model__objective"
         },
         "type": "category"
        },
        "xaxis8": {
         "anchor": "y8",
         "domain": [
          0.7140000000000001,
          0.796
         ],
         "title": {
          "text": "model__reg_alpha"
         },
         "type": "log"
        },
        "xaxis9": {
         "anchor": "y9",
         "domain": [
          0.8160000000000001,
          0.898
         ],
         "title": {
          "text": "model__reg_lambda"
         },
         "type": "log"
        },
        "yaxis": {
         "anchor": "x",
         "domain": [
          0,
          1
         ],
         "title": {
          "text": "Objective Value"
         }
        },
        "yaxis10": {
         "anchor": "x10",
         "domain": [
          0,
          1
         ],
         "matches": "y",
         "showticklabels": false
        },
        "yaxis2": {
         "anchor": "x2",
         "domain": [
          0,
          1
         ],
         "matches": "y",
         "showticklabels": false
        },
        "yaxis3": {
         "anchor": "x3",
         "domain": [
          0,
          1
         ],
         "matches": "y",
         "showticklabels": false
        },
        "yaxis4": {
         "anchor": "x4",
         "domain": [
          0,
          1
         ],
         "matches": "y",
         "showticklabels": false
        },
        "yaxis5": {
         "anchor": "x5",
         "domain": [
          0,
          1
         ],
         "matches": "y",
         "showticklabels": false
        },
        "yaxis6": {
         "anchor": "x6",
         "domain": [
          0,
          1
         ],
         "matches": "y",
         "showticklabels": false
        },
        "yaxis7": {
         "anchor": "x7",
         "domain": [
          0,
          1
         ],
         "matches": "y",
         "showticklabels": false
        },
        "yaxis8": {
         "anchor": "x8",
         "domain": [
          0,
          1
         ],
         "matches": "y",
         "showticklabels": false
        },
        "yaxis9": {
         "anchor": "x9",
         "domain": [
          0,
          1
         ],
         "matches": "y",
         "showticklabels": false
        }
       }
      }
     },
     "metadata": {},
     "output_type": "display_data"
    },
    {
     "name": "stdout",
     "output_type": "stream",
     "text": [
      "\n",
      "Slice plot for: LightGBM_rfecv_base_img_nfeat_56_pca_count_mape_v8_study\n"
     ]
    },
    {
     "data": {
      "application/vnd.plotly.v1+json": {
       "config": {
        "plotlyServerURL": "https://plot.ly"
       },
       "data": [
        {
         "marker": {
          "color": [
           0,
           2,
           3,
           4,
           7,
           32,
           35,
           50,
           54,
           55,
           56,
           58,
           59,
           61,
           63,
           71,
           73,
           80,
           82,
           85,
           88,
           96,
           98,
           99
          ],
          "colorbar": {
           "title": {
            "text": "Trial"
           },
           "x": 1,
           "xpad": 40
          },
          "colorscale": [
           [
            0,
            "rgb(247,251,255)"
           ],
           [
            0.125,
            "rgb(222,235,247)"
           ],
           [
            0.25,
            "rgb(198,219,239)"
           ],
           [
            0.375,
            "rgb(158,202,225)"
           ],
           [
            0.5,
            "rgb(107,174,214)"
           ],
           [
            0.625,
            "rgb(66,146,198)"
           ],
           [
            0.75,
            "rgb(33,113,181)"
           ],
           [
            0.875,
            "rgb(8,81,156)"
           ],
           [
            1,
            "rgb(8,48,107)"
           ]
          ],
          "line": {
           "color": "Grey",
           "width": 0.5
          },
          "showscale": true
         },
         "mode": "markers",
         "name": "Feasible Trial",
         "showlegend": false,
         "type": "scatter",
         "x": [
          0.7501233993164228,
          0.2283741229693549,
          0.5916729783580228,
          0.6860791409869889,
          0.31679527862917545,
          0.8891764974566262,
          0.8808617591948017,
          0.8306276524630662,
          0.8353815410156746,
          0.8230654880310433,
          0.8143597848446273,
          0.820417261557957,
          0.8280809442778904,
          0.8164717463945506,
          0.7723300978282893,
          0.7993301446830919,
          0.7934913387015647,
          0.7367924202144925,
          0.6603736460134175,
          0.7386899566231118,
          0.7371813292001105,
          0.6995733004181954,
          0.7222396157407971,
          0.6703655765216854
         ],
         "xaxis": "x",
         "y": [
          0.07246103122189183,
          0.08140474155729216,
          0.08436971892568036,
          0.07292475136840186,
          0.07915821227905286,
          0.07275350035974062,
          0.07332445086206185,
          0.07281904831845,
          0.07281657624083272,
          0.07259492407403305,
          0.07276587056863447,
          0.07272972447002848,
          0.07276524995232224,
          0.07255496415669371,
          0.07258362372889068,
          0.07260424952977843,
          0.072570220568422,
          0.07260850822442386,
          0.07251536320457432,
          0.0725408773677653,
          0.0724578664313359,
          0.07246876533642932,
          0.07252197045649747,
          0.07257217384700365
         ],
         "yaxis": "y"
        },
        {
         "marker": {
          "color": [
           0,
           2,
           3,
           4,
           7,
           32,
           35,
           50,
           54,
           55,
           56,
           58,
           59,
           61,
           63,
           71,
           73,
           80,
           82,
           85,
           88,
           96,
           98,
           99
          ],
          "colorbar": {
           "title": {
            "text": "Trial"
           },
           "x": 1,
           "xpad": 40
          },
          "colorscale": [
           [
            0,
            "rgb(247,251,255)"
           ],
           [
            0.125,
            "rgb(222,235,247)"
           ],
           [
            0.25,
            "rgb(198,219,239)"
           ],
           [
            0.375,
            "rgb(158,202,225)"
           ],
           [
            0.5,
            "rgb(107,174,214)"
           ],
           [
            0.625,
            "rgb(66,146,198)"
           ],
           [
            0.75,
            "rgb(33,113,181)"
           ],
           [
            0.875,
            "rgb(8,81,156)"
           ],
           [
            1,
            "rgb(8,48,107)"
           ]
          ],
          "line": {
           "color": "Grey",
           "width": 0.5
          },
          "showscale": false
         },
         "mode": "markers",
         "name": "Feasible Trial",
         "showlegend": false,
         "type": "scatter",
         "x": [
          0.012260795514549819,
          0.07664433993980391,
          0.01718204751327955,
          0.024768733993272955,
          0.06557685825745825,
          0.0161913992741888,
          0.014309481262262816,
          0.012613638179373955,
          0.012979005784593772,
          0.016956298540790192,
          0.012910573995586391,
          0.01329352518850958,
          0.016481915091865505,
          0.011559844558820876,
          0.011314859649184552,
          0.01638286208511296,
          0.014105592997515235,
          0.015181744472172898,
          0.011886191238303383,
          0.010480361973586054,
          0.010610938151599848,
          0.010003105769594688,
          0.010030663730665815,
          0.01202043183890585
         ],
         "xaxis": "x2",
         "y": [
          0.07246103122189183,
          0.08140474155729216,
          0.08436971892568036,
          0.07292475136840186,
          0.07915821227905286,
          0.07275350035974062,
          0.07332445086206185,
          0.07281904831845,
          0.07281657624083272,
          0.07259492407403305,
          0.07276587056863447,
          0.07272972447002848,
          0.07276524995232224,
          0.07255496415669371,
          0.07258362372889068,
          0.07260424952977843,
          0.072570220568422,
          0.07260850822442386,
          0.07251536320457432,
          0.0725408773677653,
          0.0724578664313359,
          0.07246876533642932,
          0.07252197045649747,
          0.07257217384700365
         ],
         "yaxis": "y2"
        },
        {
         "marker": {
          "color": [
           0,
           2,
           3,
           4,
           7,
           32,
           35,
           50,
           54,
           55,
           56,
           58,
           59,
           61,
           63,
           71,
           73,
           80,
           82,
           85,
           88,
           96,
           98,
           99
          ],
          "colorbar": {
           "title": {
            "text": "Trial"
           },
           "x": 1,
           "xpad": 40
          },
          "colorscale": [
           [
            0,
            "rgb(247,251,255)"
           ],
           [
            0.125,
            "rgb(222,235,247)"
           ],
           [
            0.25,
            "rgb(198,219,239)"
           ],
           [
            0.375,
            "rgb(158,202,225)"
           ],
           [
            0.5,
            "rgb(107,174,214)"
           ],
           [
            0.625,
            "rgb(66,146,198)"
           ],
           [
            0.75,
            "rgb(33,113,181)"
           ],
           [
            0.875,
            "rgb(8,81,156)"
           ],
           [
            1,
            "rgb(8,48,107)"
           ]
          ],
          "line": {
           "color": "Grey",
           "width": 0.5
          },
          "showscale": false
         },
         "mode": "markers",
         "name": "Feasible Trial",
         "showlegend": false,
         "type": "scatter",
         "x": [
          139,
          22,
          7,
          50,
          148,
          123,
          122,
          23,
          102,
          85,
          90,
          92,
          91,
          52,
          56,
          69,
          69,
          127,
          48,
          47,
          50,
          44,
          44,
          78
         ],
         "xaxis": "x3",
         "y": [
          0.07246103122189183,
          0.08140474155729216,
          0.08436971892568036,
          0.07292475136840186,
          0.07915821227905286,
          0.07275350035974062,
          0.07332445086206185,
          0.07281904831845,
          0.07281657624083272,
          0.07259492407403305,
          0.07276587056863447,
          0.07272972447002848,
          0.07276524995232224,
          0.07255496415669371,
          0.07258362372889068,
          0.07260424952977843,
          0.072570220568422,
          0.07260850822442386,
          0.07251536320457432,
          0.0725408773677653,
          0.0724578664313359,
          0.07246876533642932,
          0.07252197045649747,
          0.07257217384700365
         ],
         "yaxis": "y3"
        },
        {
         "marker": {
          "color": [
           0,
           2,
           3,
           4,
           7,
           32,
           35,
           50,
           54,
           55,
           56,
           58,
           59,
           61,
           63,
           71,
           73,
           80,
           82,
           85,
           88,
           96,
           98,
           99
          ],
          "colorbar": {
           "title": {
            "text": "Trial"
           },
           "x": 1,
           "xpad": 40
          },
          "colorscale": [
           [
            0,
            "rgb(247,251,255)"
           ],
           [
            0.125,
            "rgb(222,235,247)"
           ],
           [
            0.25,
            "rgb(198,219,239)"
           ],
           [
            0.375,
            "rgb(158,202,225)"
           ],
           [
            0.5,
            "rgb(107,174,214)"
           ],
           [
            0.625,
            "rgb(66,146,198)"
           ],
           [
            0.75,
            "rgb(33,113,181)"
           ],
           [
            0.875,
            "rgb(8,81,156)"
           ],
           [
            1,
            "rgb(8,48,107)"
           ]
          ],
          "line": {
           "color": "Grey",
           "width": 0.5
          },
          "showscale": false
         },
         "mode": "markers",
         "name": "Feasible Trial",
         "showlegend": false,
         "type": "scatter",
         "x": [
          52,
          64,
          90,
          42,
          78,
          45,
          44,
          40,
          52,
          54,
          53,
          51,
          52,
          52,
          50,
          55,
          55,
          60,
          58,
          59,
          59,
          65,
          65,
          65
         ],
         "xaxis": "x4",
         "y": [
          0.07246103122189183,
          0.08140474155729216,
          0.08436971892568036,
          0.07292475136840186,
          0.07915821227905286,
          0.07275350035974062,
          0.07332445086206185,
          0.07281904831845,
          0.07281657624083272,
          0.07259492407403305,
          0.07276587056863447,
          0.07272972447002848,
          0.07276524995232224,
          0.07255496415669371,
          0.07258362372889068,
          0.07260424952977843,
          0.072570220568422,
          0.07260850822442386,
          0.07251536320457432,
          0.0725408773677653,
          0.0724578664313359,
          0.07246876533642932,
          0.07252197045649747,
          0.07257217384700365
         ],
         "yaxis": "y4"
        },
        {
         "marker": {
          "color": [
           0,
           2,
           3,
           4,
           7,
           32,
           35,
           50,
           54,
           55,
           56,
           58,
           59,
           61,
           63,
           71,
           73,
           80,
           82,
           85,
           88,
           96,
           98,
           99
          ],
          "colorbar": {
           "title": {
            "text": "Trial"
           },
           "x": 1,
           "xpad": 40
          },
          "colorscale": [
           [
            0,
            "rgb(247,251,255)"
           ],
           [
            0.125,
            "rgb(222,235,247)"
           ],
           [
            0.25,
            "rgb(198,219,239)"
           ],
           [
            0.375,
            "rgb(158,202,225)"
           ],
           [
            0.5,
            "rgb(107,174,214)"
           ],
           [
            0.625,
            "rgb(66,146,198)"
           ],
           [
            0.75,
            "rgb(33,113,181)"
           ],
           [
            0.875,
            "rgb(8,81,156)"
           ],
           [
            1,
            "rgb(8,48,107)"
           ]
          ],
          "line": {
           "color": "Grey",
           "width": 0.5
          },
          "showscale": false
         },
         "mode": "markers",
         "name": "Feasible Trial",
         "showlegend": false,
         "type": "scatter",
         "x": [
          3900,
          4600,
          5700,
          3700,
          5000,
          5000,
          8000,
          5400,
          2900,
          2900,
          2900,
          3000,
          2800,
          4400,
          4400,
          3300,
          3600,
          3100,
          4300,
          4200,
          4300,
          4800,
          4800,
          4600
         ],
         "xaxis": "x5",
         "y": [
          0.07246103122189183,
          0.08140474155729216,
          0.08436971892568036,
          0.07292475136840186,
          0.07915821227905286,
          0.07275350035974062,
          0.07332445086206185,
          0.07281904831845,
          0.07281657624083272,
          0.07259492407403305,
          0.07276587056863447,
          0.07272972447002848,
          0.07276524995232224,
          0.07255496415669371,
          0.07258362372889068,
          0.07260424952977843,
          0.072570220568422,
          0.07260850822442386,
          0.07251536320457432,
          0.0725408773677653,
          0.0724578664313359,
          0.07246876533642932,
          0.07252197045649747,
          0.07257217384700365
         ],
         "yaxis": "y5"
        },
        {
         "marker": {
          "color": [
           0,
           2,
           3,
           4,
           7,
           32,
           35,
           50,
           54,
           55,
           56,
           58,
           59,
           61,
           63,
           71,
           73,
           80,
           82,
           85,
           88,
           96,
           98,
           99
          ],
          "colorbar": {
           "title": {
            "text": "Trial"
           },
           "x": 1,
           "xpad": 40
          },
          "colorscale": [
           [
            0,
            "rgb(247,251,255)"
           ],
           [
            0.125,
            "rgb(222,235,247)"
           ],
           [
            0.25,
            "rgb(198,219,239)"
           ],
           [
            0.375,
            "rgb(158,202,225)"
           ],
           [
            0.5,
            "rgb(107,174,214)"
           ],
           [
            0.625,
            "rgb(66,146,198)"
           ],
           [
            0.75,
            "rgb(33,113,181)"
           ],
           [
            0.875,
            "rgb(8,81,156)"
           ],
           [
            1,
            "rgb(8,48,107)"
           ]
          ],
          "line": {
           "color": "Grey",
           "width": 0.5
          },
          "showscale": false
         },
         "mode": "markers",
         "name": "Feasible Trial",
         "showlegend": false,
         "type": "scatter",
         "x": [
          288,
          299,
          219,
          103,
          339,
          264,
          372,
          353,
          425,
          240,
          427,
          444,
          446,
          428,
          235,
          446,
          419,
          450,
          453,
          444,
          451,
          390,
          478,
          393
         ],
         "xaxis": "x6",
         "y": [
          0.07246103122189183,
          0.08140474155729216,
          0.08436971892568036,
          0.07292475136840186,
          0.07915821227905286,
          0.07275350035974062,
          0.07332445086206185,
          0.07281904831845,
          0.07281657624083272,
          0.07259492407403305,
          0.07276587056863447,
          0.07272972447002848,
          0.07276524995232224,
          0.07255496415669371,
          0.07258362372889068,
          0.07260424952977843,
          0.072570220568422,
          0.07260850822442386,
          0.07251536320457432,
          0.0725408773677653,
          0.0724578664313359,
          0.07246876533642932,
          0.07252197045649747,
          0.07257217384700365
         ],
         "yaxis": "y6"
        },
        {
         "marker": {
          "color": [
           0,
           2,
           3,
           4,
           7,
           32,
           35,
           50,
           54,
           55,
           56,
           58,
           59,
           61,
           63,
           71,
           73,
           80,
           82,
           85,
           88,
           96,
           98,
           99
          ],
          "colorbar": {
           "title": {
            "text": "Trial"
           },
           "x": 1,
           "xpad": 40
          },
          "colorscale": [
           [
            0,
            "rgb(247,251,255)"
           ],
           [
            0.125,
            "rgb(222,235,247)"
           ],
           [
            0.25,
            "rgb(198,219,239)"
           ],
           [
            0.375,
            "rgb(158,202,225)"
           ],
           [
            0.5,
            "rgb(107,174,214)"
           ],
           [
            0.625,
            "rgb(66,146,198)"
           ],
           [
            0.75,
            "rgb(33,113,181)"
           ],
           [
            0.875,
            "rgb(8,81,156)"
           ],
           [
            1,
            "rgb(8,48,107)"
           ]
          ],
          "line": {
           "color": "Grey",
           "width": 0.5
          },
          "showscale": false
         },
         "mode": "markers",
         "name": "Feasible Trial",
         "showlegend": false,
         "type": "scatter",
         "x": [
          "regression_l2",
          "huber",
          "regression_l1",
          "huber",
          "regression_l2",
          "huber",
          "regression_l2",
          "regression_l2",
          "regression_l2",
          "regression_l2",
          "regression_l2",
          "regression_l2",
          "regression_l2",
          "regression_l2",
          "regression_l2",
          "regression_l2",
          "regression_l2",
          "regression_l2",
          "regression_l2",
          "regression_l2",
          "regression_l2",
          "regression_l2",
          "regression_l2",
          "regression_l2"
         ],
         "xaxis": "x7",
         "y": [
          0.07246103122189183,
          0.08140474155729216,
          0.08436971892568036,
          0.07292475136840186,
          0.07915821227905286,
          0.07275350035974062,
          0.07332445086206185,
          0.07281904831845,
          0.07281657624083272,
          0.07259492407403305,
          0.07276587056863447,
          0.07272972447002848,
          0.07276524995232224,
          0.07255496415669371,
          0.07258362372889068,
          0.07260424952977843,
          0.072570220568422,
          0.07260850822442386,
          0.07251536320457432,
          0.0725408773677653,
          0.0724578664313359,
          0.07246876533642932,
          0.07252197045649747,
          0.07257217384700365
         ],
         "yaxis": "y7"
        },
        {
         "marker": {
          "color": [
           0,
           2,
           3,
           4,
           7,
           32,
           35,
           50,
           54,
           55,
           56,
           58,
           59,
           61,
           63,
           71,
           73,
           80,
           82,
           85,
           88,
           96,
           98,
           99
          ],
          "colorbar": {
           "title": {
            "text": "Trial"
           },
           "x": 1,
           "xpad": 40
          },
          "colorscale": [
           [
            0,
            "rgb(247,251,255)"
           ],
           [
            0.125,
            "rgb(222,235,247)"
           ],
           [
            0.25,
            "rgb(198,219,239)"
           ],
           [
            0.375,
            "rgb(158,202,225)"
           ],
           [
            0.5,
            "rgb(107,174,214)"
           ],
           [
            0.625,
            "rgb(66,146,198)"
           ],
           [
            0.75,
            "rgb(33,113,181)"
           ],
           [
            0.875,
            "rgb(8,81,156)"
           ],
           [
            1,
            "rgb(8,48,107)"
           ]
          ],
          "line": {
           "color": "Grey",
           "width": 0.5
          },
          "showscale": false
         },
         "mode": "markers",
         "name": "Feasible Trial",
         "showlegend": false,
         "type": "scatter",
         "x": [
          9.43728077930724e-7,
          0.0000014026328810241657,
          0.000007938310703114178,
          0.0003486905039055504,
          1.651541502506462,
          0.00009559127769407519,
          0.2618235904653438,
          5.776624132331486e-7,
          0.0004536001452710152,
          0.00037561402603125546,
          0.00032143623278010176,
          0.0002707308345623434,
          0.0001991018488517529,
          0.00025286216020655063,
          0.0002285401026164772,
          0.000188971333476139,
          0.00021309715342976397,
          0.000007578135221007925,
          0.000012058546719425244,
          0.0006603320573028708,
          0.00000415195917512149,
          0.000004493844962254153,
          0.0007261269969808395,
          0.000015198471060498752
         ],
         "xaxis": "x8",
         "y": [
          0.07246103122189183,
          0.08140474155729216,
          0.08436971892568036,
          0.07292475136840186,
          0.07915821227905286,
          0.07275350035974062,
          0.07332445086206185,
          0.07281904831845,
          0.07281657624083272,
          0.07259492407403305,
          0.07276587056863447,
          0.07272972447002848,
          0.07276524995232224,
          0.07255496415669371,
          0.07258362372889068,
          0.07260424952977843,
          0.072570220568422,
          0.07260850822442386,
          0.07251536320457432,
          0.0725408773677653,
          0.0724578664313359,
          0.07246876533642932,
          0.07252197045649747,
          0.07257217384700365
         ],
         "yaxis": "y8"
        },
        {
         "marker": {
          "color": [
           0,
           2,
           3,
           4,
           7,
           32,
           35,
           50,
           54,
           55,
           56,
           58,
           59,
           61,
           63,
           71,
           73,
           80,
           82,
           85,
           88,
           96,
           98,
           99
          ],
          "colorbar": {
           "title": {
            "text": "Trial"
           },
           "x": 1,
           "xpad": 40
          },
          "colorscale": [
           [
            0,
            "rgb(247,251,255)"
           ],
           [
            0.125,
            "rgb(222,235,247)"
           ],
           [
            0.25,
            "rgb(198,219,239)"
           ],
           [
            0.375,
            "rgb(158,202,225)"
           ],
           [
            0.5,
            "rgb(107,174,214)"
           ],
           [
            0.625,
            "rgb(66,146,198)"
           ],
           [
            0.75,
            "rgb(33,113,181)"
           ],
           [
            0.875,
            "rgb(8,81,156)"
           ],
           [
            1,
            "rgb(8,48,107)"
           ]
          ],
          "line": {
           "color": "Grey",
           "width": 0.5
          },
          "showscale": false
         },
         "mode": "markers",
         "name": "Feasible Trial",
         "showlegend": false,
         "type": "scatter",
         "x": [
          0.18873829831290026,
          1.1006106802683386e-8,
          0.0010442430758059924,
          5.881805647479487e-8,
          0.800990648729702,
          0.11394085714793487,
          0.020921790503263826,
          24.013834323568535,
          0.27900017107440245,
          0.0006170932041990399,
          0.0008450041522856057,
          0.0024900886721317037,
          0.0012505675246844042,
          0.0010377169483182507,
          2.2297044188178132,
          0.00009215235034224168,
          0.00006245554371350247,
          0.0002873042366180993,
          0.00023381049323775393,
          0.00001904546962783205,
          0.000018407121801203887,
          0.000010181752841524631,
          0.0000019806015464790467,
          0.0000013469484528773563
         ],
         "xaxis": "x9",
         "y": [
          0.07246103122189183,
          0.08140474155729216,
          0.08436971892568036,
          0.07292475136840186,
          0.07915821227905286,
          0.07275350035974062,
          0.07332445086206185,
          0.07281904831845,
          0.07281657624083272,
          0.07259492407403305,
          0.07276587056863447,
          0.07272972447002848,
          0.07276524995232224,
          0.07255496415669371,
          0.07258362372889068,
          0.07260424952977843,
          0.072570220568422,
          0.07260850822442386,
          0.07251536320457432,
          0.0725408773677653,
          0.0724578664313359,
          0.07246876533642932,
          0.07252197045649747,
          0.07257217384700365
         ],
         "yaxis": "y9"
        },
        {
         "marker": {
          "color": [
           0,
           2,
           3,
           4,
           7,
           32,
           35,
           50,
           54,
           55,
           56,
           58,
           59,
           61,
           63,
           71,
           73,
           80,
           82,
           85,
           88,
           96,
           98,
           99
          ],
          "colorbar": {
           "title": {
            "text": "Trial"
           },
           "x": 1,
           "xpad": 40
          },
          "colorscale": [
           [
            0,
            "rgb(247,251,255)"
           ],
           [
            0.125,
            "rgb(222,235,247)"
           ],
           [
            0.25,
            "rgb(198,219,239)"
           ],
           [
            0.375,
            "rgb(158,202,225)"
           ],
           [
            0.5,
            "rgb(107,174,214)"
           ],
           [
            0.625,
            "rgb(66,146,198)"
           ],
           [
            0.75,
            "rgb(33,113,181)"
           ],
           [
            0.875,
            "rgb(8,81,156)"
           ],
           [
            1,
            "rgb(8,48,107)"
           ]
          ],
          "line": {
           "color": "Grey",
           "width": 0.5
          },
          "showscale": false
         },
         "mode": "markers",
         "name": "Feasible Trial",
         "showlegend": false,
         "type": "scatter",
         "x": [
          0.5579028482462192,
          0.7833395050868562,
          0.23358129193516627,
          0.9562183525797582,
          0.7553088761125087,
          0.37815232012774924,
          0.39547151145745374,
          0.522209972318365,
          0.3157630349435722,
          0.39672908922020295,
          0.1733283254694917,
          0.3800150557167289,
          0.3712087501857598,
          0.19293265646486157,
          0.24266291703146337,
          0.1565448963906524,
          0.5792581154130403,
          0.4278993543762814,
          0.10181080520329475,
          0.4064054706947031,
          0.5726675201700405,
          0.6352016267718972,
          0.4897893335434558,
          0.4831723707142302
         ],
         "xaxis": "x10",
         "y": [
          0.07246103122189183,
          0.08140474155729216,
          0.08436971892568036,
          0.07292475136840186,
          0.07915821227905286,
          0.07275350035974062,
          0.07332445086206185,
          0.07281904831845,
          0.07281657624083272,
          0.07259492407403305,
          0.07276587056863447,
          0.07272972447002848,
          0.07276524995232224,
          0.07255496415669371,
          0.07258362372889068,
          0.07260424952977843,
          0.072570220568422,
          0.07260850822442386,
          0.07251536320457432,
          0.0725408773677653,
          0.0724578664313359,
          0.07246876533642932,
          0.07252197045649747,
          0.07257217384700365
         ],
         "yaxis": "y10"
        }
       ],
       "layout": {
        "template": {
         "data": {
          "bar": [
           {
            "error_x": {
             "color": "#2a3f5f"
            },
            "error_y": {
             "color": "#2a3f5f"
            },
            "marker": {
             "line": {
              "color": "#E5ECF6",
              "width": 0.5
             },
             "pattern": {
              "fillmode": "overlay",
              "size": 10,
              "solidity": 0.2
             }
            },
            "type": "bar"
           }
          ],
          "barpolar": [
           {
            "marker": {
             "line": {
              "color": "#E5ECF6",
              "width": 0.5
             },
             "pattern": {
              "fillmode": "overlay",
              "size": 10,
              "solidity": 0.2
             }
            },
            "type": "barpolar"
           }
          ],
          "carpet": [
           {
            "aaxis": {
             "endlinecolor": "#2a3f5f",
             "gridcolor": "white",
             "linecolor": "white",
             "minorgridcolor": "white",
             "startlinecolor": "#2a3f5f"
            },
            "baxis": {
             "endlinecolor": "#2a3f5f",
             "gridcolor": "white",
             "linecolor": "white",
             "minorgridcolor": "white",
             "startlinecolor": "#2a3f5f"
            },
            "type": "carpet"
           }
          ],
          "choropleth": [
           {
            "colorbar": {
             "outlinewidth": 0,
             "ticks": ""
            },
            "type": "choropleth"
           }
          ],
          "contour": [
           {
            "colorbar": {
             "outlinewidth": 0,
             "ticks": ""
            },
            "colorscale": [
             [
              0,
              "#0d0887"
             ],
             [
              0.1111111111111111,
              "#46039f"
             ],
             [
              0.2222222222222222,
              "#7201a8"
             ],
             [
              0.3333333333333333,
              "#9c179e"
             ],
             [
              0.4444444444444444,
              "#bd3786"
             ],
             [
              0.5555555555555556,
              "#d8576b"
             ],
             [
              0.6666666666666666,
              "#ed7953"
             ],
             [
              0.7777777777777778,
              "#fb9f3a"
             ],
             [
              0.8888888888888888,
              "#fdca26"
             ],
             [
              1,
              "#f0f921"
             ]
            ],
            "type": "contour"
           }
          ],
          "contourcarpet": [
           {
            "colorbar": {
             "outlinewidth": 0,
             "ticks": ""
            },
            "type": "contourcarpet"
           }
          ],
          "heatmap": [
           {
            "colorbar": {
             "outlinewidth": 0,
             "ticks": ""
            },
            "colorscale": [
             [
              0,
              "#0d0887"
             ],
             [
              0.1111111111111111,
              "#46039f"
             ],
             [
              0.2222222222222222,
              "#7201a8"
             ],
             [
              0.3333333333333333,
              "#9c179e"
             ],
             [
              0.4444444444444444,
              "#bd3786"
             ],
             [
              0.5555555555555556,
              "#d8576b"
             ],
             [
              0.6666666666666666,
              "#ed7953"
             ],
             [
              0.7777777777777778,
              "#fb9f3a"
             ],
             [
              0.8888888888888888,
              "#fdca26"
             ],
             [
              1,
              "#f0f921"
             ]
            ],
            "type": "heatmap"
           }
          ],
          "histogram": [
           {
            "marker": {
             "pattern": {
              "fillmode": "overlay",
              "size": 10,
              "solidity": 0.2
             }
            },
            "type": "histogram"
           }
          ],
          "histogram2d": [
           {
            "colorbar": {
             "outlinewidth": 0,
             "ticks": ""
            },
            "colorscale": [
             [
              0,
              "#0d0887"
             ],
             [
              0.1111111111111111,
              "#46039f"
             ],
             [
              0.2222222222222222,
              "#7201a8"
             ],
             [
              0.3333333333333333,
              "#9c179e"
             ],
             [
              0.4444444444444444,
              "#bd3786"
             ],
             [
              0.5555555555555556,
              "#d8576b"
             ],
             [
              0.6666666666666666,
              "#ed7953"
             ],
             [
              0.7777777777777778,
              "#fb9f3a"
             ],
             [
              0.8888888888888888,
              "#fdca26"
             ],
             [
              1,
              "#f0f921"
             ]
            ],
            "type": "histogram2d"
           }
          ],
          "histogram2dcontour": [
           {
            "colorbar": {
             "outlinewidth": 0,
             "ticks": ""
            },
            "colorscale": [
             [
              0,
              "#0d0887"
             ],
             [
              0.1111111111111111,
              "#46039f"
             ],
             [
              0.2222222222222222,
              "#7201a8"
             ],
             [
              0.3333333333333333,
              "#9c179e"
             ],
             [
              0.4444444444444444,
              "#bd3786"
             ],
             [
              0.5555555555555556,
              "#d8576b"
             ],
             [
              0.6666666666666666,
              "#ed7953"
             ],
             [
              0.7777777777777778,
              "#fb9f3a"
             ],
             [
              0.8888888888888888,
              "#fdca26"
             ],
             [
              1,
              "#f0f921"
             ]
            ],
            "type": "histogram2dcontour"
           }
          ],
          "mesh3d": [
           {
            "colorbar": {
             "outlinewidth": 0,
             "ticks": ""
            },
            "type": "mesh3d"
           }
          ],
          "parcoords": [
           {
            "line": {
             "colorbar": {
              "outlinewidth": 0,
              "ticks": ""
             }
            },
            "type": "parcoords"
           }
          ],
          "pie": [
           {
            "automargin": true,
            "type": "pie"
           }
          ],
          "scatter": [
           {
            "fillpattern": {
             "fillmode": "overlay",
             "size": 10,
             "solidity": 0.2
            },
            "type": "scatter"
           }
          ],
          "scatter3d": [
           {
            "line": {
             "colorbar": {
              "outlinewidth": 0,
              "ticks": ""
             }
            },
            "marker": {
             "colorbar": {
              "outlinewidth": 0,
              "ticks": ""
             }
            },
            "type": "scatter3d"
           }
          ],
          "scattercarpet": [
           {
            "marker": {
             "colorbar": {
              "outlinewidth": 0,
              "ticks": ""
             }
            },
            "type": "scattercarpet"
           }
          ],
          "scattergeo": [
           {
            "marker": {
             "colorbar": {
              "outlinewidth": 0,
              "ticks": ""
             }
            },
            "type": "scattergeo"
           }
          ],
          "scattergl": [
           {
            "marker": {
             "colorbar": {
              "outlinewidth": 0,
              "ticks": ""
             }
            },
            "type": "scattergl"
           }
          ],
          "scattermap": [
           {
            "marker": {
             "colorbar": {
              "outlinewidth": 0,
              "ticks": ""
             }
            },
            "type": "scattermap"
           }
          ],
          "scattermapbox": [
           {
            "marker": {
             "colorbar": {
              "outlinewidth": 0,
              "ticks": ""
             }
            },
            "type": "scattermapbox"
           }
          ],
          "scatterpolar": [
           {
            "marker": {
             "colorbar": {
              "outlinewidth": 0,
              "ticks": ""
             }
            },
            "type": "scatterpolar"
           }
          ],
          "scatterpolargl": [
           {
            "marker": {
             "colorbar": {
              "outlinewidth": 0,
              "ticks": ""
             }
            },
            "type": "scatterpolargl"
           }
          ],
          "scatterternary": [
           {
            "marker": {
             "colorbar": {
              "outlinewidth": 0,
              "ticks": ""
             }
            },
            "type": "scatterternary"
           }
          ],
          "surface": [
           {
            "colorbar": {
             "outlinewidth": 0,
             "ticks": ""
            },
            "colorscale": [
             [
              0,
              "#0d0887"
             ],
             [
              0.1111111111111111,
              "#46039f"
             ],
             [
              0.2222222222222222,
              "#7201a8"
             ],
             [
              0.3333333333333333,
              "#9c179e"
             ],
             [
              0.4444444444444444,
              "#bd3786"
             ],
             [
              0.5555555555555556,
              "#d8576b"
             ],
             [
              0.6666666666666666,
              "#ed7953"
             ],
             [
              0.7777777777777778,
              "#fb9f3a"
             ],
             [
              0.8888888888888888,
              "#fdca26"
             ],
             [
              1,
              "#f0f921"
             ]
            ],
            "type": "surface"
           }
          ],
          "table": [
           {
            "cells": {
             "fill": {
              "color": "#EBF0F8"
             },
             "line": {
              "color": "white"
             }
            },
            "header": {
             "fill": {
              "color": "#C8D4E3"
             },
             "line": {
              "color": "white"
             }
            },
            "type": "table"
           }
          ]
         },
         "layout": {
          "annotationdefaults": {
           "arrowcolor": "#2a3f5f",
           "arrowhead": 0,
           "arrowwidth": 1
          },
          "autotypenumbers": "strict",
          "coloraxis": {
           "colorbar": {
            "outlinewidth": 0,
            "ticks": ""
           }
          },
          "colorscale": {
           "diverging": [
            [
             0,
             "#8e0152"
            ],
            [
             0.1,
             "#c51b7d"
            ],
            [
             0.2,
             "#de77ae"
            ],
            [
             0.3,
             "#f1b6da"
            ],
            [
             0.4,
             "#fde0ef"
            ],
            [
             0.5,
             "#f7f7f7"
            ],
            [
             0.6,
             "#e6f5d0"
            ],
            [
             0.7,
             "#b8e186"
            ],
            [
             0.8,
             "#7fbc41"
            ],
            [
             0.9,
             "#4d9221"
            ],
            [
             1,
             "#276419"
            ]
           ],
           "sequential": [
            [
             0,
             "#0d0887"
            ],
            [
             0.1111111111111111,
             "#46039f"
            ],
            [
             0.2222222222222222,
             "#7201a8"
            ],
            [
             0.3333333333333333,
             "#9c179e"
            ],
            [
             0.4444444444444444,
             "#bd3786"
            ],
            [
             0.5555555555555556,
             "#d8576b"
            ],
            [
             0.6666666666666666,
             "#ed7953"
            ],
            [
             0.7777777777777778,
             "#fb9f3a"
            ],
            [
             0.8888888888888888,
             "#fdca26"
            ],
            [
             1,
             "#f0f921"
            ]
           ],
           "sequentialminus": [
            [
             0,
             "#0d0887"
            ],
            [
             0.1111111111111111,
             "#46039f"
            ],
            [
             0.2222222222222222,
             "#7201a8"
            ],
            [
             0.3333333333333333,
             "#9c179e"
            ],
            [
             0.4444444444444444,
             "#bd3786"
            ],
            [
             0.5555555555555556,
             "#d8576b"
            ],
            [
             0.6666666666666666,
             "#ed7953"
            ],
            [
             0.7777777777777778,
             "#fb9f3a"
            ],
            [
             0.8888888888888888,
             "#fdca26"
            ],
            [
             1,
             "#f0f921"
            ]
           ]
          },
          "colorway": [
           "#636efa",
           "#EF553B",
           "#00cc96",
           "#ab63fa",
           "#FFA15A",
           "#19d3f3",
           "#FF6692",
           "#B6E880",
           "#FF97FF",
           "#FECB52"
          ],
          "font": {
           "color": "#2a3f5f"
          },
          "geo": {
           "bgcolor": "white",
           "lakecolor": "white",
           "landcolor": "#E5ECF6",
           "showlakes": true,
           "showland": true,
           "subunitcolor": "white"
          },
          "hoverlabel": {
           "align": "left"
          },
          "hovermode": "closest",
          "mapbox": {
           "style": "light"
          },
          "paper_bgcolor": "white",
          "plot_bgcolor": "#E5ECF6",
          "polar": {
           "angularaxis": {
            "gridcolor": "white",
            "linecolor": "white",
            "ticks": ""
           },
           "bgcolor": "#E5ECF6",
           "radialaxis": {
            "gridcolor": "white",
            "linecolor": "white",
            "ticks": ""
           }
          },
          "scene": {
           "xaxis": {
            "backgroundcolor": "#E5ECF6",
            "gridcolor": "white",
            "gridwidth": 2,
            "linecolor": "white",
            "showbackground": true,
            "ticks": "",
            "zerolinecolor": "white"
           },
           "yaxis": {
            "backgroundcolor": "#E5ECF6",
            "gridcolor": "white",
            "gridwidth": 2,
            "linecolor": "white",
            "showbackground": true,
            "ticks": "",
            "zerolinecolor": "white"
           },
           "zaxis": {
            "backgroundcolor": "#E5ECF6",
            "gridcolor": "white",
            "gridwidth": 2,
            "linecolor": "white",
            "showbackground": true,
            "ticks": "",
            "zerolinecolor": "white"
           }
          },
          "shapedefaults": {
           "line": {
            "color": "#2a3f5f"
           }
          },
          "ternary": {
           "aaxis": {
            "gridcolor": "white",
            "linecolor": "white",
            "ticks": ""
           },
           "baxis": {
            "gridcolor": "white",
            "linecolor": "white",
            "ticks": ""
           },
           "bgcolor": "#E5ECF6",
           "caxis": {
            "gridcolor": "white",
            "linecolor": "white",
            "ticks": ""
           }
          },
          "title": {
           "x": 0.05
          },
          "xaxis": {
           "automargin": true,
           "gridcolor": "white",
           "linecolor": "white",
           "ticks": "",
           "title": {
            "standoff": 15
           },
           "zerolinecolor": "white",
           "zerolinewidth": 2
          },
          "yaxis": {
           "automargin": true,
           "gridcolor": "white",
           "linecolor": "white",
           "ticks": "",
           "title": {
            "standoff": 15
           },
           "zerolinecolor": "white",
           "zerolinewidth": 2
          }
         }
        },
        "title": {
         "text": "Slice Plot - LightGBM base_img 56 pca v8"
        },
        "width": 3000,
        "xaxis": {
         "anchor": "y",
         "domain": [
          0,
          0.082
         ],
         "title": {
          "text": "model__colsample_bytree"
         }
        },
        "xaxis10": {
         "anchor": "y10",
         "domain": [
          0.9179999999999999,
          0.9999999999999999
         ],
         "title": {
          "text": "model__subsample"
         }
        },
        "xaxis2": {
         "anchor": "y2",
         "domain": [
          0.10200000000000001,
          0.184
         ],
         "title": {
          "text": "model__learning_rate"
         },
         "type": "log"
        },
        "xaxis3": {
         "anchor": "y3",
         "domain": [
          0.20400000000000001,
          0.28600000000000003
         ],
         "title": {
          "text": "model__max_depth"
         }
        },
        "xaxis4": {
         "anchor": "y4",
         "domain": [
          0.306,
          0.388
         ],
         "title": {
          "text": "model__min_child_samples"
         }
        },
        "xaxis5": {
         "anchor": "y5",
         "domain": [
          0.40800000000000003,
          0.49000000000000005
         ],
         "title": {
          "text": "model__n_estimators"
         }
        },
        "xaxis6": {
         "anchor": "y6",
         "domain": [
          0.51,
          0.592
         ],
         "title": {
          "text": "model__num_leaves"
         }
        },
        "xaxis7": {
         "anchor": "y7",
         "categoryarray": [
          "regression_l2",
          "huber",
          "regression_l1"
         ],
         "categoryorder": "array",
         "domain": [
          0.612,
          0.694
         ],
         "title": {
          "text": "model__objective"
         },
         "type": "category"
        },
        "xaxis8": {
         "anchor": "y8",
         "domain": [
          0.7140000000000001,
          0.796
         ],
         "title": {
          "text": "model__reg_alpha"
         },
         "type": "log"
        },
        "xaxis9": {
         "anchor": "y9",
         "domain": [
          0.8160000000000001,
          0.898
         ],
         "title": {
          "text": "model__reg_lambda"
         },
         "type": "log"
        },
        "yaxis": {
         "anchor": "x",
         "domain": [
          0,
          1
         ],
         "title": {
          "text": "Objective Value"
         }
        },
        "yaxis10": {
         "anchor": "x10",
         "domain": [
          0,
          1
         ],
         "matches": "y",
         "showticklabels": false
        },
        "yaxis2": {
         "anchor": "x2",
         "domain": [
          0,
          1
         ],
         "matches": "y",
         "showticklabels": false
        },
        "yaxis3": {
         "anchor": "x3",
         "domain": [
          0,
          1
         ],
         "matches": "y",
         "showticklabels": false
        },
        "yaxis4": {
         "anchor": "x4",
         "domain": [
          0,
          1
         ],
         "matches": "y",
         "showticklabels": false
        },
        "yaxis5": {
         "anchor": "x5",
         "domain": [
          0,
          1
         ],
         "matches": "y",
         "showticklabels": false
        },
        "yaxis6": {
         "anchor": "x6",
         "domain": [
          0,
          1
         ],
         "matches": "y",
         "showticklabels": false
        },
        "yaxis7": {
         "anchor": "x7",
         "domain": [
          0,
          1
         ],
         "matches": "y",
         "showticklabels": false
        },
        "yaxis8": {
         "anchor": "x8",
         "domain": [
          0,
          1
         ],
         "matches": "y",
         "showticklabels": false
        },
        "yaxis9": {
         "anchor": "x9",
         "domain": [
          0,
          1
         ],
         "matches": "y",
         "showticklabels": false
        }
       }
      }
     },
     "metadata": {},
     "output_type": "display_data"
    }
   ],
   "source": [
    "# Create slice plots for each study\n",
    "for name, study in loaded_studies.items():\n",
    "    print(f\"\\nSlice plot for: {name}\")\n",
    "    fig = optuna.visualization.plot_slice(study)\n",
    "    fig.update_layout(\n",
    "        #height=800,\n",
    "        #width=1200,\n",
    "        title_text=f\"Slice Plot - {extract_short_study_name(name)}\",\n",
    "        #title_x=0.5\n",
    "\n",
    "    )\n",
    "    fig.show()\n"
   ]
  },
  {
   "cell_type": "code",
   "execution_count": 10,
   "metadata": {},
   "outputs": [
    {
     "name": "stdout",
     "output_type": "stream",
     "text": [
      "{'model__objective': 'regression_l2', 'model__learning_rate': 0.011887396180653893, 'model__n_estimators': 5400, 'model__num_leaves': 228, 'model__max_depth': 136, 'model__min_child_samples': 48, 'model__subsample': 0.8210028297163644, 'model__colsample_bytree': 0.6837500455490874, 'model__reg_alpha': 0.00035186259300270015, 'model__reg_lambda': 0.0006700023201929432}\n"
     ]
    }
   ],
   "source": [
    "# get best hyperparameters from a study\n",
    "\n",
    "study_name = \"LightGBM_rfecv_all_nfeat_158_pca_count_loc_mape_v6_study\"\n",
    "study = optuna.load_study(study_name=study_name, storage=STUDY_DB_PATH)\n",
    "best_trial = study.best_trial\n",
    "\n",
    "print(best_trial.params)"
   ]
  }
 ],
 "metadata": {
  "kernelspec": {
   "display_name": ".venv",
   "language": "python",
   "name": "python3"
  },
  "language_info": {
   "codemirror_mode": {
    "name": "ipython",
    "version": 3
   },
   "file_extension": ".py",
   "mimetype": "text/x-python",
   "name": "python",
   "nbconvert_exporter": "python",
   "pygments_lexer": "ipython3",
   "version": "3.12.0"
  }
 },
 "nbformat": 4,
 "nbformat_minor": 2
}
